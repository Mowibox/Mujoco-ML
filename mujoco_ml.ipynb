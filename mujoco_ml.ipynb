{
 "cells": [
  {
   "cell_type": "markdown",
   "metadata": {},
   "source": [
    "# Machine Learning applied to MuJoCo environment\n",
    "\n",
    "* ### Author: Mowibox (Ousmane THIONGANE)\n",
    "* ### Date: November 4th, 2024"
   ]
  },
  {
   "cell_type": "markdown",
   "metadata": {},
   "source": [
    "## Imports"
   ]
  },
  {
   "cell_type": "code",
   "execution_count": 24,
   "metadata": {},
   "outputs": [],
   "source": [
    "import numpy as np\n",
    "import pandas as pd\n",
    "import tensorflow as tf\n",
    "import matplotlib.pyplot as plt\n",
    "from tensorflow.keras.losses import MSE\n",
    "from sklearn.preprocessing import MinMaxScaler # We will see later\n",
    "from tensorflow.keras.optimizers import Adam, SGD\n",
    "from sklearn.model_selection import train_test_split\n",
    "from tensorflow.keras.layers import Input, Dense, Dropout\n",
    "from tensorflow.keras.models import Sequential, load_model, save_model"
   ]
  },
  {
   "cell_type": "markdown",
   "metadata": {},
   "source": [
    "## I - Context "
   ]
  },
  {
   "cell_type": "markdown",
   "metadata": {},
   "source": [
    "The main goal of this project is to create a Machine Learning model and training it to learn Forward Kinematics (by configuring an input value for the position and orientation of the end effector of a robotic arm, we return the values of the joints that enable this point to be reached)."
   ]
  },
  {
   "cell_type": "markdown",
   "metadata": {},
   "source": [
    "## II - Datasets generation"
   ]
  },
  {
   "cell_type": "markdown",
   "metadata": {},
   "source": [
    "In this part, we will prepare the data to perform a regression the by generatinig the datasets."
   ]
  },
  {
   "cell_type": "markdown",
   "metadata": {},
   "source": [
    "### 1) 2D with 2 joints"
   ]
  },
  {
   "cell_type": "markdown",
   "metadata": {},
   "source": [
    "Firstly, we record a sequence with by launching the script with the command line: `python3 run.py -env r2 -seed 2184503 -steps 100000 --log > 2R_2184503_100.csv`. This allows us to save the data in a csv and display it with pandas\n",
    "\n",
    "The filename format is \"\\<model>\\_\\<seed>\\_\\<nr. of samples>.csv\". Here 2R is the 2D with 2 joints model, 2184503 for the random seed 2184503 and 100 for 100k steps:"
   ]
  },
  {
   "cell_type": "code",
   "execution_count": 25,
   "metadata": {},
   "outputs": [
    {
     "data": {
      "text/html": [
       "<div>\n",
       "<style scoped>\n",
       "    .dataframe tbody tr th:only-of-type {\n",
       "        vertical-align: middle;\n",
       "    }\n",
       "\n",
       "    .dataframe tbody tr th {\n",
       "        vertical-align: top;\n",
       "    }\n",
       "\n",
       "    .dataframe thead th {\n",
       "        text-align: right;\n",
       "    }\n",
       "</style>\n",
       "<table border=\"1\" class=\"dataframe\">\n",
       "  <thead>\n",
       "    <tr style=\"text-align: right;\">\n",
       "      <th></th>\n",
       "      <th>j0</th>\n",
       "      <th>j1</th>\n",
       "      <th>cos(j0)</th>\n",
       "      <th>cos(j1)</th>\n",
       "      <th>sin(j0)</th>\n",
       "      <th>sin(j1)</th>\n",
       "      <th>ee_x</th>\n",
       "      <th>ee_y</th>\n",
       "      <th>ee_qw</th>\n",
       "      <th>ee_qz</th>\n",
       "    </tr>\n",
       "  </thead>\n",
       "  <tbody>\n",
       "    <tr>\n",
       "      <th>0</th>\n",
       "      <td>0.034</td>\n",
       "      <td>0.003</td>\n",
       "      <td>0.999</td>\n",
       "      <td>1.000</td>\n",
       "      <td>0.034</td>\n",
       "      <td>0.003</td>\n",
       "      <td>0.210</td>\n",
       "      <td>0.007</td>\n",
       "      <td>1.000</td>\n",
       "      <td>0.018</td>\n",
       "    </tr>\n",
       "    <tr>\n",
       "      <th>1</th>\n",
       "      <td>0.048</td>\n",
       "      <td>0.004</td>\n",
       "      <td>0.999</td>\n",
       "      <td>1.000</td>\n",
       "      <td>0.048</td>\n",
       "      <td>0.004</td>\n",
       "      <td>0.210</td>\n",
       "      <td>0.010</td>\n",
       "      <td>1.000</td>\n",
       "      <td>0.026</td>\n",
       "    </tr>\n",
       "    <tr>\n",
       "      <th>2</th>\n",
       "      <td>0.073</td>\n",
       "      <td>0.038</td>\n",
       "      <td>0.997</td>\n",
       "      <td>0.999</td>\n",
       "      <td>0.073</td>\n",
       "      <td>0.038</td>\n",
       "      <td>0.209</td>\n",
       "      <td>0.020</td>\n",
       "      <td>0.998</td>\n",
       "      <td>0.056</td>\n",
       "    </tr>\n",
       "    <tr>\n",
       "      <th>3</th>\n",
       "      <td>0.093</td>\n",
       "      <td>0.098</td>\n",
       "      <td>0.996</td>\n",
       "      <td>0.995</td>\n",
       "      <td>0.093</td>\n",
       "      <td>0.098</td>\n",
       "      <td>0.208</td>\n",
       "      <td>0.030</td>\n",
       "      <td>0.995</td>\n",
       "      <td>0.096</td>\n",
       "    </tr>\n",
       "    <tr>\n",
       "      <th>4</th>\n",
       "      <td>0.136</td>\n",
       "      <td>0.153</td>\n",
       "      <td>0.991</td>\n",
       "      <td>0.988</td>\n",
       "      <td>0.135</td>\n",
       "      <td>0.152</td>\n",
       "      <td>0.205</td>\n",
       "      <td>0.045</td>\n",
       "      <td>0.990</td>\n",
       "      <td>0.144</td>\n",
       "    </tr>\n",
       "  </tbody>\n",
       "</table>\n",
       "</div>"
      ],
      "text/plain": [
       "      j0     j1   cos(j0)   cos(j1)   sin(j0)   sin(j1)   ee_x   ee_y   ee_qw  \\\n",
       "0  0.034  0.003     0.999     1.000     0.034     0.003  0.210  0.007   1.000   \n",
       "1  0.048  0.004     0.999     1.000     0.048     0.004  0.210  0.010   1.000   \n",
       "2  0.073  0.038     0.997     0.999     0.073     0.038  0.209  0.020   0.998   \n",
       "3  0.093  0.098     0.996     0.995     0.093     0.098  0.208  0.030   0.995   \n",
       "4  0.136  0.153     0.991     0.988     0.135     0.152  0.205  0.045   0.990   \n",
       "\n",
       "    ee_qz  \n",
       "0   0.018  \n",
       "1   0.026  \n",
       "2   0.056  \n",
       "3   0.096  \n",
       "4   0.144  "
      ]
     },
     "metadata": {},
     "output_type": "display_data"
    },
    {
     "name": "stdout",
     "output_type": "stream",
     "text": [
      "<class 'pandas.core.frame.DataFrame'>\n",
      "RangeIndex: 100000 entries, 0 to 99999\n",
      "Data columns (total 10 columns):\n",
      " #   Column    Non-Null Count   Dtype  \n",
      "---  ------    --------------   -----  \n",
      " 0   j0        100000 non-null  float64\n",
      " 1    j1       100000 non-null  float64\n",
      " 2    cos(j0)  100000 non-null  float64\n",
      " 3    cos(j1)  100000 non-null  float64\n",
      " 4    sin(j0)  100000 non-null  float64\n",
      " 5    sin(j1)  100000 non-null  float64\n",
      " 6    ee_x     100000 non-null  float64\n",
      " 7    ee_y     100000 non-null  float64\n",
      " 8    ee_qw    100000 non-null  float64\n",
      " 9    ee_qz    100000 non-null  float64\n",
      "dtypes: float64(10)\n",
      "memory usage: 7.6 MB\n"
     ]
    }
   ],
   "source": [
    "filepath_2R = r'data/2R_2184503_100.csv'\n",
    "df_2R = pd.read_csv(filepath_2R, sep=\";\", header=0).copy()\n",
    "\n",
    "display(df_2R.head(5))\n",
    "df_2R.info()"
   ]
  },
  {
   "cell_type": "markdown",
   "metadata": {},
   "source": [
    "The .csv contains many informations about the simulation such as:\n",
    "- The joints angles $j_0$, $j_1$\n",
    "- The sine and the cosine of the joints angles: $\\cos(j_0)$, $\\sin(j_0)$, $\\cos(j_1)$, $\\sin(j_1)$\n",
    "- The end-effector pose: $(x,y) = (ee_x, ee_y)$\n",
    "- The end-effector orientation, based on quaternions: $q = (w,z) = (\\cos(\\frac{\\theta_z}{2}), \\sin(\\frac{\\theta_z}{2})) = ((ee_{qw})$, $(ee_{qz}))$ \n",
    "\n"
   ]
  },
  {
   "cell_type": "markdown",
   "metadata": {},
   "source": [
    "#### 1.a) Joint angles"
   ]
  },
  {
   "cell_type": "code",
   "execution_count": 26,
   "metadata": {},
   "outputs": [
    {
     "data": {
      "text/html": [
       "<div>\n",
       "<style scoped>\n",
       "    .dataframe tbody tr th:only-of-type {\n",
       "        vertical-align: middle;\n",
       "    }\n",
       "\n",
       "    .dataframe tbody tr th {\n",
       "        vertical-align: top;\n",
       "    }\n",
       "\n",
       "    .dataframe thead th {\n",
       "        text-align: right;\n",
       "    }\n",
       "</style>\n",
       "<table border=\"1\" class=\"dataframe\">\n",
       "  <thead>\n",
       "    <tr style=\"text-align: right;\">\n",
       "      <th></th>\n",
       "      <th>cos(j0)</th>\n",
       "      <th>sin(j0)</th>\n",
       "      <th>cos(j1)</th>\n",
       "      <th>sin(j1)</th>\n",
       "    </tr>\n",
       "  </thead>\n",
       "  <tbody>\n",
       "    <tr>\n",
       "      <th>0</th>\n",
       "      <td>0.999</td>\n",
       "      <td>0.034</td>\n",
       "      <td>1.000</td>\n",
       "      <td>0.003</td>\n",
       "    </tr>\n",
       "    <tr>\n",
       "      <th>1</th>\n",
       "      <td>0.999</td>\n",
       "      <td>0.048</td>\n",
       "      <td>1.000</td>\n",
       "      <td>0.004</td>\n",
       "    </tr>\n",
       "    <tr>\n",
       "      <th>2</th>\n",
       "      <td>0.997</td>\n",
       "      <td>0.073</td>\n",
       "      <td>0.999</td>\n",
       "      <td>0.038</td>\n",
       "    </tr>\n",
       "    <tr>\n",
       "      <th>3</th>\n",
       "      <td>0.996</td>\n",
       "      <td>0.093</td>\n",
       "      <td>0.995</td>\n",
       "      <td>0.098</td>\n",
       "    </tr>\n",
       "    <tr>\n",
       "      <th>4</th>\n",
       "      <td>0.991</td>\n",
       "      <td>0.135</td>\n",
       "      <td>0.988</td>\n",
       "      <td>0.152</td>\n",
       "    </tr>\n",
       "  </tbody>\n",
       "</table>\n",
       "</div>"
      ],
      "text/plain": [
       "   cos(j0)  sin(j0)  cos(j1)  sin(j1)\n",
       "0    0.999    0.034    1.000    0.003\n",
       "1    0.999    0.048    1.000    0.004\n",
       "2    0.997    0.073    0.999    0.038\n",
       "3    0.996    0.093    0.995    0.098\n",
       "4    0.991    0.135    0.988    0.152"
      ]
     },
     "metadata": {},
     "output_type": "display_data"
    }
   ],
   "source": [
    "X_2R = df_2R[[' cos(j0)', ' sin(j0)', ' cos(j1)', ' sin(j1)']].values\n",
    "\n",
    "X_2R = pd.DataFrame(X_2R, columns=['cos(j0)', 'sin(j0)', 'cos(j1)', 'sin(j1)'])\n",
    "display(X_2R.head(5))"
   ]
  },
  {
   "cell_type": "markdown",
   "metadata": {},
   "source": [
    "#### 1.b) Fingertip position"
   ]
  },
  {
   "cell_type": "code",
   "execution_count": 27,
   "metadata": {},
   "outputs": [],
   "source": [
    "y_2R_pos = df_2R[[' ee_x', ' ee_y']].values"
   ]
  },
  {
   "cell_type": "markdown",
   "metadata": {},
   "source": [
    "#### 1.c) Fingertip orientation"
   ]
  },
  {
   "cell_type": "code",
   "execution_count": 28,
   "metadata": {},
   "outputs": [],
   "source": [
    "y_2R_ori = df_2R[[' ee_qw', ' ee_qz']].values"
   ]
  },
  {
   "cell_type": "markdown",
   "metadata": {},
   "source": [
    "Here, I choose to merge the end-effector position and orientation in one dataframe, so I can also try what will happened when all the outputs are provided to the model. "
   ]
  },
  {
   "cell_type": "code",
   "execution_count": 29,
   "metadata": {},
   "outputs": [
    {
     "data": {
      "text/html": [
       "<div>\n",
       "<style scoped>\n",
       "    .dataframe tbody tr th:only-of-type {\n",
       "        vertical-align: middle;\n",
       "    }\n",
       "\n",
       "    .dataframe tbody tr th {\n",
       "        vertical-align: top;\n",
       "    }\n",
       "\n",
       "    .dataframe thead th {\n",
       "        text-align: right;\n",
       "    }\n",
       "</style>\n",
       "<table border=\"1\" class=\"dataframe\">\n",
       "  <thead>\n",
       "    <tr style=\"text-align: right;\">\n",
       "      <th></th>\n",
       "      <th>ee_x</th>\n",
       "      <th>ee_y</th>\n",
       "      <th>ee_qw</th>\n",
       "      <th>ee_qz</th>\n",
       "    </tr>\n",
       "  </thead>\n",
       "  <tbody>\n",
       "    <tr>\n",
       "      <th>0</th>\n",
       "      <td>0.210</td>\n",
       "      <td>0.007</td>\n",
       "      <td>1.000</td>\n",
       "      <td>0.018</td>\n",
       "    </tr>\n",
       "    <tr>\n",
       "      <th>1</th>\n",
       "      <td>0.210</td>\n",
       "      <td>0.010</td>\n",
       "      <td>1.000</td>\n",
       "      <td>0.026</td>\n",
       "    </tr>\n",
       "    <tr>\n",
       "      <th>2</th>\n",
       "      <td>0.209</td>\n",
       "      <td>0.020</td>\n",
       "      <td>0.998</td>\n",
       "      <td>0.056</td>\n",
       "    </tr>\n",
       "    <tr>\n",
       "      <th>3</th>\n",
       "      <td>0.208</td>\n",
       "      <td>0.030</td>\n",
       "      <td>0.995</td>\n",
       "      <td>0.096</td>\n",
       "    </tr>\n",
       "    <tr>\n",
       "      <th>4</th>\n",
       "      <td>0.205</td>\n",
       "      <td>0.045</td>\n",
       "      <td>0.990</td>\n",
       "      <td>0.144</td>\n",
       "    </tr>\n",
       "  </tbody>\n",
       "</table>\n",
       "</div>"
      ],
      "text/plain": [
       "    ee_x   ee_y  ee_qw  ee_qz\n",
       "0  0.210  0.007  1.000  0.018\n",
       "1  0.210  0.010  1.000  0.026\n",
       "2  0.209  0.020  0.998  0.056\n",
       "3  0.208  0.030  0.995  0.096\n",
       "4  0.205  0.045  0.990  0.144"
      ]
     },
     "metadata": {},
     "output_type": "display_data"
    }
   ],
   "source": [
    "y_2R = pd.concat([pd.DataFrame(y_2R_pos, columns=['ee_x', 'ee_y']), \n",
    "                         pd.DataFrame(y_2R_ori, columns=['ee_qw', 'ee_qz'])], axis=1)\n",
    "\n",
    "display(y_2R.head(5))"
   ]
  },
  {
   "cell_type": "markdown",
   "metadata": {},
   "source": [
    "### 2) 2D with 3 joints "
   ]
  },
  {
   "cell_type": "markdown",
   "metadata": {},
   "source": [
    "The 3R robot .csv contains the following informations:\n",
    "- The joints angles $j_0$, $j_1$, $j_2$ \n",
    "- The sine and the cosine of the joints angles: $\\cos(j_0)$, $\\sin(j_0)$, $\\cos(j_1)$, $\\sin(j_1)$, $\\cos(j_2)$, $\\sin(j_2)$\n",
    "- The end-effector pose: $(x,y) = (ee_x, ee_y)$\n",
    "- The end-effector orientation, based on quaternions: $q = (w,z) = (\\cos(\\frac{\\theta_z}{2}), \\sin(\\frac{\\theta_z}{2})) = ((ee_{qw})$, $(ee_{qz}))$ \n"
   ]
  },
  {
   "cell_type": "code",
   "execution_count": 30,
   "metadata": {},
   "outputs": [
    {
     "data": {
      "text/html": [
       "<div>\n",
       "<style scoped>\n",
       "    .dataframe tbody tr th:only-of-type {\n",
       "        vertical-align: middle;\n",
       "    }\n",
       "\n",
       "    .dataframe tbody tr th {\n",
       "        vertical-align: top;\n",
       "    }\n",
       "\n",
       "    .dataframe thead th {\n",
       "        text-align: right;\n",
       "    }\n",
       "</style>\n",
       "<table border=\"1\" class=\"dataframe\">\n",
       "  <thead>\n",
       "    <tr style=\"text-align: right;\">\n",
       "      <th></th>\n",
       "      <th>j0</th>\n",
       "      <th>j1</th>\n",
       "      <th>j2</th>\n",
       "      <th>cos(j0)</th>\n",
       "      <th>cos(j1)</th>\n",
       "      <th>cos(j2)</th>\n",
       "      <th>sin(j0)</th>\n",
       "      <th>sin(j1)</th>\n",
       "      <th>sin(j2)</th>\n",
       "      <th>ee_x</th>\n",
       "      <th>ee_y</th>\n",
       "      <th>ee_qw</th>\n",
       "      <th>ee_qz</th>\n",
       "    </tr>\n",
       "  </thead>\n",
       "  <tbody>\n",
       "    <tr>\n",
       "      <th>0</th>\n",
       "      <td>0.034</td>\n",
       "      <td>0.003</td>\n",
       "      <td>-0.002</td>\n",
       "      <td>0.999</td>\n",
       "      <td>1.000</td>\n",
       "      <td>1.000</td>\n",
       "      <td>0.034</td>\n",
       "      <td>0.003</td>\n",
       "      <td>-0.002</td>\n",
       "      <td>0.310</td>\n",
       "      <td>0.011</td>\n",
       "      <td>1.000</td>\n",
       "      <td>0.017</td>\n",
       "    </tr>\n",
       "    <tr>\n",
       "      <th>1</th>\n",
       "      <td>0.047</td>\n",
       "      <td>0.004</td>\n",
       "      <td>-0.003</td>\n",
       "      <td>0.999</td>\n",
       "      <td>1.000</td>\n",
       "      <td>1.000</td>\n",
       "      <td>0.047</td>\n",
       "      <td>0.004</td>\n",
       "      <td>-0.003</td>\n",
       "      <td>0.310</td>\n",
       "      <td>0.015</td>\n",
       "      <td>1.000</td>\n",
       "      <td>0.024</td>\n",
       "    </tr>\n",
       "    <tr>\n",
       "      <th>2</th>\n",
       "      <td>0.105</td>\n",
       "      <td>0.001</td>\n",
       "      <td>-0.008</td>\n",
       "      <td>0.994</td>\n",
       "      <td>1.000</td>\n",
       "      <td>1.000</td>\n",
       "      <td>0.105</td>\n",
       "      <td>0.001</td>\n",
       "      <td>-0.008</td>\n",
       "      <td>0.308</td>\n",
       "      <td>0.032</td>\n",
       "      <td>0.999</td>\n",
       "      <td>0.049</td>\n",
       "    </tr>\n",
       "    <tr>\n",
       "      <th>3</th>\n",
       "      <td>0.222</td>\n",
       "      <td>-0.009</td>\n",
       "      <td>-0.014</td>\n",
       "      <td>0.975</td>\n",
       "      <td>1.000</td>\n",
       "      <td>1.000</td>\n",
       "      <td>0.220</td>\n",
       "      <td>-0.009</td>\n",
       "      <td>-0.014</td>\n",
       "      <td>0.303</td>\n",
       "      <td>0.065</td>\n",
       "      <td>0.995</td>\n",
       "      <td>0.099</td>\n",
       "    </tr>\n",
       "    <tr>\n",
       "      <th>4</th>\n",
       "      <td>0.369</td>\n",
       "      <td>-0.042</td>\n",
       "      <td>-0.041</td>\n",
       "      <td>0.933</td>\n",
       "      <td>0.999</td>\n",
       "      <td>0.999</td>\n",
       "      <td>0.361</td>\n",
       "      <td>-0.042</td>\n",
       "      <td>-0.041</td>\n",
       "      <td>0.293</td>\n",
       "      <td>0.099</td>\n",
       "      <td>0.990</td>\n",
       "      <td>0.143</td>\n",
       "    </tr>\n",
       "  </tbody>\n",
       "</table>\n",
       "</div>"
      ],
      "text/plain": [
       "      j0     j1     j2   cos(j0)   cos(j1)   cos(j2)   sin(j0)   sin(j1)  \\\n",
       "0  0.034  0.003 -0.002     0.999     1.000     1.000     0.034     0.003   \n",
       "1  0.047  0.004 -0.003     0.999     1.000     1.000     0.047     0.004   \n",
       "2  0.105  0.001 -0.008     0.994     1.000     1.000     0.105     0.001   \n",
       "3  0.222 -0.009 -0.014     0.975     1.000     1.000     0.220    -0.009   \n",
       "4  0.369 -0.042 -0.041     0.933     0.999     0.999     0.361    -0.042   \n",
       "\n",
       "    sin(j2)   ee_x   ee_y   ee_qw   ee_qz  \n",
       "0    -0.002  0.310  0.011   1.000   0.017  \n",
       "1    -0.003  0.310  0.015   1.000   0.024  \n",
       "2    -0.008  0.308  0.032   0.999   0.049  \n",
       "3    -0.014  0.303  0.065   0.995   0.099  \n",
       "4    -0.041  0.293  0.099   0.990   0.143  "
      ]
     },
     "metadata": {},
     "output_type": "display_data"
    },
    {
     "name": "stdout",
     "output_type": "stream",
     "text": [
      "<class 'pandas.core.frame.DataFrame'>\n",
      "RangeIndex: 100000 entries, 0 to 99999\n",
      "Data columns (total 13 columns):\n",
      " #   Column    Non-Null Count   Dtype  \n",
      "---  ------    --------------   -----  \n",
      " 0   j0        100000 non-null  float64\n",
      " 1    j1       100000 non-null  float64\n",
      " 2    j2       100000 non-null  float64\n",
      " 3    cos(j0)  100000 non-null  float64\n",
      " 4    cos(j1)  100000 non-null  float64\n",
      " 5    cos(j2)  100000 non-null  float64\n",
      " 6    sin(j0)  100000 non-null  float64\n",
      " 7    sin(j1)  100000 non-null  float64\n",
      " 8    sin(j2)  100000 non-null  float64\n",
      " 9    ee_x     100000 non-null  float64\n",
      " 10   ee_y     100000 non-null  float64\n",
      " 11   ee_qw    100000 non-null  float64\n",
      " 12   ee_qz    100000 non-null  float64\n",
      "dtypes: float64(13)\n",
      "memory usage: 9.9 MB\n"
     ]
    }
   ],
   "source": [
    "filepath_3R = r'data/3R_2184503_100.csv'\n",
    "df_3R = pd.read_csv(filepath_3R, sep=\";\", header=0).copy()\n",
    "\n",
    "display(df_3R.head(5))\n",
    "df_3R.info()"
   ]
  },
  {
   "cell_type": "markdown",
   "metadata": {},
   "source": [
    "The processing of the data is basically the same as on the previous part:"
   ]
  },
  {
   "cell_type": "markdown",
   "metadata": {},
   "source": [
    "#### 2.a) Joint angles"
   ]
  },
  {
   "cell_type": "code",
   "execution_count": 31,
   "metadata": {},
   "outputs": [
    {
     "data": {
      "text/html": [
       "<div>\n",
       "<style scoped>\n",
       "    .dataframe tbody tr th:only-of-type {\n",
       "        vertical-align: middle;\n",
       "    }\n",
       "\n",
       "    .dataframe tbody tr th {\n",
       "        vertical-align: top;\n",
       "    }\n",
       "\n",
       "    .dataframe thead th {\n",
       "        text-align: right;\n",
       "    }\n",
       "</style>\n",
       "<table border=\"1\" class=\"dataframe\">\n",
       "  <thead>\n",
       "    <tr style=\"text-align: right;\">\n",
       "      <th></th>\n",
       "      <th>cos(j0)</th>\n",
       "      <th>sin(j0)</th>\n",
       "      <th>cos(j1)</th>\n",
       "      <th>sin(j1)</th>\n",
       "      <th>cos(j2)</th>\n",
       "      <th>sin(j2)</th>\n",
       "    </tr>\n",
       "  </thead>\n",
       "  <tbody>\n",
       "    <tr>\n",
       "      <th>0</th>\n",
       "      <td>0.999</td>\n",
       "      <td>0.034</td>\n",
       "      <td>1.000</td>\n",
       "      <td>0.003</td>\n",
       "      <td>1.000</td>\n",
       "      <td>-0.002</td>\n",
       "    </tr>\n",
       "    <tr>\n",
       "      <th>1</th>\n",
       "      <td>0.999</td>\n",
       "      <td>0.047</td>\n",
       "      <td>1.000</td>\n",
       "      <td>0.004</td>\n",
       "      <td>1.000</td>\n",
       "      <td>-0.003</td>\n",
       "    </tr>\n",
       "    <tr>\n",
       "      <th>2</th>\n",
       "      <td>0.994</td>\n",
       "      <td>0.105</td>\n",
       "      <td>1.000</td>\n",
       "      <td>0.001</td>\n",
       "      <td>1.000</td>\n",
       "      <td>-0.008</td>\n",
       "    </tr>\n",
       "    <tr>\n",
       "      <th>3</th>\n",
       "      <td>0.975</td>\n",
       "      <td>0.220</td>\n",
       "      <td>1.000</td>\n",
       "      <td>-0.009</td>\n",
       "      <td>1.000</td>\n",
       "      <td>-0.014</td>\n",
       "    </tr>\n",
       "    <tr>\n",
       "      <th>4</th>\n",
       "      <td>0.933</td>\n",
       "      <td>0.361</td>\n",
       "      <td>0.999</td>\n",
       "      <td>-0.042</td>\n",
       "      <td>0.999</td>\n",
       "      <td>-0.041</td>\n",
       "    </tr>\n",
       "  </tbody>\n",
       "</table>\n",
       "</div>"
      ],
      "text/plain": [
       "   cos(j0)  sin(j0)  cos(j1)  sin(j1)  cos(j2)  sin(j2)\n",
       "0    0.999    0.034    1.000    0.003    1.000   -0.002\n",
       "1    0.999    0.047    1.000    0.004    1.000   -0.003\n",
       "2    0.994    0.105    1.000    0.001    1.000   -0.008\n",
       "3    0.975    0.220    1.000   -0.009    1.000   -0.014\n",
       "4    0.933    0.361    0.999   -0.042    0.999   -0.041"
      ]
     },
     "metadata": {},
     "output_type": "display_data"
    }
   ],
   "source": [
    "X_3R = df_3R[[' cos(j0)', ' sin(j0)', ' cos(j1)', ' sin(j1)', ' cos(j2)', ' sin(j2)']].values\n",
    "X_3R = pd.DataFrame(X_3R, columns=['cos(j0)', 'sin(j0)', 'cos(j1)', 'sin(j1)', 'cos(j2)', 'sin(j2)'])\n",
    "display(X_3R.head(5))"
   ]
  },
  {
   "cell_type": "markdown",
   "metadata": {},
   "source": [
    "#### 2.b) Fingertip position"
   ]
  },
  {
   "cell_type": "code",
   "execution_count": 32,
   "metadata": {},
   "outputs": [],
   "source": [
    "y_3R_pos = df_3R[[' ee_x', ' ee_y']].values"
   ]
  },
  {
   "cell_type": "markdown",
   "metadata": {},
   "source": [
    "#### 2.c) Fingertip orientation"
   ]
  },
  {
   "cell_type": "code",
   "execution_count": 33,
   "metadata": {},
   "outputs": [],
   "source": [
    "y_3R_ori = df_3R[[' ee_qw', ' ee_qz']].values"
   ]
  },
  {
   "cell_type": "code",
   "execution_count": 34,
   "metadata": {},
   "outputs": [
    {
     "data": {
      "text/html": [
       "<div>\n",
       "<style scoped>\n",
       "    .dataframe tbody tr th:only-of-type {\n",
       "        vertical-align: middle;\n",
       "    }\n",
       "\n",
       "    .dataframe tbody tr th {\n",
       "        vertical-align: top;\n",
       "    }\n",
       "\n",
       "    .dataframe thead th {\n",
       "        text-align: right;\n",
       "    }\n",
       "</style>\n",
       "<table border=\"1\" class=\"dataframe\">\n",
       "  <thead>\n",
       "    <tr style=\"text-align: right;\">\n",
       "      <th></th>\n",
       "      <th>ee_x</th>\n",
       "      <th>ee_y</th>\n",
       "      <th>ee_qw</th>\n",
       "      <th>ee_qz</th>\n",
       "    </tr>\n",
       "  </thead>\n",
       "  <tbody>\n",
       "    <tr>\n",
       "      <th>0</th>\n",
       "      <td>0.310</td>\n",
       "      <td>0.011</td>\n",
       "      <td>1.000</td>\n",
       "      <td>0.017</td>\n",
       "    </tr>\n",
       "    <tr>\n",
       "      <th>1</th>\n",
       "      <td>0.310</td>\n",
       "      <td>0.015</td>\n",
       "      <td>1.000</td>\n",
       "      <td>0.024</td>\n",
       "    </tr>\n",
       "    <tr>\n",
       "      <th>2</th>\n",
       "      <td>0.308</td>\n",
       "      <td>0.032</td>\n",
       "      <td>0.999</td>\n",
       "      <td>0.049</td>\n",
       "    </tr>\n",
       "    <tr>\n",
       "      <th>3</th>\n",
       "      <td>0.303</td>\n",
       "      <td>0.065</td>\n",
       "      <td>0.995</td>\n",
       "      <td>0.099</td>\n",
       "    </tr>\n",
       "    <tr>\n",
       "      <th>4</th>\n",
       "      <td>0.293</td>\n",
       "      <td>0.099</td>\n",
       "      <td>0.990</td>\n",
       "      <td>0.143</td>\n",
       "    </tr>\n",
       "  </tbody>\n",
       "</table>\n",
       "</div>"
      ],
      "text/plain": [
       "    ee_x   ee_y  ee_qw  ee_qz\n",
       "0  0.310  0.011  1.000  0.017\n",
       "1  0.310  0.015  1.000  0.024\n",
       "2  0.308  0.032  0.999  0.049\n",
       "3  0.303  0.065  0.995  0.099\n",
       "4  0.293  0.099  0.990  0.143"
      ]
     },
     "metadata": {},
     "output_type": "display_data"
    }
   ],
   "source": [
    "y_3R = pd.concat([pd.DataFrame(y_3R_pos, columns=['ee_x', 'ee_y']), \n",
    "                         pd.DataFrame(y_3R_ori, columns=['ee_qw', 'ee_qz'])], axis=1)\n",
    "\n",
    "display(y_3R.head(5))"
   ]
  },
  {
   "cell_type": "markdown",
   "metadata": {},
   "source": [
    "### 3) 3D with 5 joints"
   ]
  },
  {
   "cell_type": "markdown",
   "metadata": {},
   "source": [
    "Since the 5R robot .csv is a 3D-case, the end-effector pose will contain more components:\n",
    "- The joints angles $j_0$, $j_1$, $j_2$, $j_3$, $j_4$ \n",
    "- The sine and the cosine of the joints angles: $\\cos(j_0)$, $\\sin(j_0)$, $\\cos(j_1)$, $\\sin(j_1)$, $\\cos(j_2)$, $\\sin(j_2)$, $\\cos(j_3)$, $\\sin(j_3)$, $\\cos(j_4)$, $\\sin(j_4)$\n",
    "- The end-effector pose: $(x,y,z) = (ee_x, ee_y, ee_z)$\n",
    "- The end-effector orientation, based on quaternions: $q = (w,x,y,z) = (\\cos(\\frac{\\theta}{2}), \\sin(\\frac{\\theta}{2}), \\sin(\\frac{\\theta}{2}), \\sin(\\frac{\\theta}{2})) = ((ee_{qw}), (ee_{qx}), (ee_{qy}), (ee_{qz}))$ \n"
   ]
  },
  {
   "cell_type": "code",
   "execution_count": 35,
   "metadata": {},
   "outputs": [
    {
     "data": {
      "text/html": [
       "<div>\n",
       "<style scoped>\n",
       "    .dataframe tbody tr th:only-of-type {\n",
       "        vertical-align: middle;\n",
       "    }\n",
       "\n",
       "    .dataframe tbody tr th {\n",
       "        vertical-align: top;\n",
       "    }\n",
       "\n",
       "    .dataframe thead th {\n",
       "        text-align: right;\n",
       "    }\n",
       "</style>\n",
       "<table border=\"1\" class=\"dataframe\">\n",
       "  <thead>\n",
       "    <tr style=\"text-align: right;\">\n",
       "      <th></th>\n",
       "      <th>j0</th>\n",
       "      <th>j1</th>\n",
       "      <th>j2</th>\n",
       "      <th>j3</th>\n",
       "      <th>j4</th>\n",
       "      <th>cos(j0)</th>\n",
       "      <th>cos(j1)</th>\n",
       "      <th>cos(j2)</th>\n",
       "      <th>cos(j3)</th>\n",
       "      <th>cos(j4)</th>\n",
       "      <th>...</th>\n",
       "      <th>sin(j2)</th>\n",
       "      <th>sin(j3)</th>\n",
       "      <th>sin(j4)</th>\n",
       "      <th>ee_x</th>\n",
       "      <th>ee_y</th>\n",
       "      <th>ee_z</th>\n",
       "      <th>ee_qw</th>\n",
       "      <th>ee_qx</th>\n",
       "      <th>ee_qy</th>\n",
       "      <th>ee_qz</th>\n",
       "    </tr>\n",
       "  </thead>\n",
       "  <tbody>\n",
       "    <tr>\n",
       "      <th>0</th>\n",
       "      <td>0.000</td>\n",
       "      <td>0.000</td>\n",
       "      <td>0.000</td>\n",
       "      <td>0.000</td>\n",
       "      <td>0.000</td>\n",
       "      <td>1.000</td>\n",
       "      <td>1.000</td>\n",
       "      <td>1.000</td>\n",
       "      <td>1.000</td>\n",
       "      <td>1.0</td>\n",
       "      <td>...</td>\n",
       "      <td>0.000</td>\n",
       "      <td>0.000</td>\n",
       "      <td>0.000</td>\n",
       "      <td>0.000</td>\n",
       "      <td>0.000</td>\n",
       "      <td>0.590</td>\n",
       "      <td>1.000</td>\n",
       "      <td>0.000</td>\n",
       "      <td>0.000</td>\n",
       "      <td>0.000</td>\n",
       "    </tr>\n",
       "    <tr>\n",
       "      <th>1</th>\n",
       "      <td>0.014</td>\n",
       "      <td>0.001</td>\n",
       "      <td>-0.001</td>\n",
       "      <td>0.031</td>\n",
       "      <td>-0.005</td>\n",
       "      <td>1.000</td>\n",
       "      <td>1.000</td>\n",
       "      <td>1.000</td>\n",
       "      <td>1.000</td>\n",
       "      <td>1.0</td>\n",
       "      <td>...</td>\n",
       "      <td>-0.001</td>\n",
       "      <td>0.031</td>\n",
       "      <td>-0.005</td>\n",
       "      <td>0.007</td>\n",
       "      <td>0.001</td>\n",
       "      <td>0.590</td>\n",
       "      <td>1.000</td>\n",
       "      <td>-0.003</td>\n",
       "      <td>0.016</td>\n",
       "      <td>0.007</td>\n",
       "    </tr>\n",
       "    <tr>\n",
       "      <th>2</th>\n",
       "      <td>0.037</td>\n",
       "      <td>0.031</td>\n",
       "      <td>-0.005</td>\n",
       "      <td>0.096</td>\n",
       "      <td>-0.011</td>\n",
       "      <td>0.999</td>\n",
       "      <td>1.000</td>\n",
       "      <td>1.000</td>\n",
       "      <td>0.995</td>\n",
       "      <td>1.0</td>\n",
       "      <td>...</td>\n",
       "      <td>-0.005</td>\n",
       "      <td>0.096</td>\n",
       "      <td>-0.011</td>\n",
       "      <td>0.035</td>\n",
       "      <td>0.003</td>\n",
       "      <td>0.588</td>\n",
       "      <td>0.998</td>\n",
       "      <td>-0.007</td>\n",
       "      <td>0.061</td>\n",
       "      <td>0.019</td>\n",
       "    </tr>\n",
       "    <tr>\n",
       "      <th>3</th>\n",
       "      <td>0.034</td>\n",
       "      <td>0.067</td>\n",
       "      <td>-0.049</td>\n",
       "      <td>0.146</td>\n",
       "      <td>0.014</td>\n",
       "      <td>0.999</td>\n",
       "      <td>0.998</td>\n",
       "      <td>0.999</td>\n",
       "      <td>0.989</td>\n",
       "      <td>1.0</td>\n",
       "      <td>...</td>\n",
       "      <td>-0.049</td>\n",
       "      <td>0.146</td>\n",
       "      <td>0.014</td>\n",
       "      <td>0.048</td>\n",
       "      <td>-0.000</td>\n",
       "      <td>0.587</td>\n",
       "      <td>0.996</td>\n",
       "      <td>0.006</td>\n",
       "      <td>0.082</td>\n",
       "      <td>0.016</td>\n",
       "    </tr>\n",
       "    <tr>\n",
       "      <th>4</th>\n",
       "      <td>0.036</td>\n",
       "      <td>0.074</td>\n",
       "      <td>-0.157</td>\n",
       "      <td>0.160</td>\n",
       "      <td>0.030</td>\n",
       "      <td>0.999</td>\n",
       "      <td>0.997</td>\n",
       "      <td>0.988</td>\n",
       "      <td>0.987</td>\n",
       "      <td>1.0</td>\n",
       "      <td>...</td>\n",
       "      <td>-0.156</td>\n",
       "      <td>0.160</td>\n",
       "      <td>0.030</td>\n",
       "      <td>0.017</td>\n",
       "      <td>-0.003</td>\n",
       "      <td>0.589</td>\n",
       "      <td>0.999</td>\n",
       "      <td>0.014</td>\n",
       "      <td>0.039</td>\n",
       "      <td>0.017</td>\n",
       "    </tr>\n",
       "  </tbody>\n",
       "</table>\n",
       "<p>5 rows × 22 columns</p>\n",
       "</div>"
      ],
      "text/plain": [
       "      j0     j1     j2     j3     j4   cos(j0)   cos(j1)   cos(j2)   cos(j3)  \\\n",
       "0  0.000  0.000  0.000  0.000  0.000     1.000     1.000     1.000     1.000   \n",
       "1  0.014  0.001 -0.001  0.031 -0.005     1.000     1.000     1.000     1.000   \n",
       "2  0.037  0.031 -0.005  0.096 -0.011     0.999     1.000     1.000     0.995   \n",
       "3  0.034  0.067 -0.049  0.146  0.014     0.999     0.998     0.999     0.989   \n",
       "4  0.036  0.074 -0.157  0.160  0.030     0.999     0.997     0.988     0.987   \n",
       "\n",
       "    cos(j4)  ...   sin(j2)   sin(j3)   sin(j4)   ee_x   ee_y   ee_z   ee_qw  \\\n",
       "0       1.0  ...     0.000     0.000     0.000  0.000  0.000  0.590   1.000   \n",
       "1       1.0  ...    -0.001     0.031    -0.005  0.007  0.001  0.590   1.000   \n",
       "2       1.0  ...    -0.005     0.096    -0.011  0.035  0.003  0.588   0.998   \n",
       "3       1.0  ...    -0.049     0.146     0.014  0.048 -0.000  0.587   0.996   \n",
       "4       1.0  ...    -0.156     0.160     0.030  0.017 -0.003  0.589   0.999   \n",
       "\n",
       "    ee_qx   ee_qy   ee_qz  \n",
       "0   0.000   0.000   0.000  \n",
       "1  -0.003   0.016   0.007  \n",
       "2  -0.007   0.061   0.019  \n",
       "3   0.006   0.082   0.016  \n",
       "4   0.014   0.039   0.017  \n",
       "\n",
       "[5 rows x 22 columns]"
      ]
     },
     "metadata": {},
     "output_type": "display_data"
    },
    {
     "name": "stdout",
     "output_type": "stream",
     "text": [
      "<class 'pandas.core.frame.DataFrame'>\n",
      "RangeIndex: 100000 entries, 0 to 99999\n",
      "Data columns (total 22 columns):\n",
      " #   Column    Non-Null Count   Dtype  \n",
      "---  ------    --------------   -----  \n",
      " 0   j0        100000 non-null  float64\n",
      " 1    j1       100000 non-null  float64\n",
      " 2    j2       100000 non-null  float64\n",
      " 3    j3       100000 non-null  float64\n",
      " 4    j4       100000 non-null  float64\n",
      " 5    cos(j0)  100000 non-null  float64\n",
      " 6    cos(j1)  100000 non-null  float64\n",
      " 7    cos(j2)  100000 non-null  float64\n",
      " 8    cos(j3)  100000 non-null  float64\n",
      " 9    cos(j4)  100000 non-null  float64\n",
      " 10   sin(j0)  100000 non-null  float64\n",
      " 11   sin(j1)  100000 non-null  float64\n",
      " 12   sin(j2)  100000 non-null  float64\n",
      " 13   sin(j3)  100000 non-null  float64\n",
      " 14   sin(j4)  100000 non-null  float64\n",
      " 15   ee_x     100000 non-null  float64\n",
      " 16   ee_y     100000 non-null  float64\n",
      " 17   ee_z     100000 non-null  float64\n",
      " 18   ee_qw    100000 non-null  float64\n",
      " 19   ee_qx    100000 non-null  float64\n",
      " 20   ee_qy    100000 non-null  float64\n",
      " 21   ee_qz    100000 non-null  float64\n",
      "dtypes: float64(22)\n",
      "memory usage: 16.8 MB\n"
     ]
    }
   ],
   "source": [
    "filepath_5R = r'data/5R_2184503_100.csv'\n",
    "df_5R = pd.read_csv(filepath_5R, sep=\";\", header=0).copy()\n",
    "\n",
    "display(df_5R.head(5))\n",
    "df_5R.info()"
   ]
  },
  {
   "cell_type": "markdown",
   "metadata": {},
   "source": [
    "#### 3.a) Joint angles "
   ]
  },
  {
   "cell_type": "code",
   "execution_count": 36,
   "metadata": {},
   "outputs": [
    {
     "data": {
      "text/html": [
       "<div>\n",
       "<style scoped>\n",
       "    .dataframe tbody tr th:only-of-type {\n",
       "        vertical-align: middle;\n",
       "    }\n",
       "\n",
       "    .dataframe tbody tr th {\n",
       "        vertical-align: top;\n",
       "    }\n",
       "\n",
       "    .dataframe thead th {\n",
       "        text-align: right;\n",
       "    }\n",
       "</style>\n",
       "<table border=\"1\" class=\"dataframe\">\n",
       "  <thead>\n",
       "    <tr style=\"text-align: right;\">\n",
       "      <th></th>\n",
       "      <th>cos(j0)</th>\n",
       "      <th>sin(j0)</th>\n",
       "      <th>cos(j1)</th>\n",
       "      <th>sin(j1)</th>\n",
       "      <th>cos(j2)</th>\n",
       "      <th>sin(j2)</th>\n",
       "      <th>cos(j3)</th>\n",
       "      <th>sin(j3)</th>\n",
       "      <th>cos(j4)</th>\n",
       "      <th>sin(j4)</th>\n",
       "    </tr>\n",
       "  </thead>\n",
       "  <tbody>\n",
       "    <tr>\n",
       "      <th>0</th>\n",
       "      <td>1.000</td>\n",
       "      <td>0.000</td>\n",
       "      <td>1.000</td>\n",
       "      <td>0.000</td>\n",
       "      <td>1.000</td>\n",
       "      <td>0.000</td>\n",
       "      <td>1.000</td>\n",
       "      <td>0.000</td>\n",
       "      <td>1.0</td>\n",
       "      <td>0.000</td>\n",
       "    </tr>\n",
       "    <tr>\n",
       "      <th>1</th>\n",
       "      <td>1.000</td>\n",
       "      <td>0.014</td>\n",
       "      <td>1.000</td>\n",
       "      <td>0.001</td>\n",
       "      <td>1.000</td>\n",
       "      <td>-0.001</td>\n",
       "      <td>1.000</td>\n",
       "      <td>0.031</td>\n",
       "      <td>1.0</td>\n",
       "      <td>-0.005</td>\n",
       "    </tr>\n",
       "    <tr>\n",
       "      <th>2</th>\n",
       "      <td>0.999</td>\n",
       "      <td>0.037</td>\n",
       "      <td>1.000</td>\n",
       "      <td>0.031</td>\n",
       "      <td>1.000</td>\n",
       "      <td>-0.005</td>\n",
       "      <td>0.995</td>\n",
       "      <td>0.096</td>\n",
       "      <td>1.0</td>\n",
       "      <td>-0.011</td>\n",
       "    </tr>\n",
       "    <tr>\n",
       "      <th>3</th>\n",
       "      <td>0.999</td>\n",
       "      <td>0.034</td>\n",
       "      <td>0.998</td>\n",
       "      <td>0.067</td>\n",
       "      <td>0.999</td>\n",
       "      <td>-0.049</td>\n",
       "      <td>0.989</td>\n",
       "      <td>0.146</td>\n",
       "      <td>1.0</td>\n",
       "      <td>0.014</td>\n",
       "    </tr>\n",
       "    <tr>\n",
       "      <th>4</th>\n",
       "      <td>0.999</td>\n",
       "      <td>0.036</td>\n",
       "      <td>0.997</td>\n",
       "      <td>0.074</td>\n",
       "      <td>0.988</td>\n",
       "      <td>-0.156</td>\n",
       "      <td>0.987</td>\n",
       "      <td>0.160</td>\n",
       "      <td>1.0</td>\n",
       "      <td>0.030</td>\n",
       "    </tr>\n",
       "  </tbody>\n",
       "</table>\n",
       "</div>"
      ],
      "text/plain": [
       "   cos(j0)  sin(j0)  cos(j1)  sin(j1)  cos(j2)  sin(j2)  cos(j3)  sin(j3)  \\\n",
       "0    1.000    0.000    1.000    0.000    1.000    0.000    1.000    0.000   \n",
       "1    1.000    0.014    1.000    0.001    1.000   -0.001    1.000    0.031   \n",
       "2    0.999    0.037    1.000    0.031    1.000   -0.005    0.995    0.096   \n",
       "3    0.999    0.034    0.998    0.067    0.999   -0.049    0.989    0.146   \n",
       "4    0.999    0.036    0.997    0.074    0.988   -0.156    0.987    0.160   \n",
       "\n",
       "   cos(j4)  sin(j4)  \n",
       "0      1.0    0.000  \n",
       "1      1.0   -0.005  \n",
       "2      1.0   -0.011  \n",
       "3      1.0    0.014  \n",
       "4      1.0    0.030  "
      ]
     },
     "metadata": {},
     "output_type": "display_data"
    }
   ],
   "source": [
    "X_5R = df_5R[[' cos(j0)', ' sin(j0)', ' cos(j1)', ' sin(j1)', ' cos(j2)', ' sin(j2)', ' cos(j3)', ' sin(j3)', ' cos(j4)', ' sin(j4)']].values\n",
    "\n",
    "X_5R = pd.DataFrame(X_5R, columns=['cos(j0)', 'sin(j0)', 'cos(j1)', 'sin(j1)', 'cos(j2)', 'sin(j2)', 'cos(j3)', 'sin(j3)', 'cos(j4)', 'sin(j4)'])\n",
    "display(X_5R.head(5))"
   ]
  },
  {
   "cell_type": "markdown",
   "metadata": {},
   "source": [
    "#### 3.b) Fingertip position"
   ]
  },
  {
   "cell_type": "code",
   "execution_count": 37,
   "metadata": {},
   "outputs": [],
   "source": [
    "y_5R_pos = df_5R[[' ee_x', ' ee_y', ' ee_z']].values"
   ]
  },
  {
   "cell_type": "markdown",
   "metadata": {},
   "source": [
    "#### 3.c) Fingertip orientation"
   ]
  },
  {
   "cell_type": "code",
   "execution_count": 38,
   "metadata": {},
   "outputs": [],
   "source": [
    "y_5R_ori = df_5R[[' ee_qw', ' ee_qx', ' ee_qy', ' ee_qz']].values"
   ]
  },
  {
   "cell_type": "code",
   "execution_count": 39,
   "metadata": {},
   "outputs": [
    {
     "data": {
      "text/html": [
       "<div>\n",
       "<style scoped>\n",
       "    .dataframe tbody tr th:only-of-type {\n",
       "        vertical-align: middle;\n",
       "    }\n",
       "\n",
       "    .dataframe tbody tr th {\n",
       "        vertical-align: top;\n",
       "    }\n",
       "\n",
       "    .dataframe thead th {\n",
       "        text-align: right;\n",
       "    }\n",
       "</style>\n",
       "<table border=\"1\" class=\"dataframe\">\n",
       "  <thead>\n",
       "    <tr style=\"text-align: right;\">\n",
       "      <th></th>\n",
       "      <th>ee_x</th>\n",
       "      <th>ee_y</th>\n",
       "      <th>ee_z</th>\n",
       "      <th>ee_qw</th>\n",
       "      <th>ee_qx</th>\n",
       "      <th>ee_qy</th>\n",
       "      <th>ee_qz</th>\n",
       "    </tr>\n",
       "  </thead>\n",
       "  <tbody>\n",
       "    <tr>\n",
       "      <th>0</th>\n",
       "      <td>0.000</td>\n",
       "      <td>0.000</td>\n",
       "      <td>0.590</td>\n",
       "      <td>1.000</td>\n",
       "      <td>0.000</td>\n",
       "      <td>0.000</td>\n",
       "      <td>0.000</td>\n",
       "    </tr>\n",
       "    <tr>\n",
       "      <th>1</th>\n",
       "      <td>0.007</td>\n",
       "      <td>0.001</td>\n",
       "      <td>0.590</td>\n",
       "      <td>1.000</td>\n",
       "      <td>-0.003</td>\n",
       "      <td>0.016</td>\n",
       "      <td>0.007</td>\n",
       "    </tr>\n",
       "    <tr>\n",
       "      <th>2</th>\n",
       "      <td>0.035</td>\n",
       "      <td>0.003</td>\n",
       "      <td>0.588</td>\n",
       "      <td>0.998</td>\n",
       "      <td>-0.007</td>\n",
       "      <td>0.061</td>\n",
       "      <td>0.019</td>\n",
       "    </tr>\n",
       "    <tr>\n",
       "      <th>3</th>\n",
       "      <td>0.048</td>\n",
       "      <td>-0.000</td>\n",
       "      <td>0.587</td>\n",
       "      <td>0.996</td>\n",
       "      <td>0.006</td>\n",
       "      <td>0.082</td>\n",
       "      <td>0.016</td>\n",
       "    </tr>\n",
       "    <tr>\n",
       "      <th>4</th>\n",
       "      <td>0.017</td>\n",
       "      <td>-0.003</td>\n",
       "      <td>0.589</td>\n",
       "      <td>0.999</td>\n",
       "      <td>0.014</td>\n",
       "      <td>0.039</td>\n",
       "      <td>0.017</td>\n",
       "    </tr>\n",
       "  </tbody>\n",
       "</table>\n",
       "</div>"
      ],
      "text/plain": [
       "    ee_x   ee_y   ee_z  ee_qw  ee_qx  ee_qy  ee_qz\n",
       "0  0.000  0.000  0.590  1.000  0.000  0.000  0.000\n",
       "1  0.007  0.001  0.590  1.000 -0.003  0.016  0.007\n",
       "2  0.035  0.003  0.588  0.998 -0.007  0.061  0.019\n",
       "3  0.048 -0.000  0.587  0.996  0.006  0.082  0.016\n",
       "4  0.017 -0.003  0.589  0.999  0.014  0.039  0.017"
      ]
     },
     "metadata": {},
     "output_type": "display_data"
    }
   ],
   "source": [
    "y_5R = pd.concat([pd.DataFrame(y_5R_pos, columns=['ee_x', 'ee_y', \"ee_z\"]), \n",
    "                         pd.DataFrame(y_5R_ori, columns=['ee_qw', 'ee_qx', 'ee_qy', 'ee_qz'])], axis=1)\n",
    "\n",
    "display(y_5R.head(5))"
   ]
  },
  {
   "cell_type": "markdown",
   "metadata": {},
   "source": [
    "## III - Learning Forward Kinematics"
   ]
  },
  {
   "cell_type": "markdown",
   "metadata": {},
   "source": [
    "### 1) 2D with 2 joints"
   ]
  },
  {
   "cell_type": "markdown",
   "metadata": {},
   "source": [
    "We are dividing the dataset to randomly take 80% of the data for training the model, and 20% for testing. Let's try first by giving only the position:"
   ]
  },
  {
   "cell_type": "code",
   "execution_count": 40,
   "metadata": {},
   "outputs": [
    {
     "name": "stdout",
     "output_type": "stream",
     "text": [
      "(80000, 4) (80000, 2)\n",
      "(20000, 2) (20000, 2)\n"
     ]
    }
   ],
   "source": [
    "X_2R_train, X_2R_test, y_2R_train, y_2R_test = train_test_split(X_2R, y_2R_pos, test_size=0.2, random_state=2184503)\n",
    "print(X_2R_train.shape, y_2R_train.shape)\n",
    "print(y_2R_test.shape, y_2R_test.shape)"
   ]
  },
  {
   "cell_type": "markdown",
   "metadata": {},
   "source": [
    "##### Model definition "
   ]
  },
  {
   "cell_type": "code",
   "execution_count": 41,
   "metadata": {},
   "outputs": [
    {
     "name": "stderr",
     "output_type": "stream",
     "text": [
      "2024-12-01 00:20:43.793429: E external/local_xla/xla/stream_executor/cuda/cuda_driver.cc:152] failed call to cuInit: INTERNAL: CUDA error: Failed call to cuInit: UNKNOWN ERROR (303)\n"
     ]
    },
    {
     "data": {
      "text/html": [
       "<pre style=\"white-space:pre;overflow-x:auto;line-height:normal;font-family:Menlo,'DejaVu Sans Mono',consolas,'Courier New',monospace\"><span style=\"font-weight: bold\">Model: \"sequential\"</span>\n",
       "</pre>\n"
      ],
      "text/plain": [
       "\u001b[1mModel: \"sequential\"\u001b[0m\n"
      ]
     },
     "metadata": {},
     "output_type": "display_data"
    },
    {
     "data": {
      "text/html": [
       "<pre style=\"white-space:pre;overflow-x:auto;line-height:normal;font-family:Menlo,'DejaVu Sans Mono',consolas,'Courier New',monospace\">┏━━━━━━━━━━━━━━━━━━━━━━━━━━━━━━━━━┳━━━━━━━━━━━━━━━━━━━━━━━━┳━━━━━━━━━━━━━━━┓\n",
       "┃<span style=\"font-weight: bold\"> Layer (type)                    </span>┃<span style=\"font-weight: bold\"> Output Shape           </span>┃<span style=\"font-weight: bold\">       Param # </span>┃\n",
       "┡━━━━━━━━━━━━━━━━━━━━━━━━━━━━━━━━━╇━━━━━━━━━━━━━━━━━━━━━━━━╇━━━━━━━━━━━━━━━┩\n",
       "│ dense (<span style=\"color: #0087ff; text-decoration-color: #0087ff\">Dense</span>)                   │ (<span style=\"color: #00d7ff; text-decoration-color: #00d7ff\">None</span>, <span style=\"color: #00af00; text-decoration-color: #00af00\">128</span>)            │           <span style=\"color: #00af00; text-decoration-color: #00af00\">640</span> │\n",
       "├─────────────────────────────────┼────────────────────────┼───────────────┤\n",
       "│ dense_1 (<span style=\"color: #0087ff; text-decoration-color: #0087ff\">Dense</span>)                 │ (<span style=\"color: #00d7ff; text-decoration-color: #00d7ff\">None</span>, <span style=\"color: #00af00; text-decoration-color: #00af00\">64</span>)             │         <span style=\"color: #00af00; text-decoration-color: #00af00\">8,256</span> │\n",
       "├─────────────────────────────────┼────────────────────────┼───────────────┤\n",
       "│ dense_2 (<span style=\"color: #0087ff; text-decoration-color: #0087ff\">Dense</span>)                 │ (<span style=\"color: #00d7ff; text-decoration-color: #00d7ff\">None</span>, <span style=\"color: #00af00; text-decoration-color: #00af00\">2</span>)              │           <span style=\"color: #00af00; text-decoration-color: #00af00\">130</span> │\n",
       "└─────────────────────────────────┴────────────────────────┴───────────────┘\n",
       "</pre>\n"
      ],
      "text/plain": [
       "┏━━━━━━━━━━━━━━━━━━━━━━━━━━━━━━━━━┳━━━━━━━━━━━━━━━━━━━━━━━━┳━━━━━━━━━━━━━━━┓\n",
       "┃\u001b[1m \u001b[0m\u001b[1mLayer (type)                   \u001b[0m\u001b[1m \u001b[0m┃\u001b[1m \u001b[0m\u001b[1mOutput Shape          \u001b[0m\u001b[1m \u001b[0m┃\u001b[1m \u001b[0m\u001b[1m      Param #\u001b[0m\u001b[1m \u001b[0m┃\n",
       "┡━━━━━━━━━━━━━━━━━━━━━━━━━━━━━━━━━╇━━━━━━━━━━━━━━━━━━━━━━━━╇━━━━━━━━━━━━━━━┩\n",
       "│ dense (\u001b[38;5;33mDense\u001b[0m)                   │ (\u001b[38;5;45mNone\u001b[0m, \u001b[38;5;34m128\u001b[0m)            │           \u001b[38;5;34m640\u001b[0m │\n",
       "├─────────────────────────────────┼────────────────────────┼───────────────┤\n",
       "│ dense_1 (\u001b[38;5;33mDense\u001b[0m)                 │ (\u001b[38;5;45mNone\u001b[0m, \u001b[38;5;34m64\u001b[0m)             │         \u001b[38;5;34m8,256\u001b[0m │\n",
       "├─────────────────────────────────┼────────────────────────┼───────────────┤\n",
       "│ dense_2 (\u001b[38;5;33mDense\u001b[0m)                 │ (\u001b[38;5;45mNone\u001b[0m, \u001b[38;5;34m2\u001b[0m)              │           \u001b[38;5;34m130\u001b[0m │\n",
       "└─────────────────────────────────┴────────────────────────┴───────────────┘\n"
      ]
     },
     "metadata": {},
     "output_type": "display_data"
    },
    {
     "data": {
      "text/html": [
       "<pre style=\"white-space:pre;overflow-x:auto;line-height:normal;font-family:Menlo,'DejaVu Sans Mono',consolas,'Courier New',monospace\"><span style=\"font-weight: bold\"> Total params: </span><span style=\"color: #00af00; text-decoration-color: #00af00\">9,026</span> (35.26 KB)\n",
       "</pre>\n"
      ],
      "text/plain": [
       "\u001b[1m Total params: \u001b[0m\u001b[38;5;34m9,026\u001b[0m (35.26 KB)\n"
      ]
     },
     "metadata": {},
     "output_type": "display_data"
    },
    {
     "data": {
      "text/html": [
       "<pre style=\"white-space:pre;overflow-x:auto;line-height:normal;font-family:Menlo,'DejaVu Sans Mono',consolas,'Courier New',monospace\"><span style=\"font-weight: bold\"> Trainable params: </span><span style=\"color: #00af00; text-decoration-color: #00af00\">9,026</span> (35.26 KB)\n",
       "</pre>\n"
      ],
      "text/plain": [
       "\u001b[1m Trainable params: \u001b[0m\u001b[38;5;34m9,026\u001b[0m (35.26 KB)\n"
      ]
     },
     "metadata": {},
     "output_type": "display_data"
    },
    {
     "data": {
      "text/html": [
       "<pre style=\"white-space:pre;overflow-x:auto;line-height:normal;font-family:Menlo,'DejaVu Sans Mono',consolas,'Courier New',monospace\"><span style=\"font-weight: bold\"> Non-trainable params: </span><span style=\"color: #00af00; text-decoration-color: #00af00\">0</span> (0.00 B)\n",
       "</pre>\n"
      ],
      "text/plain": [
       "\u001b[1m Non-trainable params: \u001b[0m\u001b[38;5;34m0\u001b[0m (0.00 B)\n"
      ]
     },
     "metadata": {},
     "output_type": "display_data"
    }
   ],
   "source": [
    "model_2R = Sequential()\n",
    "model_2R.add(Input((X_2R_train.shape[1],)))\n",
    "model_2R.add(Dense(128, activation=\"relu\"))\n",
    "model_2R.add(Dense(64, activation=\"relu\"))\n",
    "model_2R.add(Dense(y_2R_train.shape[1], activation=\"linear\"))\n",
    "\n",
    "model_2R.summary()"
   ]
  },
  {
   "cell_type": "markdown",
   "metadata": {},
   "source": [
    "##### Loss function & optimizer"
   ]
  },
  {
   "cell_type": "code",
   "execution_count": 42,
   "metadata": {},
   "outputs": [],
   "source": [
    "model_2R.compile(loss=MSE, optimizer=Adam(learning_rate=0.001))"
   ]
  },
  {
   "cell_type": "markdown",
   "metadata": {},
   "source": [
    "##### Solver - Training phase"
   ]
  },
  {
   "cell_type": "code",
   "execution_count": 43,
   "metadata": {},
   "outputs": [
    {
     "name": "stdout",
     "output_type": "stream",
     "text": [
      "Epoch 1/20\n",
      "\u001b[1m2500/2500\u001b[0m \u001b[32m━━━━━━━━━━━━━━━━━━━━\u001b[0m\u001b[37m\u001b[0m \u001b[1m8s\u001b[0m 2ms/step - loss: 2.1194e-04 - val_loss: 1.4021e-05\n",
      "Epoch 2/20\n",
      "\u001b[1m2500/2500\u001b[0m \u001b[32m━━━━━━━━━━━━━━━━━━━━\u001b[0m\u001b[37m\u001b[0m \u001b[1m5s\u001b[0m 2ms/step - loss: 9.7246e-06 - val_loss: 5.3472e-06\n",
      "Epoch 3/20\n",
      "\u001b[1m2500/2500\u001b[0m \u001b[32m━━━━━━━━━━━━━━━━━━━━\u001b[0m\u001b[37m\u001b[0m \u001b[1m5s\u001b[0m 2ms/step - loss: 6.1083e-06 - val_loss: 6.8602e-06\n",
      "Epoch 4/20\n",
      "\u001b[1m2500/2500\u001b[0m \u001b[32m━━━━━━━━━━━━━━━━━━━━\u001b[0m\u001b[37m\u001b[0m \u001b[1m5s\u001b[0m 2ms/step - loss: 4.0024e-06 - val_loss: 4.9781e-06\n",
      "Epoch 5/20\n",
      "\u001b[1m2500/2500\u001b[0m \u001b[32m━━━━━━━━━━━━━━━━━━━━\u001b[0m\u001b[37m\u001b[0m \u001b[1m5s\u001b[0m 2ms/step - loss: 2.9809e-06 - val_loss: 3.6071e-06\n",
      "Epoch 6/20\n",
      "\u001b[1m2500/2500\u001b[0m \u001b[32m━━━━━━━━━━━━━━━━━━━━\u001b[0m\u001b[37m\u001b[0m \u001b[1m6s\u001b[0m 2ms/step - loss: 2.8382e-06 - val_loss: 2.1656e-06\n",
      "Epoch 7/20\n",
      "\u001b[1m2500/2500\u001b[0m \u001b[32m━━━━━━━━━━━━━━━━━━━━\u001b[0m\u001b[37m\u001b[0m \u001b[1m6s\u001b[0m 2ms/step - loss: 2.0980e-06 - val_loss: 1.6132e-06\n",
      "Epoch 8/20\n",
      "\u001b[1m2500/2500\u001b[0m \u001b[32m━━━━━━━━━━━━━━━━━━━━\u001b[0m\u001b[37m\u001b[0m \u001b[1m6s\u001b[0m 2ms/step - loss: 1.6055e-06 - val_loss: 2.8609e-06\n",
      "Epoch 9/20\n",
      "\u001b[1m2500/2500\u001b[0m \u001b[32m━━━━━━━━━━━━━━━━━━━━\u001b[0m\u001b[37m\u001b[0m \u001b[1m6s\u001b[0m 2ms/step - loss: 1.7885e-06 - val_loss: 2.1426e-06\n",
      "Epoch 10/20\n",
      "\u001b[1m2500/2500\u001b[0m \u001b[32m━━━━━━━━━━━━━━━━━━━━\u001b[0m\u001b[37m\u001b[0m \u001b[1m6s\u001b[0m 2ms/step - loss: 1.8283e-06 - val_loss: 1.8526e-06\n",
      "Epoch 11/20\n",
      "\u001b[1m2500/2500\u001b[0m \u001b[32m━━━━━━━━━━━━━━━━━━━━\u001b[0m\u001b[37m\u001b[0m \u001b[1m6s\u001b[0m 2ms/step - loss: 1.5667e-06 - val_loss: 1.0434e-06\n",
      "Epoch 12/20\n",
      "\u001b[1m2500/2500\u001b[0m \u001b[32m━━━━━━━━━━━━━━━━━━━━\u001b[0m\u001b[37m\u001b[0m \u001b[1m6s\u001b[0m 2ms/step - loss: 1.6232e-06 - val_loss: 1.0250e-06\n",
      "Epoch 13/20\n",
      "\u001b[1m2500/2500\u001b[0m \u001b[32m━━━━━━━━━━━━━━━━━━━━\u001b[0m\u001b[37m\u001b[0m \u001b[1m6s\u001b[0m 2ms/step - loss: 1.4049e-06 - val_loss: 1.0998e-06\n",
      "Epoch 14/20\n",
      "\u001b[1m2500/2500\u001b[0m \u001b[32m━━━━━━━━━━━━━━━━━━━━\u001b[0m\u001b[37m\u001b[0m \u001b[1m6s\u001b[0m 2ms/step - loss: 1.3365e-06 - val_loss: 1.3298e-06\n",
      "Epoch 15/20\n",
      "\u001b[1m2500/2500\u001b[0m \u001b[32m━━━━━━━━━━━━━━━━━━━━\u001b[0m\u001b[37m\u001b[0m \u001b[1m6s\u001b[0m 2ms/step - loss: 1.4342e-06 - val_loss: 1.9401e-06\n",
      "Epoch 16/20\n",
      "\u001b[1m2500/2500\u001b[0m \u001b[32m━━━━━━━━━━━━━━━━━━━━\u001b[0m\u001b[37m\u001b[0m \u001b[1m6s\u001b[0m 2ms/step - loss: 1.4854e-06 - val_loss: 2.3640e-06\n",
      "Epoch 17/20\n",
      "\u001b[1m2500/2500\u001b[0m \u001b[32m━━━━━━━━━━━━━━━━━━━━\u001b[0m\u001b[37m\u001b[0m \u001b[1m5s\u001b[0m 2ms/step - loss: 1.3261e-06 - val_loss: 1.2029e-06\n",
      "Epoch 18/20\n",
      "\u001b[1m2500/2500\u001b[0m \u001b[32m━━━━━━━━━━━━━━━━━━━━\u001b[0m\u001b[37m\u001b[0m \u001b[1m5s\u001b[0m 2ms/step - loss: 1.2587e-06 - val_loss: 5.5150e-07\n",
      "Epoch 19/20\n",
      "\u001b[1m2500/2500\u001b[0m \u001b[32m━━━━━━━━━━━━━━━━━━━━\u001b[0m\u001b[37m\u001b[0m \u001b[1m5s\u001b[0m 2ms/step - loss: 1.3206e-06 - val_loss: 7.4932e-07\n",
      "Epoch 20/20\n",
      "\u001b[1m2500/2500\u001b[0m \u001b[32m━━━━━━━━━━━━━━━━━━━━\u001b[0m\u001b[37m\u001b[0m \u001b[1m5s\u001b[0m 2ms/step - loss: 1.1892e-06 - val_loss: 1.3118e-06\n",
      "== Final loss ==\n",
      "Train: 1.1518804967636243e-06\n",
      "Test: 1.3117563639752916e-06\n"
     ]
    }
   ],
   "source": [
    "epochs = 20\n",
    "history_2R = model_2R.fit(X_2R_train, y_2R_train,\n",
    "                    epochs=epochs,\n",
    "                    validation_data=(X_2R_test, y_2R_test),\n",
    "                    verbose=1)\n",
    "\n",
    "print(f\"== Final loss ==\\nTrain: {history_2R.history['loss'][-1]}\\nTest: {history_2R.history['val_loss'][-1]}\")"
   ]
  },
  {
   "cell_type": "code",
   "execution_count": 44,
   "metadata": {},
   "outputs": [],
   "source": [
    "def displayLearningCurve(history, epochs: int):\n",
    "    \"\"\"\n",
    "    Displays the model loss\n",
    "\n",
    "    @param history: The model history\n",
    "    @param epochs: The number of epochs\n",
    "    \"\"\"\n",
    "    epoch_range = range(1, epochs+1)\n",
    "    plt.plot(epoch_range, history.history['loss'])\n",
    "    plt.plot(epoch_range, history.history['val_loss'])\n",
    "    plt.title(\"Model loss\")\n",
    "    plt.ylabel('Loss')\n",
    "    plt.xlabel('Epochs')\n",
    "    plt.legend(['Train', 'Test'], loc='upper right')\n",
    "\n",
    "    plt.tight_layout()\n",
    "    plt.show()"
   ]
  },
  {
   "cell_type": "code",
   "execution_count": 45,
   "metadata": {},
   "outputs": [
    {
     "data": {
      "image/png": "[encoded data removed]",
      "text/plain": [
       "<Figure size 640x480 with 1 Axes>"
      ]
     },
     "metadata": {},
     "output_type": "display_data"
    }
   ],
   "source": [
    "displayLearningCurve(history=history_2R, \n",
    "                    epochs=epochs)"
   ]
  },
  {
   "cell_type": "markdown",
   "metadata": {},
   "source": [
    "##### Hyper-parameter search"
   ]
  },
  {
   "cell_type": "markdown",
   "metadata": {},
   "source": [
    "##### Testing the model - Machine Learning vs Traditionnal method"
   ]
  },
  {
   "cell_type": "code",
   "execution_count": 46,
   "metadata": {},
   "outputs": [],
   "source": [
    "def FK(model, theta):\n",
    "    \"\"\"\n",
    "    Predicts the Forward Kinematics for a defined set of angles\n",
    "    @param model: The machine learning model\n",
    "    @param theta: The tensor of angle inputs\n",
    "    \"\"\"\n",
    "\n",
    "    theta = tf.convert_to_tensor(theta, dtype=tf.float32) \n",
    "    n = theta.shape[0]\n",
    "    if n == 2:    # 2R Robot\n",
    "        features = tf.stack([tf.cos(theta[0]), tf.sin(theta[0]),\n",
    "                             tf.cos(theta[1]), tf.sin(theta[1])])\n",
    "    elif n == 3:  # 3R Robot\n",
    "        features = tf.stack([tf.cos(theta[0]), tf.sin(theta[0]),\n",
    "                             tf.cos(theta[1]), tf.sin(theta[1]),\n",
    "                             tf.cos(theta[2]), tf.sin(theta[2])])\n",
    "    elif n == 5:  # 5R Robot\n",
    "        features = tf.stack([tf.cos(theta[0]), tf.sin(theta[0]),\n",
    "                             tf.cos(theta[1]), tf.sin(theta[1]),\n",
    "                             tf.cos(theta[2]), tf.sin(theta[2]),\n",
    "                             tf.cos(theta[3]), tf.sin(theta[3]),\n",
    "                             tf.cos(theta[4]), tf.sin(theta[4])])\n",
    "    else:\n",
    "        raise ValueError(\"Error! size of theta must be 2, 3, or 5!\")\n",
    "    \n",
    "    # Reshape to batch size 1\n",
    "    t = tf.reshape(features, shape=(1, 2 * n))\n",
    "    out = model(t)\n",
    "    \n",
    "    # Reshape to the appropriate output vector\n",
    "    output_shape = model.output_shape[1]\n",
    "    out = tf.reshape(out, shape=(output_shape,))\n",
    "\n",
    "    return out"
   ]
  },
  {
   "cell_type": "code",
   "execution_count": 91,
   "metadata": {},
   "outputs": [
    {
     "name": "stdout",
     "output_type": "stream",
     "text": [
      "Example with (j0, j1) = (0, 0)\n",
      "End-effector predicted X-position: 0.20955310761928558\n",
      "End-effector predicted Y-position: -0.0004132986068725586\n",
      "\n",
      "\n",
      "Example with (j0, j1) = (1.5707963267948966, 1.5707963267948966)\n",
      "End-effector predicted X-position: -0.10811453312635422\n",
      "End-effector predicted Y-position: 0.0998854711651802\n",
      "\n",
      "\n",
      "Example with (j0, j1) = (1.5707963267948966, 0.7853981633974483)\n",
      "End-effector predicted X-position: -0.07415542751550674\n",
      "End-effector predicted Y-position: 0.1774168163537979\n",
      "\n",
      "\n"
     ]
    }
   ],
   "source": [
    "THETA_LST = [(0, 0), (np.pi/2, np.pi/2), (np.pi/2, np.pi/4)]\n",
    "\n",
    "for theta in THETA_LST:\n",
    "    ee_x_pred, ee_y_pred = FK(model_2R, theta)\n",
    "    print(f\"Example with (j0, j1) = {theta}\")\n",
    "    print(f\"End-effector predicted X-position: {ee_x_pred}\")\n",
    "    print(f\"End-effector predicted Y-position: {ee_y_pred}\")\n",
    "    print(\"\\n\")"
   ]
  },
  {
   "cell_type": "code",
   "execution_count": 48,
   "metadata": {},
   "outputs": [],
   "source": [
    "    # j0, j1 = theta\n",
    "    # A = np.array([\n",
    "    # [np.cos(j0), np.cos(j0 + j1)],\n",
    "    # [np.sin(j0), np.sin(j0 + j1)]\n",
    "    # ])\n",
    "\n",
    "    # print(A)\n",
    "    # print(np.linalg.inv(A))"
   ]
  },
  {
   "cell_type": "code",
   "execution_count": 89,
   "metadata": {},
   "outputs": [],
   "source": [
    "def dispFK_2R(model, theta):\n",
    "    \"\"\"\n",
    "    Plots the Forward Kinematics 2R comparison between Analytical method and ML model.\n",
    "\n",
    "    model: The end-effector predicted position\n",
    "    theta: The joint angles for the 2R robot\n",
    "    \"\"\"\n",
    "\n",
    "\n",
    "    ee_x_pred, ee_y_pred = model \n",
    "\n",
    "    j0, j1 = theta\n",
    "    # Based on the specified robot parameters\n",
    "    l1 = 0.1  # First link\n",
    "    l2 = 0.1  # Second link\n",
    "    \n",
    "    # FK Analytical equations\n",
    "    x1 = l1 * np.cos(j0)\n",
    "    y1 = l1 * np.sin(j0)\n",
    "    x2 = x1 + l2 * np.cos(j0 + j1)\n",
    "    y2 = y1 + l2 * np.sin(j0 + j1)\n",
    "\n",
    "    plt.figure(figsize=(5, 5))\n",
    "    \n",
    "    plt.plot([0, x1], [0, y1], 'c-', marker='o', label=\"Link 1 (Analytical)\")\n",
    "    plt.plot([x1, x2], [y1, y2], 'cyan', marker='o', label=\"Link 2 (Analytical)\")\n",
    "\n",
    "    # Plot ML-predicted end-effector\n",
    "    plt.plot(ee_x_pred, ee_y_pred, 'mx', label=\"End-Effector (Model Prediction)\")\n",
    "\n",
    "    plt.xlim(-0.25, 0.25)\n",
    "    plt.ylim(-0.25, 0.25)\n",
    "    plt.xlabel(\"X\")\n",
    "    plt.ylabel(\"Y\")\n",
    "    plt.title(\"2R Analytical and Model Prediciton Comparison\")\n",
    "    plt.grid()\n",
    "    plt.legend()\n",
    "    plt.show()"
   ]
  },
  {
   "cell_type": "code",
   "execution_count": 92,
   "metadata": {},
   "outputs": [
    {
     "data": {
      "image/png": "[encoded data removed]",
      "text/plain": [
       "<Figure size 500x500 with 1 Axes>"
      ]
     },
     "metadata": {},
     "output_type": "display_data"
    },
    {
     "data": {
      "image/png": "[encoded data removed]",
      "text/plain": [
       "<Figure size 500x500 with 1 Axes>"
      ]
     },
     "metadata": {},
     "output_type": "display_data"
    },
    {
     "data": {
      "image/png": "[encoded data removed]",
      "text/plain": [
       "<Figure size 500x500 with 1 Axes>"
      ]
     },
     "metadata": {},
     "output_type": "display_data"
    }
   ],
   "source": [
    "for theta in THETA_LST:\n",
    "    result_model = FK(model_2R, theta)  \n",
    "    dispFK_2R(result_model, theta)"
   ]
  },
  {
   "cell_type": "markdown",
   "metadata": {},
   "source": [
    "##### Jacobian matrix"
   ]
  },
  {
   "cell_type": "code",
   "execution_count": null,
   "metadata": {},
   "outputs": [],
   "source": [
    "@tf.function\n",
    "def FK_Jacobian_pred(model, x):\n",
    "    \"\"\"\n",
    "    Computes the Forward Kinematics Jacobian matrix\n",
    "    \n",
    "    @param model: The machine learning model\n",
    "    @param x: The tuple of angle inputs\n",
    "    \"\"\"\n",
    "    theta = tf.convert_to_tensor(x, dtype=tf.float32)\n",
    "\n",
    "    with tf.GradientTape(persistent=True) as tape:\n",
    "        tape.watch(theta)\n",
    "        y = FK(model, theta)\n",
    "        n = theta.shape[0]\n",
    "        output_shape = model.output_shape[0]\n",
    "\n",
    "        # Removing the quaternion part for the Jacobian computation\n",
    "        if n == 2 or n == 3:\n",
    "            y = y if output_shape == 2 else y[:2]\n",
    "        elif n == 5:\n",
    "            y = y if output_shape == 3 else y[:3]\n",
    "        else:\n",
    "            raise ValueError(\"Error! size of theta must be 2, 3, or 5!\")\n",
    "        \n",
    "    return tape.jacobian(y, theta)\n",
    "\n",
    "\n",
    "def FK_Jacobian_analytic_2R(theta):\n",
    "    \"\"\"\n",
    "    Computes the Analytic Forward Kinematics Jacobian matrix\n",
    "    @param theta: The tuple of angle inputs\n",
    "    \"\"\"\n",
    "    l1, l2, = 0.1, 0.1\n",
    "    j0, j1 = theta\n",
    "    analytical_J = np.array([[-l1*np.sin(j0)-l2*np.sin(j0+j1), -l2*np.sin(j0+j1)],\n",
    "                             [ l1*np.cos(j0)+l2*np.cos(j0+j1),  l2*np.cos(j0+j1)]])\n",
    "    return analytical_J"
   ]
  },
  {
   "cell_type": "code",
   "execution_count": null,
   "metadata": {},
   "outputs": [
    {
     "name": "stdout",
     "output_type": "stream",
     "text": [
      "Jacobian Matrix predicted:\n",
      "[[-0.14651337 -0.08496049]\n",
      " [-0.00536896 -0.07725373]]\n",
      "Jacobian Matrix analytical:\n",
      "[[-0.14651337 -0.08496049]\n",
      " [-0.00536896 -0.07725373]]\n"
     ]
    }
   ],
   "source": [
    "theta = [np.pi/4, np.pi/2]  \n",
    "\n",
    "learned_J = FK_Jacobian_pred(model_2R, theta)\n",
    "print(f\"Jacobian Matrix predicted:\\n{learned_J}\")\n",
    "\n",
    "analytical_J = FK_Jacobian_analytic_2R(theta)\n",
    "print(f\"Jacobian Matrix analytical:\\n{learned_J}\")\n"
   ]
  },
  {
   "cell_type": "markdown",
   "metadata": {},
   "source": [
    "### 2) 2D with 3 joints"
   ]
  },
  {
   "cell_type": "code",
   "execution_count": 53,
   "metadata": {},
   "outputs": [
    {
     "name": "stdout",
     "output_type": "stream",
     "text": [
      "(80000, 6) (80000, 2)\n",
      "(20000, 2) (20000, 2)\n"
     ]
    }
   ],
   "source": [
    "X_3R_train, X_3R_test, y_3R_train, y_3R_test = train_test_split(X_3R, y_3R_pos, test_size=0.2, random_state=2184503)\n",
    "print(X_3R_train.shape, y_3R_train.shape)\n",
    "print(y_3R_test.shape, y_3R_test.shape)"
   ]
  },
  {
   "cell_type": "code",
   "execution_count": 54,
   "metadata": {},
   "outputs": [
    {
     "data": {
      "text/html": [
       "<pre style=\"white-space:pre;overflow-x:auto;line-height:normal;font-family:Menlo,'DejaVu Sans Mono',consolas,'Courier New',monospace\"><span style=\"font-weight: bold\">Model: \"sequential_1\"</span>\n",
       "</pre>\n"
      ],
      "text/plain": [
       "\u001b[1mModel: \"sequential_1\"\u001b[0m\n"
      ]
     },
     "metadata": {},
     "output_type": "display_data"
    },
    {
     "data": {
      "text/html": [
       "<pre style=\"white-space:pre;overflow-x:auto;line-height:normal;font-family:Menlo,'DejaVu Sans Mono',consolas,'Courier New',monospace\">┏━━━━━━━━━━━━━━━━━━━━━━━━━━━━━━━━━┳━━━━━━━━━━━━━━━━━━━━━━━━┳━━━━━━━━━━━━━━━┓\n",
       "┃<span style=\"font-weight: bold\"> Layer (type)                    </span>┃<span style=\"font-weight: bold\"> Output Shape           </span>┃<span style=\"font-weight: bold\">       Param # </span>┃\n",
       "┡━━━━━━━━━━━━━━━━━━━━━━━━━━━━━━━━━╇━━━━━━━━━━━━━━━━━━━━━━━━╇━━━━━━━━━━━━━━━┩\n",
       "│ dense_3 (<span style=\"color: #0087ff; text-decoration-color: #0087ff\">Dense</span>)                 │ (<span style=\"color: #00d7ff; text-decoration-color: #00d7ff\">None</span>, <span style=\"color: #00af00; text-decoration-color: #00af00\">128</span>)            │           <span style=\"color: #00af00; text-decoration-color: #00af00\">896</span> │\n",
       "├─────────────────────────────────┼────────────────────────┼───────────────┤\n",
       "│ dense_4 (<span style=\"color: #0087ff; text-decoration-color: #0087ff\">Dense</span>)                 │ (<span style=\"color: #00d7ff; text-decoration-color: #00d7ff\">None</span>, <span style=\"color: #00af00; text-decoration-color: #00af00\">64</span>)             │         <span style=\"color: #00af00; text-decoration-color: #00af00\">8,256</span> │\n",
       "├─────────────────────────────────┼────────────────────────┼───────────────┤\n",
       "│ dense_5 (<span style=\"color: #0087ff; text-decoration-color: #0087ff\">Dense</span>)                 │ (<span style=\"color: #00d7ff; text-decoration-color: #00d7ff\">None</span>, <span style=\"color: #00af00; text-decoration-color: #00af00\">2</span>)              │           <span style=\"color: #00af00; text-decoration-color: #00af00\">130</span> │\n",
       "└─────────────────────────────────┴────────────────────────┴───────────────┘\n",
       "</pre>\n"
      ],
      "text/plain": [
       "┏━━━━━━━━━━━━━━━━━━━━━━━━━━━━━━━━━┳━━━━━━━━━━━━━━━━━━━━━━━━┳━━━━━━━━━━━━━━━┓\n",
       "┃\u001b[1m \u001b[0m\u001b[1mLayer (type)                   \u001b[0m\u001b[1m \u001b[0m┃\u001b[1m \u001b[0m\u001b[1mOutput Shape          \u001b[0m\u001b[1m \u001b[0m┃\u001b[1m \u001b[0m\u001b[1m      Param #\u001b[0m\u001b[1m \u001b[0m┃\n",
       "┡━━━━━━━━━━━━━━━━━━━━━━━━━━━━━━━━━╇━━━━━━━━━━━━━━━━━━━━━━━━╇━━━━━━━━━━━━━━━┩\n",
       "│ dense_3 (\u001b[38;5;33mDense\u001b[0m)                 │ (\u001b[38;5;45mNone\u001b[0m, \u001b[38;5;34m128\u001b[0m)            │           \u001b[38;5;34m896\u001b[0m │\n",
       "├─────────────────────────────────┼────────────────────────┼───────────────┤\n",
       "│ dense_4 (\u001b[38;5;33mDense\u001b[0m)                 │ (\u001b[38;5;45mNone\u001b[0m, \u001b[38;5;34m64\u001b[0m)             │         \u001b[38;5;34m8,256\u001b[0m │\n",
       "├─────────────────────────────────┼────────────────────────┼───────────────┤\n",
       "│ dense_5 (\u001b[38;5;33mDense\u001b[0m)                 │ (\u001b[38;5;45mNone\u001b[0m, \u001b[38;5;34m2\u001b[0m)              │           \u001b[38;5;34m130\u001b[0m │\n",
       "└─────────────────────────────────┴────────────────────────┴───────────────┘\n"
      ]
     },
     "metadata": {},
     "output_type": "display_data"
    },
    {
     "data": {
      "text/html": [
       "<pre style=\"white-space:pre;overflow-x:auto;line-height:normal;font-family:Menlo,'DejaVu Sans Mono',consolas,'Courier New',monospace\"><span style=\"font-weight: bold\"> Total params: </span><span style=\"color: #00af00; text-decoration-color: #00af00\">9,282</span> (36.26 KB)\n",
       "</pre>\n"
      ],
      "text/plain": [
       "\u001b[1m Total params: \u001b[0m\u001b[38;5;34m9,282\u001b[0m (36.26 KB)\n"
      ]
     },
     "metadata": {},
     "output_type": "display_data"
    },
    {
     "data": {
      "text/html": [
       "<pre style=\"white-space:pre;overflow-x:auto;line-height:normal;font-family:Menlo,'DejaVu Sans Mono',consolas,'Courier New',monospace\"><span style=\"font-weight: bold\"> Trainable params: </span><span style=\"color: #00af00; text-decoration-color: #00af00\">9,282</span> (36.26 KB)\n",
       "</pre>\n"
      ],
      "text/plain": [
       "\u001b[1m Trainable params: \u001b[0m\u001b[38;5;34m9,282\u001b[0m (36.26 KB)\n"
      ]
     },
     "metadata": {},
     "output_type": "display_data"
    },
    {
     "data": {
      "text/html": [
       "<pre style=\"white-space:pre;overflow-x:auto;line-height:normal;font-family:Menlo,'DejaVu Sans Mono',consolas,'Courier New',monospace\"><span style=\"font-weight: bold\"> Non-trainable params: </span><span style=\"color: #00af00; text-decoration-color: #00af00\">0</span> (0.00 B)\n",
       "</pre>\n"
      ],
      "text/plain": [
       "\u001b[1m Non-trainable params: \u001b[0m\u001b[38;5;34m0\u001b[0m (0.00 B)\n"
      ]
     },
     "metadata": {},
     "output_type": "display_data"
    }
   ],
   "source": [
    "model_3R = Sequential()\n",
    "model_3R.add(Input((X_3R_train.shape[1],)))\n",
    "model_3R.add(Dense(128, activation=\"relu\"))\n",
    "model_3R.add(Dense(64, activation=\"relu\"))\n",
    "model_3R.add(Dense(y_3R_train.shape[1], activation=\"linear\"))\n",
    "model_3R.summary()"
   ]
  },
  {
   "cell_type": "code",
   "execution_count": 55,
   "metadata": {},
   "outputs": [
    {
     "name": "stdout",
     "output_type": "stream",
     "text": [
      "Epoch 1/20\n",
      "\u001b[1m2500/2500\u001b[0m \u001b[32m━━━━━━━━━━━━━━━━━━━━\u001b[0m\u001b[37m\u001b[0m \u001b[1m7s\u001b[0m 2ms/step - loss: 0.0015 - val_loss: 5.5359e-05\n",
      "Epoch 2/20\n",
      "\u001b[1m2500/2500\u001b[0m \u001b[32m━━━━━━━━━━━━━━━━━━━━\u001b[0m\u001b[37m\u001b[0m \u001b[1m6s\u001b[0m 2ms/step - loss: 3.9355e-05 - val_loss: 2.6323e-05\n",
      "Epoch 3/20\n",
      "\u001b[1m2500/2500\u001b[0m \u001b[32m━━━━━━━━━━━━━━━━━━━━\u001b[0m\u001b[37m\u001b[0m \u001b[1m6s\u001b[0m 2ms/step - loss: 3.0441e-05 - val_loss: 2.4884e-05\n",
      "Epoch 4/20\n",
      "\u001b[1m2500/2500\u001b[0m \u001b[32m━━━━━━━━━━━━━━━━━━━━\u001b[0m\u001b[37m\u001b[0m \u001b[1m6s\u001b[0m 2ms/step - loss: 2.2787e-05 - val_loss: 1.3822e-05\n",
      "Epoch 5/20\n",
      "\u001b[1m2500/2500\u001b[0m \u001b[32m━━━━━━━━━━━━━━━━━━━━\u001b[0m\u001b[37m\u001b[0m \u001b[1m6s\u001b[0m 2ms/step - loss: 1.9004e-05 - val_loss: 1.3332e-05\n",
      "Epoch 6/20\n",
      "\u001b[1m2500/2500\u001b[0m \u001b[32m━━━━━━━━━━━━━━━━━━━━\u001b[0m\u001b[37m\u001b[0m \u001b[1m5s\u001b[0m 2ms/step - loss: 1.5589e-05 - val_loss: 9.3025e-06\n",
      "Epoch 7/20\n",
      "\u001b[1m2500/2500\u001b[0m \u001b[32m━━━━━━━━━━━━━━━━━━━━\u001b[0m\u001b[37m\u001b[0m \u001b[1m5s\u001b[0m 2ms/step - loss: 1.4317e-05 - val_loss: 1.1562e-05\n",
      "Epoch 8/20\n",
      "\u001b[1m2500/2500\u001b[0m \u001b[32m━━━━━━━━━━━━━━━━━━━━\u001b[0m\u001b[37m\u001b[0m \u001b[1m5s\u001b[0m 2ms/step - loss: 1.3297e-05 - val_loss: 1.0950e-05\n",
      "Epoch 9/20\n",
      "\u001b[1m2500/2500\u001b[0m \u001b[32m━━━━━━━━━━━━━━━━━━━━\u001b[0m\u001b[37m\u001b[0m \u001b[1m6s\u001b[0m 2ms/step - loss: 1.1599e-05 - val_loss: 1.0373e-05\n",
      "Epoch 10/20\n",
      "\u001b[1m2500/2500\u001b[0m \u001b[32m━━━━━━━━━━━━━━━━━━━━\u001b[0m\u001b[37m\u001b[0m \u001b[1m6s\u001b[0m 2ms/step - loss: 1.1354e-05 - val_loss: 1.0336e-05\n",
      "Epoch 11/20\n",
      "\u001b[1m2500/2500\u001b[0m \u001b[32m━━━━━━━━━━━━━━━━━━━━\u001b[0m\u001b[37m\u001b[0m \u001b[1m6s\u001b[0m 2ms/step - loss: 1.0883e-05 - val_loss: 9.9068e-06\n",
      "Epoch 12/20\n",
      "\u001b[1m2500/2500\u001b[0m \u001b[32m━━━━━━━━━━━━━━━━━━━━\u001b[0m\u001b[37m\u001b[0m \u001b[1m6s\u001b[0m 2ms/step - loss: 1.0963e-05 - val_loss: 7.5422e-06\n",
      "Epoch 13/20\n",
      "\u001b[1m2500/2500\u001b[0m \u001b[32m━━━━━━━━━━━━━━━━━━━━\u001b[0m\u001b[37m\u001b[0m \u001b[1m6s\u001b[0m 2ms/step - loss: 1.0483e-05 - val_loss: 1.0355e-05\n",
      "Epoch 14/20\n",
      "\u001b[1m2500/2500\u001b[0m \u001b[32m━━━━━━━━━━━━━━━━━━━━\u001b[0m\u001b[37m\u001b[0m \u001b[1m5s\u001b[0m 2ms/step - loss: 9.8459e-06 - val_loss: 9.0373e-06\n",
      "Epoch 15/20\n",
      "\u001b[1m2500/2500\u001b[0m \u001b[32m━━━━━━━━━━━━━━━━━━━━\u001b[0m\u001b[37m\u001b[0m \u001b[1m5s\u001b[0m 2ms/step - loss: 9.3629e-06 - val_loss: 6.6443e-06\n",
      "Epoch 16/20\n",
      "\u001b[1m2500/2500\u001b[0m \u001b[32m━━━━━━━━━━━━━━━━━━━━\u001b[0m\u001b[37m\u001b[0m \u001b[1m5s\u001b[0m 2ms/step - loss: 8.3841e-06 - val_loss: 1.1619e-05\n",
      "Epoch 17/20\n",
      "\u001b[1m2500/2500\u001b[0m \u001b[32m━━━━━━━━━━━━━━━━━━━━\u001b[0m\u001b[37m\u001b[0m \u001b[1m6s\u001b[0m 2ms/step - loss: 8.9225e-06 - val_loss: 1.7251e-05\n",
      "Epoch 18/20\n",
      "\u001b[1m2500/2500\u001b[0m \u001b[32m━━━━━━━━━━━━━━━━━━━━\u001b[0m\u001b[37m\u001b[0m \u001b[1m5s\u001b[0m 2ms/step - loss: 9.3419e-06 - val_loss: 6.8531e-06\n",
      "Epoch 19/20\n",
      "\u001b[1m2500/2500\u001b[0m \u001b[32m━━━━━━━━━━━━━━━━━━━━\u001b[0m\u001b[37m\u001b[0m \u001b[1m6s\u001b[0m 2ms/step - loss: 8.2296e-06 - val_loss: 9.1329e-06\n",
      "Epoch 20/20\n",
      "\u001b[1m2500/2500\u001b[0m \u001b[32m━━━━━━━━━━━━━━━━━━━━\u001b[0m\u001b[37m\u001b[0m \u001b[1m7s\u001b[0m 3ms/step - loss: 7.9847e-06 - val_loss: 4.5257e-06\n",
      "== Final loss ==\n",
      "Train: 7.935273060866166e-06\n",
      "Test: 4.5257111196406186e-06\n"
     ]
    }
   ],
   "source": [
    "model_3R.compile(loss=MSE, optimizer=Adam(learning_rate=0.001))\n",
    "\n",
    "epochs = 20\n",
    "history_3R = model_3R.fit(X_3R_train, y_3R_train,\n",
    "                    epochs=epochs,\n",
    "                    validation_data=(X_3R_test, y_3R_test),\n",
    "                    verbose=1)\n",
    "\n",
    "print(f\"== Final loss ==\\nTrain: {history_3R.history['loss'][-1]}\\nTest: {history_3R.history['val_loss'][-1]}\")"
   ]
  },
  {
   "cell_type": "code",
   "execution_count": 56,
   "metadata": {},
   "outputs": [
    {
     "data": {
      "image/png": "[encoded data removed]",
      "text/plain": [
       "<Figure size 640x480 with 1 Axes>"
      ]
     },
     "metadata": {},
     "output_type": "display_data"
    }
   ],
   "source": [
    "displayLearningCurve(history=history_3R, \n",
    "                    epochs=epochs)"
   ]
  },
  {
   "cell_type": "code",
   "execution_count": 74,
   "metadata": {},
   "outputs": [
    {
     "name": "stdout",
     "output_type": "stream",
     "text": [
      "Example with (j0, j1, j2) = (0, 0, 0)\n",
      "End-effector predicted X-position: 0.3085711598396301\n",
      "End-effector predicted Y-position: -0.006039878819137812\n",
      "\n",
      "\n",
      "Example with (j0, j1, j2) = (0.7853981633974483, 0.7853981633974483, 0.7853981633974483)\n",
      "End-effector predicted X-position: -0.005205024033784866\n",
      "End-effector predicted Y-position: 0.24561692774295807\n",
      "\n",
      "\n",
      "Example with (j0, j1, j2) = (0, 1.5707963267948966, 1.5707963267948966)\n",
      "End-effector predicted X-position: -0.006893480196595192\n",
      "End-effector predicted Y-position: 0.09728717058897018\n",
      "\n",
      "\n"
     ]
    }
   ],
   "source": [
    "THETA_LST = [(0, 0, 0), (np.pi/4, np.pi/4, np.pi/4), (0, np.pi/2, np.pi/2)]\n",
    "\n",
    "for theta in THETA_LST:\n",
    "    ee_x_pred, ee_y_pred = FK(model_3R, theta)\n",
    "    print(f\"Example with (j0, j1, j2) = {theta}\")\n",
    "    print(f\"End-effector predicted X-position: {ee_x_pred}\")\n",
    "    print(f\"End-effector predicted Y-position: {ee_y_pred}\")\n",
    "    print(\"\\n\")"
   ]
  },
  {
   "cell_type": "code",
   "execution_count": 87,
   "metadata": {},
   "outputs": [],
   "source": [
    "def dispFK_3R(model, theta):\n",
    "    \"\"\"\n",
    "    Plots the Forward Kinematics 3R comparison between Analytical method and ML model.\n",
    "\n",
    "    model: The end-effector predicted position\n",
    "    theta: The joint angles for the 3R robot\n",
    "    \"\"\"\n",
    "\n",
    "\n",
    "    ee_x_pred, ee_y_pred = model \n",
    "\n",
    "    j0, j1, j2 = theta\n",
    "    # Based on the specified robot parameters\n",
    "    l1 = 0.1  # First link\n",
    "    l2 = 0.1  # Second link\n",
    "    l3 = 0.1  # Third link\n",
    "    \n",
    "    # FK Analytical equations\n",
    "    x1 = l1 * np.cos(j0)\n",
    "    y1 = l1 * np.sin(j0)\n",
    "    x2 = x1 + l2 * np.cos(j0 + j1)\n",
    "    y2 = y1 + l2 * np.sin(j0 + j1)\n",
    "    x3 = l1*np.cos(j0) + l2 * np.cos(j0 + j1) + l3*np.cos(j0 + j1 + j2)\n",
    "    y3 = l1*np.sin(j0) + l2 * np.sin(j0 + j1) + l3*np.sin(j0 + j1 + j2)\n",
    "\n",
    "    plt.figure(figsize=(5, 5))\n",
    "    \n",
    "    plt.plot([0, x1], [0, y1], 'r-', marker='o', label=\"Link 1 (Analytical)\")\n",
    "    plt.plot([x1, x2], [y1, y2], 'orange', marker='o', label=\"Link 2 (Analytical)\")\n",
    "    plt.plot([x2, x3], [y2, y3], 'gold', marker='o', label=\"Link 3 (Analytical)\")\n",
    "\n",
    "    # Plot ML-predicted end-effector\n",
    "    plt.plot(ee_x_pred, ee_y_pred, 'mx', label=\"End-Effector (Model Prediction)\")\n",
    "\n",
    "    plt.xlim(-0.35, 0.35)\n",
    "    plt.ylim(-0.35, 0.35)\n",
    "    plt.xlabel(\"X\")\n",
    "    plt.ylabel(\"Y\")\n",
    "    plt.title(\"3R Analytical and Model Prediciton Comparison\")\n",
    "    plt.grid()\n",
    "    plt.legend()\n",
    "    plt.show()"
   ]
  },
  {
   "cell_type": "code",
   "execution_count": 88,
   "metadata": {},
   "outputs": [
    {
     "data": {
      "image/png": "[encoded data removed]",
      "text/plain": [
       "<Figure size 500x500 with 1 Axes>"
      ]
     },
     "metadata": {},
     "output_type": "display_data"
    },
    {
     "data": {
      "image/png": "[encoded data removed]",
      "text/plain": [
       "<Figure size 500x500 with 1 Axes>"
      ]
     },
     "metadata": {},
     "output_type": "display_data"
    },
    {
     "data": {
      "image/png": "[encoded data removed]",
      "text/plain": [
       "<Figure size 500x500 with 1 Axes>"
      ]
     },
     "metadata": {},
     "output_type": "display_data"
    }
   ],
   "source": [
    "for theta in THETA_LST:\n",
    "    result_model = FK(model_3R, theta)  \n",
    "    dispFK_3R(result_model, theta)"
   ]
  },
  {
   "cell_type": "code",
   "execution_count": 85,
   "metadata": {},
   "outputs": [],
   "source": [
    "def FK_Jacobian_analytic_3R(theta):\n",
    "    \"\"\"\n",
    "    Computes the Analytic Forward Kinematics Jacobian matrix for a 3R robot\n",
    "    @param theta: The tuple of angle inputs\n",
    "    \"\"\"\n",
    "    l1, l2, l3 = 0.1, 0.1, 0.1  \n",
    "    theta1, theta2, theta3 = theta\n",
    "\n",
    "    analytical_J = np.array([\n",
    "        [-l1*np.sin(theta1) - l2*np.sin(theta1 + theta2) - l3*np.sin(theta1 + theta2 + theta3),\n",
    "         -l2*np.sin(theta1 + theta2) - l3*np.sin(theta1 + theta2 + theta3),\n",
    "         -l3*np.sin(theta1 + theta2 + theta3)],\n",
    "        \n",
    "        [l1*np.cos(theta1) + l2*np.cos(theta1 + theta2) + l3*np.cos(theta1 + theta2 + theta3),\n",
    "         l2*np.cos(theta1 + theta2) + l3*np.cos(theta1 + theta2 + theta3),\n",
    "         l3*np.cos(theta1 + theta2 + theta3)]\n",
    "    ])\n",
    "    \n",
    "    return analytical_J"
   ]
  },
  {
   "cell_type": "code",
   "execution_count": 86,
   "metadata": {},
   "outputs": [
    {
     "name": "stdout",
     "output_type": "stream",
     "text": [
      "Jacobian Matrix predicted:\n",
      "[[-0.13402577 -0.074072    0.00644069]\n",
      " [-0.1067841  -0.1756635  -0.11448357]]\n",
      "Jacobian Matrix predicted:\n",
      "[[-0.13402577 -0.074072    0.00644069]\n",
      " [-0.1067841  -0.1756635  -0.11448357]]\n"
     ]
    }
   ],
   "source": [
    "theta = [np.pi/4, np.pi/2, np.pi/4]  \n",
    "\n",
    "learned_J = FK_Jacobian_pred(model_3R, theta)\n",
    "print(f\"Jacobian Matrix predicted:\\n{learned_J}\")\n",
    "\n",
    "analytical_J = FK_Jacobian_pred(model_3R, theta)\n",
    "print(f\"Jacobian Matrix predicted:\\n{analytical_J}\")"
   ]
  },
  {
   "cell_type": "markdown",
   "metadata": {},
   "source": [
    "### 3) 3D with 5 joints"
   ]
  },
  {
   "cell_type": "code",
   "execution_count": 59,
   "metadata": {},
   "outputs": [
    {
     "name": "stdout",
     "output_type": "stream",
     "text": [
      "(80000, 10) (80000, 3)\n",
      "(20000, 3) (20000, 3)\n"
     ]
    }
   ],
   "source": [
    "X_5R_train, X_5R_test, y_5R_train, y_5R_test = train_test_split(X_5R, y_5R_pos, test_size=0.2, random_state=2184503)\n",
    "print(X_5R_train.shape, y_5R_train.shape)\n",
    "print(y_5R_test.shape, y_5R_test.shape)"
   ]
  },
  {
   "cell_type": "code",
   "execution_count": 60,
   "metadata": {},
   "outputs": [
    {
     "data": {
      "text/html": [
       "<pre style=\"white-space:pre;overflow-x:auto;line-height:normal;font-family:Menlo,'DejaVu Sans Mono',consolas,'Courier New',monospace\"><span style=\"font-weight: bold\">Model: \"sequential_2\"</span>\n",
       "</pre>\n"
      ],
      "text/plain": [
       "\u001b[1mModel: \"sequential_2\"\u001b[0m\n"
      ]
     },
     "metadata": {},
     "output_type": "display_data"
    },
    {
     "data": {
      "text/html": [
       "<pre style=\"white-space:pre;overflow-x:auto;line-height:normal;font-family:Menlo,'DejaVu Sans Mono',consolas,'Courier New',monospace\">┏━━━━━━━━━━━━━━━━━━━━━━━━━━━━━━━━━┳━━━━━━━━━━━━━━━━━━━━━━━━┳━━━━━━━━━━━━━━━┓\n",
       "┃<span style=\"font-weight: bold\"> Layer (type)                    </span>┃<span style=\"font-weight: bold\"> Output Shape           </span>┃<span style=\"font-weight: bold\">       Param # </span>┃\n",
       "┡━━━━━━━━━━━━━━━━━━━━━━━━━━━━━━━━━╇━━━━━━━━━━━━━━━━━━━━━━━━╇━━━━━━━━━━━━━━━┩\n",
       "│ dense_6 (<span style=\"color: #0087ff; text-decoration-color: #0087ff\">Dense</span>)                 │ (<span style=\"color: #00d7ff; text-decoration-color: #00d7ff\">None</span>, <span style=\"color: #00af00; text-decoration-color: #00af00\">128</span>)            │         <span style=\"color: #00af00; text-decoration-color: #00af00\">1,408</span> │\n",
       "├─────────────────────────────────┼────────────────────────┼───────────────┤\n",
       "│ dense_7 (<span style=\"color: #0087ff; text-decoration-color: #0087ff\">Dense</span>)                 │ (<span style=\"color: #00d7ff; text-decoration-color: #00d7ff\">None</span>, <span style=\"color: #00af00; text-decoration-color: #00af00\">64</span>)             │         <span style=\"color: #00af00; text-decoration-color: #00af00\">8,256</span> │\n",
       "├─────────────────────────────────┼────────────────────────┼───────────────┤\n",
       "│ dense_8 (<span style=\"color: #0087ff; text-decoration-color: #0087ff\">Dense</span>)                 │ (<span style=\"color: #00d7ff; text-decoration-color: #00d7ff\">None</span>, <span style=\"color: #00af00; text-decoration-color: #00af00\">3</span>)              │           <span style=\"color: #00af00; text-decoration-color: #00af00\">195</span> │\n",
       "└─────────────────────────────────┴────────────────────────┴───────────────┘\n",
       "</pre>\n"
      ],
      "text/plain": [
       "┏━━━━━━━━━━━━━━━━━━━━━━━━━━━━━━━━━┳━━━━━━━━━━━━━━━━━━━━━━━━┳━━━━━━━━━━━━━━━┓\n",
       "┃\u001b[1m \u001b[0m\u001b[1mLayer (type)                   \u001b[0m\u001b[1m \u001b[0m┃\u001b[1m \u001b[0m\u001b[1mOutput Shape          \u001b[0m\u001b[1m \u001b[0m┃\u001b[1m \u001b[0m\u001b[1m      Param #\u001b[0m\u001b[1m \u001b[0m┃\n",
       "┡━━━━━━━━━━━━━━━━━━━━━━━━━━━━━━━━━╇━━━━━━━━━━━━━━━━━━━━━━━━╇━━━━━━━━━━━━━━━┩\n",
       "│ dense_6 (\u001b[38;5;33mDense\u001b[0m)                 │ (\u001b[38;5;45mNone\u001b[0m, \u001b[38;5;34m128\u001b[0m)            │         \u001b[38;5;34m1,408\u001b[0m │\n",
       "├─────────────────────────────────┼────────────────────────┼───────────────┤\n",
       "│ dense_7 (\u001b[38;5;33mDense\u001b[0m)                 │ (\u001b[38;5;45mNone\u001b[0m, \u001b[38;5;34m64\u001b[0m)             │         \u001b[38;5;34m8,256\u001b[0m │\n",
       "├─────────────────────────────────┼────────────────────────┼───────────────┤\n",
       "│ dense_8 (\u001b[38;5;33mDense\u001b[0m)                 │ (\u001b[38;5;45mNone\u001b[0m, \u001b[38;5;34m3\u001b[0m)              │           \u001b[38;5;34m195\u001b[0m │\n",
       "└─────────────────────────────────┴────────────────────────┴───────────────┘\n"
      ]
     },
     "metadata": {},
     "output_type": "display_data"
    },
    {
     "data": {
      "text/html": [
       "<pre style=\"white-space:pre;overflow-x:auto;line-height:normal;font-family:Menlo,'DejaVu Sans Mono',consolas,'Courier New',monospace\"><span style=\"font-weight: bold\"> Total params: </span><span style=\"color: #00af00; text-decoration-color: #00af00\">9,859</span> (38.51 KB)\n",
       "</pre>\n"
      ],
      "text/plain": [
       "\u001b[1m Total params: \u001b[0m\u001b[38;5;34m9,859\u001b[0m (38.51 KB)\n"
      ]
     },
     "metadata": {},
     "output_type": "display_data"
    },
    {
     "data": {
      "text/html": [
       "<pre style=\"white-space:pre;overflow-x:auto;line-height:normal;font-family:Menlo,'DejaVu Sans Mono',consolas,'Courier New',monospace\"><span style=\"font-weight: bold\"> Trainable params: </span><span style=\"color: #00af00; text-decoration-color: #00af00\">9,859</span> (38.51 KB)\n",
       "</pre>\n"
      ],
      "text/plain": [
       "\u001b[1m Trainable params: \u001b[0m\u001b[38;5;34m9,859\u001b[0m (38.51 KB)\n"
      ]
     },
     "metadata": {},
     "output_type": "display_data"
    },
    {
     "data": {
      "text/html": [
       "<pre style=\"white-space:pre;overflow-x:auto;line-height:normal;font-family:Menlo,'DejaVu Sans Mono',consolas,'Courier New',monospace\"><span style=\"font-weight: bold\"> Non-trainable params: </span><span style=\"color: #00af00; text-decoration-color: #00af00\">0</span> (0.00 B)\n",
       "</pre>\n"
      ],
      "text/plain": [
       "\u001b[1m Non-trainable params: \u001b[0m\u001b[38;5;34m0\u001b[0m (0.00 B)\n"
      ]
     },
     "metadata": {},
     "output_type": "display_data"
    }
   ],
   "source": [
    "model_5R = Sequential()\n",
    "model_5R.add(Input((X_5R_train.shape[1],)))\n",
    "model_5R.add(Dense(128, activation=\"relu\"))\n",
    "model_5R.add(Dense(64, activation=\"relu\"))\n",
    "model_5R.add(Dense(y_5R_train.shape[1], activation=\"linear\"))\n",
    "model_5R.summary()"
   ]
  },
  {
   "cell_type": "code",
   "execution_count": 61,
   "metadata": {},
   "outputs": [
    {
     "name": "stdout",
     "output_type": "stream",
     "text": [
      "Epoch 1/20\n",
      "\u001b[1m2500/2500\u001b[0m \u001b[32m━━━━━━━━━━━━━━━━━━━━\u001b[0m\u001b[37m\u001b[0m \u001b[1m8s\u001b[0m 2ms/step - loss: 0.0032 - val_loss: 2.7842e-04\n",
      "Epoch 2/20\n",
      "\u001b[1m2500/2500\u001b[0m \u001b[32m━━━━━━━━━━━━━━━━━━━━\u001b[0m\u001b[37m\u001b[0m \u001b[1m5s\u001b[0m 2ms/step - loss: 2.3117e-04 - val_loss: 1.6856e-04\n",
      "Epoch 3/20\n",
      "\u001b[1m2500/2500\u001b[0m \u001b[32m━━━━━━━━━━━━━━━━━━━━\u001b[0m\u001b[37m\u001b[0m \u001b[1m5s\u001b[0m 2ms/step - loss: 1.5878e-04 - val_loss: 1.9391e-04\n",
      "Epoch 4/20\n",
      "\u001b[1m2500/2500\u001b[0m \u001b[32m━━━━━━━━━━━━━━━━━━━━\u001b[0m\u001b[37m\u001b[0m \u001b[1m5s\u001b[0m 2ms/step - loss: 1.2389e-04 - val_loss: 1.2674e-04\n",
      "Epoch 5/20\n",
      "\u001b[1m2500/2500\u001b[0m \u001b[32m━━━━━━━━━━━━━━━━━━━━\u001b[0m\u001b[37m\u001b[0m \u001b[1m5s\u001b[0m 2ms/step - loss: 1.0701e-04 - val_loss: 9.9851e-05\n",
      "Epoch 6/20\n",
      "\u001b[1m2500/2500\u001b[0m \u001b[32m━━━━━━━━━━━━━━━━━━━━\u001b[0m\u001b[37m\u001b[0m \u001b[1m5s\u001b[0m 2ms/step - loss: 9.6059e-05 - val_loss: 8.3100e-05\n",
      "Epoch 7/20\n",
      "\u001b[1m2500/2500\u001b[0m \u001b[32m━━━━━━━━━━━━━━━━━━━━\u001b[0m\u001b[37m\u001b[0m \u001b[1m6s\u001b[0m 2ms/step - loss: 8.4412e-05 - val_loss: 1.0510e-04\n",
      "Epoch 8/20\n",
      "\u001b[1m2500/2500\u001b[0m \u001b[32m━━━━━━━━━━━━━━━━━━━━\u001b[0m\u001b[37m\u001b[0m \u001b[1m6s\u001b[0m 2ms/step - loss: 8.0389e-05 - val_loss: 6.5102e-05\n",
      "Epoch 9/20\n",
      "\u001b[1m2500/2500\u001b[0m \u001b[32m━━━━━━━━━━━━━━━━━━━━\u001b[0m\u001b[37m\u001b[0m \u001b[1m5s\u001b[0m 2ms/step - loss: 7.3803e-05 - val_loss: 8.7395e-05\n",
      "Epoch 10/20\n",
      "\u001b[1m2500/2500\u001b[0m \u001b[32m━━━━━━━━━━━━━━━━━━━━\u001b[0m\u001b[37m\u001b[0m \u001b[1m5s\u001b[0m 2ms/step - loss: 6.7674e-05 - val_loss: 6.1745e-05\n",
      "Epoch 11/20\n",
      "\u001b[1m2500/2500\u001b[0m \u001b[32m━━━━━━━━━━━━━━━━━━━━\u001b[0m\u001b[37m\u001b[0m \u001b[1m5s\u001b[0m 2ms/step - loss: 6.6006e-05 - val_loss: 5.8946e-05\n",
      "Epoch 12/20\n",
      "\u001b[1m2500/2500\u001b[0m \u001b[32m━━━━━━━━━━━━━━━━━━━━\u001b[0m\u001b[37m\u001b[0m \u001b[1m5s\u001b[0m 2ms/step - loss: 6.1072e-05 - val_loss: 6.3572e-05\n",
      "Epoch 13/20\n",
      "\u001b[1m2500/2500\u001b[0m \u001b[32m━━━━━━━━━━━━━━━━━━━━\u001b[0m\u001b[37m\u001b[0m \u001b[1m5s\u001b[0m 2ms/step - loss: 6.3818e-05 - val_loss: 5.4781e-05\n",
      "Epoch 14/20\n",
      "\u001b[1m2500/2500\u001b[0m \u001b[32m━━━━━━━━━━━━━━━━━━━━\u001b[0m\u001b[37m\u001b[0m \u001b[1m5s\u001b[0m 2ms/step - loss: 5.6293e-05 - val_loss: 5.1595e-05\n",
      "Epoch 15/20\n",
      "\u001b[1m2500/2500\u001b[0m \u001b[32m━━━━━━━━━━━━━━━━━━━━\u001b[0m\u001b[37m\u001b[0m \u001b[1m5s\u001b[0m 2ms/step - loss: 5.3574e-05 - val_loss: 6.3528e-05\n",
      "Epoch 16/20\n",
      "\u001b[1m2500/2500\u001b[0m \u001b[32m━━━━━━━━━━━━━━━━━━━━\u001b[0m\u001b[37m\u001b[0m \u001b[1m5s\u001b[0m 2ms/step - loss: 5.2737e-05 - val_loss: 4.3994e-05\n",
      "Epoch 17/20\n",
      "\u001b[1m2500/2500\u001b[0m \u001b[32m━━━━━━━━━━━━━━━━━━━━\u001b[0m\u001b[37m\u001b[0m \u001b[1m6s\u001b[0m 2ms/step - loss: 5.1843e-05 - val_loss: 5.6581e-05\n",
      "Epoch 18/20\n",
      "\u001b[1m2500/2500\u001b[0m \u001b[32m━━━━━━━━━━━━━━━━━━━━\u001b[0m\u001b[37m\u001b[0m \u001b[1m6s\u001b[0m 2ms/step - loss: 5.1621e-05 - val_loss: 4.9791e-05\n",
      "Epoch 19/20\n",
      "\u001b[1m2500/2500\u001b[0m \u001b[32m━━━━━━━━━━━━━━━━━━━━\u001b[0m\u001b[37m\u001b[0m \u001b[1m5s\u001b[0m 2ms/step - loss: 4.9775e-05 - val_loss: 4.7020e-05\n",
      "Epoch 20/20\n",
      "\u001b[1m2500/2500\u001b[0m \u001b[32m━━━━━━━━━━━━━━━━━━━━\u001b[0m\u001b[37m\u001b[0m \u001b[1m5s\u001b[0m 2ms/step - loss: 4.7073e-05 - val_loss: 4.0018e-05\n",
      "== Final loss ==\n",
      "Train: 4.676429307437502e-05\n",
      "Test: 4.001801789854653e-05\n"
     ]
    }
   ],
   "source": [
    "model_5R.compile(loss=MSE, optimizer=Adam(learning_rate=0.001))\n",
    "\n",
    "epochs = 20\n",
    "history_5R = model_5R.fit(X_5R_train, y_5R_train,\n",
    "                    epochs=epochs,\n",
    "                    validation_data=(X_5R_test, y_5R_test),\n",
    "                    verbose=1)\n",
    "\n",
    "print(f\"== Final loss ==\\nTrain: {history_5R.history['loss'][-1]}\\nTest: {history_5R.history['val_loss'][-1]}\")"
   ]
  },
  {
   "cell_type": "code",
   "execution_count": 62,
   "metadata": {},
   "outputs": [
    {
     "data": {
      "image/png": "[encoded data removed]",
      "text/plain": [
       "<Figure size 640x480 with 1 Axes>"
      ]
     },
     "metadata": {},
     "output_type": "display_data"
    }
   ],
   "source": [
    "displayLearningCurve(history=history_5R, \n",
    "                    epochs=epochs)"
   ]
  },
  {
   "cell_type": "code",
   "execution_count": 63,
   "metadata": {},
   "outputs": [
    {
     "name": "stdout",
     "output_type": "stream",
     "text": [
      "Example with (j0, j1, j2, j3, j4) = (0, 0, 0, 0, 0)\n",
      "End-effector predicted X-position: -0.008265020325779915\n",
      "End-effector predicted Y-position: 0.0060848332941532135\n",
      "End-effector predicted Z-position: 0.5933089256286621\n",
      "\n",
      "\n",
      "Example with (j0, j1, j2, j3, j4) = (0.7853981633974483, 0.7853981633974483, 0.7853981633974483, 0.7853981633974483, -1.5707963267948966)\n",
      "End-effector predicted X-position: 0.10499875247478485\n",
      "End-effector predicted Y-position: 0.271472692489624\n",
      "End-effector predicted Z-position: 0.13242144882678986\n",
      "\n",
      "\n"
     ]
    }
   ],
   "source": [
    "THETA_LST = [(0, 0, 0, 0, 0), (np.pi/4, np.pi/4, np.pi/4, np.pi/4, -np.pi/2)]\n",
    "\n",
    "for theta in THETA_LST:\n",
    "    ee_x_pred, ee_y_pred, ee_z_pred = FK(model_5R, theta)\n",
    "    print(f\"Example with (j0, j1, j2, j3, j4) = {theta}\")\n",
    "    print(f\"End-effector predicted X-position: {ee_x_pred}\")\n",
    "    print(f\"End-effector predicted Y-position: {ee_y_pred}\")\n",
    "    print(f\"End-effector predicted Z-position: {ee_z_pred}\")\n",
    "    print(\"\\n\")"
   ]
  },
  {
   "cell_type": "code",
   "execution_count": null,
   "metadata": {},
   "outputs": [
    {
     "name": "stdout",
     "output_type": "stream",
     "text": [
      "Jacobian Matrix predicted:\n",
      "[[-0.11352751 -0.12822983 -0.20378156 -0.13167325  0.05127537]\n",
      " [ 0.23324408 -0.17738383 -0.182939   -0.11372578 -0.06744169]\n",
      " [ 0.00232268 -0.24752484 -0.1190227  -0.04801112  0.08926441]]\n"
     ]
    }
   ],
   "source": [
    "theta = [np.pi/4, np.pi/2, np.pi/4, np.pi/4, np.pi/4]  \n",
    "\n",
    "learned_J = FK_Jacobian_pred(model_5R, theta)\n",
    "print(f\"Jacobian Matrix predicted:\\n{learned_J}\")"
   ]
  },
  {
   "cell_type": "markdown",
   "metadata": {},
   "source": [
    "## IV - Inverse Kinematics "
   ]
  },
  {
   "cell_type": "markdown",
   "metadata": {},
   "source": [
    "### 1) 2D with 2 joints"
   ]
  },
  {
   "cell_type": "markdown",
   "metadata": {},
   "source": [
    "### 2) 2D with 3 joints"
   ]
  },
  {
   "cell_type": "markdown",
   "metadata": {},
   "source": [
    "### 3) 3D with 5 joints"
   ]
  },
  {
   "cell_type": "markdown",
   "metadata": {},
   "source": [
    "## V - Robot Control "
   ]
  },
  {
   "cell_type": "markdown",
   "metadata": {},
   "source": [
    "### 1) 2D with 2 joints"
   ]
  },
  {
   "cell_type": "markdown",
   "metadata": {},
   "source": [
    "### 2) 2D with 3 joints"
   ]
  },
  {
   "cell_type": "markdown",
   "metadata": {},
   "source": [
    "### 3) 2D with 5 joints"
   ]
  },
  {
   "cell_type": "markdown",
   "metadata": {},
   "source": [
    "## VI - Deep Reinforcement Learning "
   ]
  },
  {
   "cell_type": "markdown",
   "metadata": {},
   "source": [
    "### 1) 2D with 2 joints"
   ]
  },
  {
   "cell_type": "markdown",
   "metadata": {},
   "source": [
    "### 2) 2D with 3 joints"
   ]
  },
  {
   "cell_type": "markdown",
   "metadata": {},
   "source": [
    "### 3) 3D with 5 joints"
   ]
  }
 ],
 "metadata": {
  "kernelspec": {
   "display_name": "Python 3",
   "language": "python",
   "name": "python3"
  },
  "language_info": {
   "codemirror_mode": {
    "name": "ipython",
    "version": 3
   },
   "file_extension": ".py",
   "mimetype": "text/x-python",
   "name": "python",
   "nbconvert_exporter": "python",
   "pygments_lexer": "ipython3",
   "version": "3.12.3"
  }
 },
 "nbformat": 4,
 "nbformat_minor": 2
}
