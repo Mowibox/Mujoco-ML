{
 "cells": [
  {
   "cell_type": "markdown",
   "metadata": {},
   "source": [
    "# Machine Learning applied to MuJoCo environment\n",
    "\n",
    "* ### Author: Mowibox (Ousmane THIONGANE)\n",
    "* ### Date: November 4th, 2024"
   ]
  },
  {
   "cell_type": "markdown",
   "metadata": {},
   "source": [
    "## Imports"
   ]
  },
  {
   "cell_type": "code",
   "execution_count": 2,
   "metadata": {},
   "outputs": [],
   "source": [
    "import time\n",
    "import pandas as pd\n",
    "from utils import displayLearningCurve\n",
    "from tensorflow.keras.losses import MSE\n",
    "from tensorflow.keras.models import Sequential\n",
    "from tensorflow.keras.layers import Input, Dense\n",
    "from tensorflow.keras.optimizers import Adam, SGD\n",
    "from sklearn.model_selection import train_test_split\n",
    "from sklearn.metrics import mean_absolute_error, r2_score"
   ]
  },
  {
   "cell_type": "markdown",
   "metadata": {},
   "source": [
    "## I - Context "
   ]
  },
  {
   "cell_type": "markdown",
   "metadata": {},
   "source": [
    "The main goal of this project is to create a Machine Learning model and training it to learn Forward Kinematics (by configuring an input value for the position and orientation of the end effector of a robotic arm, we return the values of the joints that enable this point to be reached)."
   ]
  },
  {
   "cell_type": "markdown",
   "metadata": {},
   "source": [
    "## II - Datasets generation & prepraration"
   ]
  },
  {
   "cell_type": "markdown",
   "metadata": {},
   "source": [
    "In this part, we will prepare the data to perform a regression the by generatinig the datasets."
   ]
  },
  {
   "cell_type": "markdown",
   "metadata": {},
   "source": [
    "### 1) 2D with 2 joints"
   ]
  },
  {
   "cell_type": "markdown",
   "metadata": {},
   "source": [
    "Firstly, we record a sequence with by launching the script with the command line: `python3 run.py -env r2 -seed 2184503 -steps 100000 --log > 2R_2184503_100.csv`. This allows us to save the data in a csv and display it with pandas\n",
    "\n",
    "The filename format is \"\\<model>\\_\\<seed>\\_\\<nr. of samples>.csv\". Here 2R is the 2D with 2 joints model, 2184503 for the random seed n°2184503 and 100 for 100k steps:"
   ]
  },
  {
   "cell_type": "code",
   "execution_count": 2,
   "metadata": {},
   "outputs": [
    {
     "data": {
      "text/html": [
       "<div>\n",
       "<style scoped>\n",
       "    .dataframe tbody tr th:only-of-type {\n",
       "        vertical-align: middle;\n",
       "    }\n",
       "\n",
       "    .dataframe tbody tr th {\n",
       "        vertical-align: top;\n",
       "    }\n",
       "\n",
       "    .dataframe thead th {\n",
       "        text-align: right;\n",
       "    }\n",
       "</style>\n",
       "<table border=\"1\" class=\"dataframe\">\n",
       "  <thead>\n",
       "    <tr style=\"text-align: right;\">\n",
       "      <th></th>\n",
       "      <th>j0</th>\n",
       "      <th>j1</th>\n",
       "      <th>cos(j0)</th>\n",
       "      <th>cos(j1)</th>\n",
       "      <th>sin(j0)</th>\n",
       "      <th>sin(j1)</th>\n",
       "      <th>ee_x</th>\n",
       "      <th>ee_y</th>\n",
       "      <th>ee_qw</th>\n",
       "      <th>ee_qz</th>\n",
       "    </tr>\n",
       "  </thead>\n",
       "  <tbody>\n",
       "    <tr>\n",
       "      <th>0</th>\n",
       "      <td>0.034</td>\n",
       "      <td>0.003</td>\n",
       "      <td>0.999</td>\n",
       "      <td>1.000</td>\n",
       "      <td>0.034</td>\n",
       "      <td>0.003</td>\n",
       "      <td>0.210</td>\n",
       "      <td>0.007</td>\n",
       "      <td>1.000</td>\n",
       "      <td>0.018</td>\n",
       "    </tr>\n",
       "    <tr>\n",
       "      <th>1</th>\n",
       "      <td>0.048</td>\n",
       "      <td>0.004</td>\n",
       "      <td>0.999</td>\n",
       "      <td>1.000</td>\n",
       "      <td>0.048</td>\n",
       "      <td>0.004</td>\n",
       "      <td>0.210</td>\n",
       "      <td>0.010</td>\n",
       "      <td>1.000</td>\n",
       "      <td>0.026</td>\n",
       "    </tr>\n",
       "    <tr>\n",
       "      <th>2</th>\n",
       "      <td>0.073</td>\n",
       "      <td>0.038</td>\n",
       "      <td>0.997</td>\n",
       "      <td>0.999</td>\n",
       "      <td>0.073</td>\n",
       "      <td>0.038</td>\n",
       "      <td>0.209</td>\n",
       "      <td>0.020</td>\n",
       "      <td>0.998</td>\n",
       "      <td>0.056</td>\n",
       "    </tr>\n",
       "    <tr>\n",
       "      <th>3</th>\n",
       "      <td>0.093</td>\n",
       "      <td>0.098</td>\n",
       "      <td>0.996</td>\n",
       "      <td>0.995</td>\n",
       "      <td>0.093</td>\n",
       "      <td>0.098</td>\n",
       "      <td>0.208</td>\n",
       "      <td>0.030</td>\n",
       "      <td>0.995</td>\n",
       "      <td>0.096</td>\n",
       "    </tr>\n",
       "    <tr>\n",
       "      <th>4</th>\n",
       "      <td>0.136</td>\n",
       "      <td>0.153</td>\n",
       "      <td>0.991</td>\n",
       "      <td>0.988</td>\n",
       "      <td>0.135</td>\n",
       "      <td>0.152</td>\n",
       "      <td>0.205</td>\n",
       "      <td>0.045</td>\n",
       "      <td>0.990</td>\n",
       "      <td>0.144</td>\n",
       "    </tr>\n",
       "  </tbody>\n",
       "</table>\n",
       "</div>"
      ],
      "text/plain": [
       "      j0     j1   cos(j0)   cos(j1)   sin(j0)   sin(j1)   ee_x   ee_y   ee_qw  \\\n",
       "0  0.034  0.003     0.999     1.000     0.034     0.003  0.210  0.007   1.000   \n",
       "1  0.048  0.004     0.999     1.000     0.048     0.004  0.210  0.010   1.000   \n",
       "2  0.073  0.038     0.997     0.999     0.073     0.038  0.209  0.020   0.998   \n",
       "3  0.093  0.098     0.996     0.995     0.093     0.098  0.208  0.030   0.995   \n",
       "4  0.136  0.153     0.991     0.988     0.135     0.152  0.205  0.045   0.990   \n",
       "\n",
       "    ee_qz  \n",
       "0   0.018  \n",
       "1   0.026  \n",
       "2   0.056  \n",
       "3   0.096  \n",
       "4   0.144  "
      ]
     },
     "metadata": {},
     "output_type": "display_data"
    },
    {
     "name": "stdout",
     "output_type": "stream",
     "text": [
      "<class 'pandas.core.frame.DataFrame'>\n",
      "RangeIndex: 100000 entries, 0 to 99999\n",
      "Data columns (total 10 columns):\n",
      " #   Column    Non-Null Count   Dtype  \n",
      "---  ------    --------------   -----  \n",
      " 0   j0        100000 non-null  float64\n",
      " 1    j1       100000 non-null  float64\n",
      " 2    cos(j0)  100000 non-null  float64\n",
      " 3    cos(j1)  100000 non-null  float64\n",
      " 4    sin(j0)  100000 non-null  float64\n",
      " 5    sin(j1)  100000 non-null  float64\n",
      " 6    ee_x     100000 non-null  float64\n",
      " 7    ee_y     100000 non-null  float64\n",
      " 8    ee_qw    100000 non-null  float64\n",
      " 9    ee_qz    100000 non-null  float64\n",
      "dtypes: float64(10)\n",
      "memory usage: 7.6 MB\n"
     ]
    }
   ],
   "source": [
    "filepath_2R = r'data/2R_2184503_100.csv'\n",
    "df_2R = pd.read_csv(filepath_2R, sep=\";\", header=0).copy()\n",
    "\n",
    "display(df_2R.head(5))\n",
    "df_2R.info()"
   ]
  },
  {
   "cell_type": "markdown",
   "metadata": {},
   "source": [
    "The .csv contains many informations about the simulation such as:\n",
    "- The joints angles $j_0$, $j_1$\n",
    "- The sine and the cosine of the joints angles: $\\cos(j_0)$, $\\sin(j_0)$, $\\cos(j_1)$, $\\sin(j_1)$\n",
    "- The end-effector pose: $(x,y) = (ee_x, ee_y)$\n",
    "- The end-effector orientation, based on quaternions: $q = (w,z) = (\\cos(\\frac{\\theta_z}{2}), \\sin(\\frac{\\theta_z}{2})) = ((ee_{qw})$, $(ee_{qz}))$ \n",
    "\n"
   ]
  },
  {
   "cell_type": "markdown",
   "metadata": {},
   "source": [
    "#### 1.a) Joint angles"
   ]
  },
  {
   "cell_type": "code",
   "execution_count": 3,
   "metadata": {},
   "outputs": [
    {
     "data": {
      "text/html": [
       "<div>\n",
       "<style scoped>\n",
       "    .dataframe tbody tr th:only-of-type {\n",
       "        vertical-align: middle;\n",
       "    }\n",
       "\n",
       "    .dataframe tbody tr th {\n",
       "        vertical-align: top;\n",
       "    }\n",
       "\n",
       "    .dataframe thead th {\n",
       "        text-align: right;\n",
       "    }\n",
       "</style>\n",
       "<table border=\"1\" class=\"dataframe\">\n",
       "  <thead>\n",
       "    <tr style=\"text-align: right;\">\n",
       "      <th></th>\n",
       "      <th>cos(j0)</th>\n",
       "      <th>sin(j0)</th>\n",
       "      <th>cos(j1)</th>\n",
       "      <th>sin(j1)</th>\n",
       "    </tr>\n",
       "  </thead>\n",
       "  <tbody>\n",
       "    <tr>\n",
       "      <th>0</th>\n",
       "      <td>0.999</td>\n",
       "      <td>0.034</td>\n",
       "      <td>1.000</td>\n",
       "      <td>0.003</td>\n",
       "    </tr>\n",
       "    <tr>\n",
       "      <th>1</th>\n",
       "      <td>0.999</td>\n",
       "      <td>0.048</td>\n",
       "      <td>1.000</td>\n",
       "      <td>0.004</td>\n",
       "    </tr>\n",
       "    <tr>\n",
       "      <th>2</th>\n",
       "      <td>0.997</td>\n",
       "      <td>0.073</td>\n",
       "      <td>0.999</td>\n",
       "      <td>0.038</td>\n",
       "    </tr>\n",
       "    <tr>\n",
       "      <th>3</th>\n",
       "      <td>0.996</td>\n",
       "      <td>0.093</td>\n",
       "      <td>0.995</td>\n",
       "      <td>0.098</td>\n",
       "    </tr>\n",
       "    <tr>\n",
       "      <th>4</th>\n",
       "      <td>0.991</td>\n",
       "      <td>0.135</td>\n",
       "      <td>0.988</td>\n",
       "      <td>0.152</td>\n",
       "    </tr>\n",
       "  </tbody>\n",
       "</table>\n",
       "</div>"
      ],
      "text/plain": [
       "   cos(j0)  sin(j0)  cos(j1)  sin(j1)\n",
       "0    0.999    0.034    1.000    0.003\n",
       "1    0.999    0.048    1.000    0.004\n",
       "2    0.997    0.073    0.999    0.038\n",
       "3    0.996    0.093    0.995    0.098\n",
       "4    0.991    0.135    0.988    0.152"
      ]
     },
     "metadata": {},
     "output_type": "display_data"
    }
   ],
   "source": [
    "X_2R = df_2R[[' cos(j0)', ' sin(j0)', ' cos(j1)', ' sin(j1)']].values\n",
    "\n",
    "X_2R = pd.DataFrame(X_2R, columns=['cos(j0)', 'sin(j0)', 'cos(j1)', 'sin(j1)'])\n",
    "display(X_2R.head(5))"
   ]
  },
  {
   "cell_type": "markdown",
   "metadata": {},
   "source": [
    "#### 1.b) Fingertip position"
   ]
  },
  {
   "cell_type": "code",
   "execution_count": 4,
   "metadata": {},
   "outputs": [],
   "source": [
    "y_2R_pos = df_2R[[' ee_x', ' ee_y']].values"
   ]
  },
  {
   "cell_type": "markdown",
   "metadata": {},
   "source": [
    "#### 1.c) Fingertip orientation"
   ]
  },
  {
   "cell_type": "code",
   "execution_count": 5,
   "metadata": {},
   "outputs": [],
   "source": [
    "y_2R_ori = df_2R[[' ee_qw', ' ee_qz']].values"
   ]
  },
  {
   "cell_type": "markdown",
   "metadata": {},
   "source": [
    "Here, I choose to merge the end-effector position and orientation in one dataframe, so I can also try later what will happened when all the outputs are provided to the model. "
   ]
  },
  {
   "cell_type": "code",
   "execution_count": 6,
   "metadata": {},
   "outputs": [
    {
     "data": {
      "text/html": [
       "<div>\n",
       "<style scoped>\n",
       "    .dataframe tbody tr th:only-of-type {\n",
       "        vertical-align: middle;\n",
       "    }\n",
       "\n",
       "    .dataframe tbody tr th {\n",
       "        vertical-align: top;\n",
       "    }\n",
       "\n",
       "    .dataframe thead th {\n",
       "        text-align: right;\n",
       "    }\n",
       "</style>\n",
       "<table border=\"1\" class=\"dataframe\">\n",
       "  <thead>\n",
       "    <tr style=\"text-align: right;\">\n",
       "      <th></th>\n",
       "      <th>ee_x</th>\n",
       "      <th>ee_y</th>\n",
       "      <th>ee_qw</th>\n",
       "      <th>ee_qz</th>\n",
       "    </tr>\n",
       "  </thead>\n",
       "  <tbody>\n",
       "    <tr>\n",
       "      <th>0</th>\n",
       "      <td>0.210</td>\n",
       "      <td>0.007</td>\n",
       "      <td>1.000</td>\n",
       "      <td>0.018</td>\n",
       "    </tr>\n",
       "    <tr>\n",
       "      <th>1</th>\n",
       "      <td>0.210</td>\n",
       "      <td>0.010</td>\n",
       "      <td>1.000</td>\n",
       "      <td>0.026</td>\n",
       "    </tr>\n",
       "    <tr>\n",
       "      <th>2</th>\n",
       "      <td>0.209</td>\n",
       "      <td>0.020</td>\n",
       "      <td>0.998</td>\n",
       "      <td>0.056</td>\n",
       "    </tr>\n",
       "    <tr>\n",
       "      <th>3</th>\n",
       "      <td>0.208</td>\n",
       "      <td>0.030</td>\n",
       "      <td>0.995</td>\n",
       "      <td>0.096</td>\n",
       "    </tr>\n",
       "    <tr>\n",
       "      <th>4</th>\n",
       "      <td>0.205</td>\n",
       "      <td>0.045</td>\n",
       "      <td>0.990</td>\n",
       "      <td>0.144</td>\n",
       "    </tr>\n",
       "  </tbody>\n",
       "</table>\n",
       "</div>"
      ],
      "text/plain": [
       "    ee_x   ee_y  ee_qw  ee_qz\n",
       "0  0.210  0.007  1.000  0.018\n",
       "1  0.210  0.010  1.000  0.026\n",
       "2  0.209  0.020  0.998  0.056\n",
       "3  0.208  0.030  0.995  0.096\n",
       "4  0.205  0.045  0.990  0.144"
      ]
     },
     "metadata": {},
     "output_type": "display_data"
    }
   ],
   "source": [
    "y_2R = pd.concat([pd.DataFrame(y_2R_pos, columns=['ee_x', 'ee_y']), \n",
    "                         pd.DataFrame(y_2R_ori, columns=['ee_qw', 'ee_qz'])], axis=1)\n",
    "\n",
    "display(y_2R.head(5))"
   ]
  },
  {
   "cell_type": "markdown",
   "metadata": {},
   "source": [
    "### 2) 2D with 3 joints "
   ]
  },
  {
   "cell_type": "markdown",
   "metadata": {},
   "source": [
    "The 3R robot .csv contains the following informations:\n",
    "- The joints angles $j_0$, $j_1$, $j_2$ \n",
    "- The sine and the cosine of the joints angles: $\\cos(j_0)$, $\\sin(j_0)$, $\\cos(j_1)$, $\\sin(j_1)$, $\\cos(j_2)$, $\\sin(j_2)$\n",
    "- The end-effector pose: $(x,y) = (ee_x, ee_y)$\n",
    "- The end-effector orientation, based on quaternions: $q = (w,z) = (\\cos(\\frac{\\theta_z}{2}), \\sin(\\frac{\\theta_z}{2})) = ((ee_{qw})$, $(ee_{qz}))$ \n"
   ]
  },
  {
   "cell_type": "code",
   "execution_count": 7,
   "metadata": {},
   "outputs": [
    {
     "data": {
      "text/html": [
       "<div>\n",
       "<style scoped>\n",
       "    .dataframe tbody tr th:only-of-type {\n",
       "        vertical-align: middle;\n",
       "    }\n",
       "\n",
       "    .dataframe tbody tr th {\n",
       "        vertical-align: top;\n",
       "    }\n",
       "\n",
       "    .dataframe thead th {\n",
       "        text-align: right;\n",
       "    }\n",
       "</style>\n",
       "<table border=\"1\" class=\"dataframe\">\n",
       "  <thead>\n",
       "    <tr style=\"text-align: right;\">\n",
       "      <th></th>\n",
       "      <th>j0</th>\n",
       "      <th>j1</th>\n",
       "      <th>j2</th>\n",
       "      <th>cos(j0)</th>\n",
       "      <th>cos(j1)</th>\n",
       "      <th>cos(j2)</th>\n",
       "      <th>sin(j0)</th>\n",
       "      <th>sin(j1)</th>\n",
       "      <th>sin(j2)</th>\n",
       "      <th>ee_x</th>\n",
       "      <th>ee_y</th>\n",
       "      <th>ee_qw</th>\n",
       "      <th>ee_qz</th>\n",
       "    </tr>\n",
       "  </thead>\n",
       "  <tbody>\n",
       "    <tr>\n",
       "      <th>0</th>\n",
       "      <td>0.034</td>\n",
       "      <td>0.003</td>\n",
       "      <td>-0.002</td>\n",
       "      <td>0.999</td>\n",
       "      <td>1.0</td>\n",
       "      <td>1.0</td>\n",
       "      <td>0.034</td>\n",
       "      <td>0.003</td>\n",
       "      <td>-0.002</td>\n",
       "      <td>0.310</td>\n",
       "      <td>0.011</td>\n",
       "      <td>1.000</td>\n",
       "      <td>0.017</td>\n",
       "    </tr>\n",
       "    <tr>\n",
       "      <th>1</th>\n",
       "      <td>0.047</td>\n",
       "      <td>0.004</td>\n",
       "      <td>-0.003</td>\n",
       "      <td>0.999</td>\n",
       "      <td>1.0</td>\n",
       "      <td>1.0</td>\n",
       "      <td>0.047</td>\n",
       "      <td>0.004</td>\n",
       "      <td>-0.003</td>\n",
       "      <td>0.310</td>\n",
       "      <td>0.015</td>\n",
       "      <td>1.000</td>\n",
       "      <td>0.024</td>\n",
       "    </tr>\n",
       "    <tr>\n",
       "      <th>2</th>\n",
       "      <td>0.105</td>\n",
       "      <td>0.001</td>\n",
       "      <td>-0.008</td>\n",
       "      <td>0.994</td>\n",
       "      <td>1.0</td>\n",
       "      <td>1.0</td>\n",
       "      <td>0.105</td>\n",
       "      <td>0.001</td>\n",
       "      <td>-0.008</td>\n",
       "      <td>0.308</td>\n",
       "      <td>0.032</td>\n",
       "      <td>0.999</td>\n",
       "      <td>0.049</td>\n",
       "    </tr>\n",
       "  </tbody>\n",
       "</table>\n",
       "</div>"
      ],
      "text/plain": [
       "      j0     j1     j2   cos(j0)   cos(j1)   cos(j2)   sin(j0)   sin(j1)  \\\n",
       "0  0.034  0.003 -0.002     0.999       1.0       1.0     0.034     0.003   \n",
       "1  0.047  0.004 -0.003     0.999       1.0       1.0     0.047     0.004   \n",
       "2  0.105  0.001 -0.008     0.994       1.0       1.0     0.105     0.001   \n",
       "\n",
       "    sin(j2)   ee_x   ee_y   ee_qw   ee_qz  \n",
       "0    -0.002  0.310  0.011   1.000   0.017  \n",
       "1    -0.003  0.310  0.015   1.000   0.024  \n",
       "2    -0.008  0.308  0.032   0.999   0.049  "
      ]
     },
     "metadata": {},
     "output_type": "display_data"
    },
    {
     "name": "stdout",
     "output_type": "stream",
     "text": [
      "<class 'pandas.core.frame.DataFrame'>\n",
      "RangeIndex: 100000 entries, 0 to 99999\n",
      "Data columns (total 13 columns):\n",
      " #   Column    Non-Null Count   Dtype  \n",
      "---  ------    --------------   -----  \n",
      " 0   j0        100000 non-null  float64\n",
      " 1    j1       100000 non-null  float64\n",
      " 2    j2       100000 non-null  float64\n",
      " 3    cos(j0)  100000 non-null  float64\n",
      " 4    cos(j1)  100000 non-null  float64\n",
      " 5    cos(j2)  100000 non-null  float64\n",
      " 6    sin(j0)  100000 non-null  float64\n",
      " 7    sin(j1)  100000 non-null  float64\n",
      " 8    sin(j2)  100000 non-null  float64\n",
      " 9    ee_x     100000 non-null  float64\n",
      " 10   ee_y     100000 non-null  float64\n",
      " 11   ee_qw    100000 non-null  float64\n",
      " 12   ee_qz    100000 non-null  float64\n",
      "dtypes: float64(13)\n",
      "memory usage: 9.9 MB\n"
     ]
    }
   ],
   "source": [
    "filepath_3R = r'data/3R_2184503_100.csv'\n",
    "df_3R = pd.read_csv(filepath_3R, sep=\";\", header=0).copy()\n",
    "\n",
    "display(df_3R.head(3))\n",
    "df_3R.info()"
   ]
  },
  {
   "cell_type": "markdown",
   "metadata": {},
   "source": [
    "The processing of the data is basically the same as on the previous part:"
   ]
  },
  {
   "cell_type": "markdown",
   "metadata": {},
   "source": [
    "#### 2.a) Joint angles"
   ]
  },
  {
   "cell_type": "code",
   "execution_count": 8,
   "metadata": {},
   "outputs": [
    {
     "data": {
      "text/html": [
       "<div>\n",
       "<style scoped>\n",
       "    .dataframe tbody tr th:only-of-type {\n",
       "        vertical-align: middle;\n",
       "    }\n",
       "\n",
       "    .dataframe tbody tr th {\n",
       "        vertical-align: top;\n",
       "    }\n",
       "\n",
       "    .dataframe thead th {\n",
       "        text-align: right;\n",
       "    }\n",
       "</style>\n",
       "<table border=\"1\" class=\"dataframe\">\n",
       "  <thead>\n",
       "    <tr style=\"text-align: right;\">\n",
       "      <th></th>\n",
       "      <th>cos(j0)</th>\n",
       "      <th>sin(j0)</th>\n",
       "      <th>cos(j1)</th>\n",
       "      <th>sin(j1)</th>\n",
       "      <th>cos(j2)</th>\n",
       "      <th>sin(j2)</th>\n",
       "    </tr>\n",
       "  </thead>\n",
       "  <tbody>\n",
       "    <tr>\n",
       "      <th>0</th>\n",
       "      <td>0.999</td>\n",
       "      <td>0.034</td>\n",
       "      <td>1.0</td>\n",
       "      <td>0.003</td>\n",
       "      <td>1.0</td>\n",
       "      <td>-0.002</td>\n",
       "    </tr>\n",
       "    <tr>\n",
       "      <th>1</th>\n",
       "      <td>0.999</td>\n",
       "      <td>0.047</td>\n",
       "      <td>1.0</td>\n",
       "      <td>0.004</td>\n",
       "      <td>1.0</td>\n",
       "      <td>-0.003</td>\n",
       "    </tr>\n",
       "    <tr>\n",
       "      <th>2</th>\n",
       "      <td>0.994</td>\n",
       "      <td>0.105</td>\n",
       "      <td>1.0</td>\n",
       "      <td>0.001</td>\n",
       "      <td>1.0</td>\n",
       "      <td>-0.008</td>\n",
       "    </tr>\n",
       "  </tbody>\n",
       "</table>\n",
       "</div>"
      ],
      "text/plain": [
       "   cos(j0)  sin(j0)  cos(j1)  sin(j1)  cos(j2)  sin(j2)\n",
       "0    0.999    0.034      1.0    0.003      1.0   -0.002\n",
       "1    0.999    0.047      1.0    0.004      1.0   -0.003\n",
       "2    0.994    0.105      1.0    0.001      1.0   -0.008"
      ]
     },
     "metadata": {},
     "output_type": "display_data"
    }
   ],
   "source": [
    "X_3R = df_3R[[' cos(j0)', ' sin(j0)', ' cos(j1)', ' sin(j1)', ' cos(j2)', ' sin(j2)']].values\n",
    "X_3R = pd.DataFrame(X_3R, columns=['cos(j0)', 'sin(j0)', 'cos(j1)', 'sin(j1)', 'cos(j2)', 'sin(j2)'])\n",
    "display(X_3R.head(3))"
   ]
  },
  {
   "cell_type": "markdown",
   "metadata": {},
   "source": [
    "#### 2.b) Fingertip position"
   ]
  },
  {
   "cell_type": "code",
   "execution_count": 9,
   "metadata": {},
   "outputs": [],
   "source": [
    "y_3R_pos = df_3R[[' ee_x', ' ee_y']].values"
   ]
  },
  {
   "cell_type": "markdown",
   "metadata": {},
   "source": [
    "#### 2.c) Fingertip orientation"
   ]
  },
  {
   "cell_type": "code",
   "execution_count": 10,
   "metadata": {},
   "outputs": [],
   "source": [
    "y_3R_ori = df_3R[[' ee_qw', ' ee_qz']].values"
   ]
  },
  {
   "cell_type": "code",
   "execution_count": 11,
   "metadata": {},
   "outputs": [
    {
     "data": {
      "text/html": [
       "<div>\n",
       "<style scoped>\n",
       "    .dataframe tbody tr th:only-of-type {\n",
       "        vertical-align: middle;\n",
       "    }\n",
       "\n",
       "    .dataframe tbody tr th {\n",
       "        vertical-align: top;\n",
       "    }\n",
       "\n",
       "    .dataframe thead th {\n",
       "        text-align: right;\n",
       "    }\n",
       "</style>\n",
       "<table border=\"1\" class=\"dataframe\">\n",
       "  <thead>\n",
       "    <tr style=\"text-align: right;\">\n",
       "      <th></th>\n",
       "      <th>ee_x</th>\n",
       "      <th>ee_y</th>\n",
       "      <th>ee_qw</th>\n",
       "      <th>ee_qz</th>\n",
       "    </tr>\n",
       "  </thead>\n",
       "  <tbody>\n",
       "    <tr>\n",
       "      <th>0</th>\n",
       "      <td>0.310</td>\n",
       "      <td>0.011</td>\n",
       "      <td>1.000</td>\n",
       "      <td>0.017</td>\n",
       "    </tr>\n",
       "    <tr>\n",
       "      <th>1</th>\n",
       "      <td>0.310</td>\n",
       "      <td>0.015</td>\n",
       "      <td>1.000</td>\n",
       "      <td>0.024</td>\n",
       "    </tr>\n",
       "    <tr>\n",
       "      <th>2</th>\n",
       "      <td>0.308</td>\n",
       "      <td>0.032</td>\n",
       "      <td>0.999</td>\n",
       "      <td>0.049</td>\n",
       "    </tr>\n",
       "  </tbody>\n",
       "</table>\n",
       "</div>"
      ],
      "text/plain": [
       "    ee_x   ee_y  ee_qw  ee_qz\n",
       "0  0.310  0.011  1.000  0.017\n",
       "1  0.310  0.015  1.000  0.024\n",
       "2  0.308  0.032  0.999  0.049"
      ]
     },
     "metadata": {},
     "output_type": "display_data"
    }
   ],
   "source": [
    "y_3R = pd.concat([pd.DataFrame(y_3R_pos, columns=['ee_x', 'ee_y']), \n",
    "                         pd.DataFrame(y_3R_ori, columns=['ee_qw', 'ee_qz'])], axis=1)\n",
    "\n",
    "display(y_3R.head(3))"
   ]
  },
  {
   "cell_type": "markdown",
   "metadata": {},
   "source": [
    "### 3) 3D with 5 joints"
   ]
  },
  {
   "cell_type": "markdown",
   "metadata": {},
   "source": [
    "Since the 5R robot .csv is a 3D-case, the end-effector pose will contain more components:\n",
    "- The joints angles $j_0$, $j_1$, $j_2$, $j_3$, $j_4$ \n",
    "- The sine and the cosine of the joints angles: $\\cos(j_0)$, $\\sin(j_0)$, $\\cos(j_1)$, $\\sin(j_1)$, $\\cos(j_2)$, $\\sin(j_2)$, $\\cos(j_3)$, $\\sin(j_3)$, $\\cos(j_4)$, $\\sin(j_4)$\n",
    "- The end-effector pose: $(x,y,z) = (ee_x, ee_y, ee_z)$\n",
    "- The end-effector orientation, based on quaternions: $q = (w,x,y,z) = (\\cos(\\frac{\\theta}{2}), \\sin(\\frac{\\theta}{2}), \\sin(\\frac{\\theta}{2}), \\sin(\\frac{\\theta}{2})) = ((ee_{qw}), (ee_{qx}), (ee_{qy}), (ee_{qz}))$ \n"
   ]
  },
  {
   "cell_type": "code",
   "execution_count": 12,
   "metadata": {},
   "outputs": [
    {
     "data": {
      "text/html": [
       "<div>\n",
       "<style scoped>\n",
       "    .dataframe tbody tr th:only-of-type {\n",
       "        vertical-align: middle;\n",
       "    }\n",
       "\n",
       "    .dataframe tbody tr th {\n",
       "        vertical-align: top;\n",
       "    }\n",
       "\n",
       "    .dataframe thead th {\n",
       "        text-align: right;\n",
       "    }\n",
       "</style>\n",
       "<table border=\"1\" class=\"dataframe\">\n",
       "  <thead>\n",
       "    <tr style=\"text-align: right;\">\n",
       "      <th></th>\n",
       "      <th>j0</th>\n",
       "      <th>j1</th>\n",
       "      <th>j2</th>\n",
       "      <th>j3</th>\n",
       "      <th>j4</th>\n",
       "      <th>cos(j0)</th>\n",
       "      <th>cos(j1)</th>\n",
       "      <th>cos(j2)</th>\n",
       "      <th>cos(j3)</th>\n",
       "      <th>cos(j4)</th>\n",
       "      <th>...</th>\n",
       "      <th>sin(j2)</th>\n",
       "      <th>sin(j3)</th>\n",
       "      <th>sin(j4)</th>\n",
       "      <th>ee_x</th>\n",
       "      <th>ee_y</th>\n",
       "      <th>ee_z</th>\n",
       "      <th>ee_qw</th>\n",
       "      <th>ee_qx</th>\n",
       "      <th>ee_qy</th>\n",
       "      <th>ee_qz</th>\n",
       "    </tr>\n",
       "  </thead>\n",
       "  <tbody>\n",
       "    <tr>\n",
       "      <th>0</th>\n",
       "      <td>0.000</td>\n",
       "      <td>0.000</td>\n",
       "      <td>0.000</td>\n",
       "      <td>0.000</td>\n",
       "      <td>0.000</td>\n",
       "      <td>1.000</td>\n",
       "      <td>1.0</td>\n",
       "      <td>1.0</td>\n",
       "      <td>1.000</td>\n",
       "      <td>1.0</td>\n",
       "      <td>...</td>\n",
       "      <td>0.000</td>\n",
       "      <td>0.000</td>\n",
       "      <td>0.000</td>\n",
       "      <td>0.000</td>\n",
       "      <td>0.000</td>\n",
       "      <td>0.590</td>\n",
       "      <td>1.000</td>\n",
       "      <td>0.000</td>\n",
       "      <td>0.000</td>\n",
       "      <td>0.000</td>\n",
       "    </tr>\n",
       "    <tr>\n",
       "      <th>1</th>\n",
       "      <td>0.014</td>\n",
       "      <td>0.001</td>\n",
       "      <td>-0.001</td>\n",
       "      <td>0.031</td>\n",
       "      <td>-0.005</td>\n",
       "      <td>1.000</td>\n",
       "      <td>1.0</td>\n",
       "      <td>1.0</td>\n",
       "      <td>1.000</td>\n",
       "      <td>1.0</td>\n",
       "      <td>...</td>\n",
       "      <td>-0.001</td>\n",
       "      <td>0.031</td>\n",
       "      <td>-0.005</td>\n",
       "      <td>0.007</td>\n",
       "      <td>0.001</td>\n",
       "      <td>0.590</td>\n",
       "      <td>1.000</td>\n",
       "      <td>-0.003</td>\n",
       "      <td>0.016</td>\n",
       "      <td>0.007</td>\n",
       "    </tr>\n",
       "    <tr>\n",
       "      <th>2</th>\n",
       "      <td>0.037</td>\n",
       "      <td>0.031</td>\n",
       "      <td>-0.005</td>\n",
       "      <td>0.096</td>\n",
       "      <td>-0.011</td>\n",
       "      <td>0.999</td>\n",
       "      <td>1.0</td>\n",
       "      <td>1.0</td>\n",
       "      <td>0.995</td>\n",
       "      <td>1.0</td>\n",
       "      <td>...</td>\n",
       "      <td>-0.005</td>\n",
       "      <td>0.096</td>\n",
       "      <td>-0.011</td>\n",
       "      <td>0.035</td>\n",
       "      <td>0.003</td>\n",
       "      <td>0.588</td>\n",
       "      <td>0.998</td>\n",
       "      <td>-0.007</td>\n",
       "      <td>0.061</td>\n",
       "      <td>0.019</td>\n",
       "    </tr>\n",
       "  </tbody>\n",
       "</table>\n",
       "<p>3 rows × 22 columns</p>\n",
       "</div>"
      ],
      "text/plain": [
       "      j0     j1     j2     j3     j4   cos(j0)   cos(j1)   cos(j2)   cos(j3)  \\\n",
       "0  0.000  0.000  0.000  0.000  0.000     1.000       1.0       1.0     1.000   \n",
       "1  0.014  0.001 -0.001  0.031 -0.005     1.000       1.0       1.0     1.000   \n",
       "2  0.037  0.031 -0.005  0.096 -0.011     0.999       1.0       1.0     0.995   \n",
       "\n",
       "    cos(j4)  ...   sin(j2)   sin(j3)   sin(j4)   ee_x   ee_y   ee_z   ee_qw  \\\n",
       "0       1.0  ...     0.000     0.000     0.000  0.000  0.000  0.590   1.000   \n",
       "1       1.0  ...    -0.001     0.031    -0.005  0.007  0.001  0.590   1.000   \n",
       "2       1.0  ...    -0.005     0.096    -0.011  0.035  0.003  0.588   0.998   \n",
       "\n",
       "    ee_qx   ee_qy   ee_qz  \n",
       "0   0.000   0.000   0.000  \n",
       "1  -0.003   0.016   0.007  \n",
       "2  -0.007   0.061   0.019  \n",
       "\n",
       "[3 rows x 22 columns]"
      ]
     },
     "metadata": {},
     "output_type": "display_data"
    },
    {
     "name": "stdout",
     "output_type": "stream",
     "text": [
      "<class 'pandas.core.frame.DataFrame'>\n",
      "RangeIndex: 100000 entries, 0 to 99999\n",
      "Data columns (total 22 columns):\n",
      " #   Column    Non-Null Count   Dtype  \n",
      "---  ------    --------------   -----  \n",
      " 0   j0        100000 non-null  float64\n",
      " 1    j1       100000 non-null  float64\n",
      " 2    j2       100000 non-null  float64\n",
      " 3    j3       100000 non-null  float64\n",
      " 4    j4       100000 non-null  float64\n",
      " 5    cos(j0)  100000 non-null  float64\n",
      " 6    cos(j1)  100000 non-null  float64\n",
      " 7    cos(j2)  100000 non-null  float64\n",
      " 8    cos(j3)  100000 non-null  float64\n",
      " 9    cos(j4)  100000 non-null  float64\n",
      " 10   sin(j0)  100000 non-null  float64\n",
      " 11   sin(j1)  100000 non-null  float64\n",
      " 12   sin(j2)  100000 non-null  float64\n",
      " 13   sin(j3)  100000 non-null  float64\n",
      " 14   sin(j4)  100000 non-null  float64\n",
      " 15   ee_x     100000 non-null  float64\n",
      " 16   ee_y     100000 non-null  float64\n",
      " 17   ee_z     100000 non-null  float64\n",
      " 18   ee_qw    100000 non-null  float64\n",
      " 19   ee_qx    100000 non-null  float64\n",
      " 20   ee_qy    100000 non-null  float64\n",
      " 21   ee_qz    100000 non-null  float64\n",
      "dtypes: float64(22)\n",
      "memory usage: 16.8 MB\n"
     ]
    }
   ],
   "source": [
    "filepath_5R = r'data/5R_2184503_100.csv'\n",
    "df_5R = pd.read_csv(filepath_5R, sep=\";\", header=0).copy()\n",
    "\n",
    "display(df_5R.head(3))\n",
    "df_5R.info()"
   ]
  },
  {
   "cell_type": "markdown",
   "metadata": {},
   "source": [
    "#### 3.a) Joint angles "
   ]
  },
  {
   "cell_type": "code",
   "execution_count": 13,
   "metadata": {},
   "outputs": [
    {
     "data": {
      "text/html": [
       "<div>\n",
       "<style scoped>\n",
       "    .dataframe tbody tr th:only-of-type {\n",
       "        vertical-align: middle;\n",
       "    }\n",
       "\n",
       "    .dataframe tbody tr th {\n",
       "        vertical-align: top;\n",
       "    }\n",
       "\n",
       "    .dataframe thead th {\n",
       "        text-align: right;\n",
       "    }\n",
       "</style>\n",
       "<table border=\"1\" class=\"dataframe\">\n",
       "  <thead>\n",
       "    <tr style=\"text-align: right;\">\n",
       "      <th></th>\n",
       "      <th>cos(j0)</th>\n",
       "      <th>sin(j0)</th>\n",
       "      <th>cos(j1)</th>\n",
       "      <th>sin(j1)</th>\n",
       "      <th>cos(j2)</th>\n",
       "      <th>sin(j2)</th>\n",
       "      <th>cos(j3)</th>\n",
       "      <th>sin(j3)</th>\n",
       "      <th>cos(j4)</th>\n",
       "      <th>sin(j4)</th>\n",
       "    </tr>\n",
       "  </thead>\n",
       "  <tbody>\n",
       "    <tr>\n",
       "      <th>0</th>\n",
       "      <td>1.000</td>\n",
       "      <td>0.000</td>\n",
       "      <td>1.000</td>\n",
       "      <td>0.000</td>\n",
       "      <td>1.000</td>\n",
       "      <td>0.000</td>\n",
       "      <td>1.000</td>\n",
       "      <td>0.000</td>\n",
       "      <td>1.0</td>\n",
       "      <td>0.000</td>\n",
       "    </tr>\n",
       "    <tr>\n",
       "      <th>1</th>\n",
       "      <td>1.000</td>\n",
       "      <td>0.014</td>\n",
       "      <td>1.000</td>\n",
       "      <td>0.001</td>\n",
       "      <td>1.000</td>\n",
       "      <td>-0.001</td>\n",
       "      <td>1.000</td>\n",
       "      <td>0.031</td>\n",
       "      <td>1.0</td>\n",
       "      <td>-0.005</td>\n",
       "    </tr>\n",
       "    <tr>\n",
       "      <th>2</th>\n",
       "      <td>0.999</td>\n",
       "      <td>0.037</td>\n",
       "      <td>1.000</td>\n",
       "      <td>0.031</td>\n",
       "      <td>1.000</td>\n",
       "      <td>-0.005</td>\n",
       "      <td>0.995</td>\n",
       "      <td>0.096</td>\n",
       "      <td>1.0</td>\n",
       "      <td>-0.011</td>\n",
       "    </tr>\n",
       "    <tr>\n",
       "      <th>3</th>\n",
       "      <td>0.999</td>\n",
       "      <td>0.034</td>\n",
       "      <td>0.998</td>\n",
       "      <td>0.067</td>\n",
       "      <td>0.999</td>\n",
       "      <td>-0.049</td>\n",
       "      <td>0.989</td>\n",
       "      <td>0.146</td>\n",
       "      <td>1.0</td>\n",
       "      <td>0.014</td>\n",
       "    </tr>\n",
       "    <tr>\n",
       "      <th>4</th>\n",
       "      <td>0.999</td>\n",
       "      <td>0.036</td>\n",
       "      <td>0.997</td>\n",
       "      <td>0.074</td>\n",
       "      <td>0.988</td>\n",
       "      <td>-0.156</td>\n",
       "      <td>0.987</td>\n",
       "      <td>0.160</td>\n",
       "      <td>1.0</td>\n",
       "      <td>0.030</td>\n",
       "    </tr>\n",
       "  </tbody>\n",
       "</table>\n",
       "</div>"
      ],
      "text/plain": [
       "   cos(j0)  sin(j0)  cos(j1)  sin(j1)  cos(j2)  sin(j2)  cos(j3)  sin(j3)  \\\n",
       "0    1.000    0.000    1.000    0.000    1.000    0.000    1.000    0.000   \n",
       "1    1.000    0.014    1.000    0.001    1.000   -0.001    1.000    0.031   \n",
       "2    0.999    0.037    1.000    0.031    1.000   -0.005    0.995    0.096   \n",
       "3    0.999    0.034    0.998    0.067    0.999   -0.049    0.989    0.146   \n",
       "4    0.999    0.036    0.997    0.074    0.988   -0.156    0.987    0.160   \n",
       "\n",
       "   cos(j4)  sin(j4)  \n",
       "0      1.0    0.000  \n",
       "1      1.0   -0.005  \n",
       "2      1.0   -0.011  \n",
       "3      1.0    0.014  \n",
       "4      1.0    0.030  "
      ]
     },
     "metadata": {},
     "output_type": "display_data"
    }
   ],
   "source": [
    "X_5R = df_5R[[' cos(j0)', ' sin(j0)', ' cos(j1)', ' sin(j1)', ' cos(j2)', ' sin(j2)', ' cos(j3)', ' sin(j3)', ' cos(j4)', ' sin(j4)']].values\n",
    "\n",
    "X_5R = pd.DataFrame(X_5R, columns=['cos(j0)', 'sin(j0)', 'cos(j1)', 'sin(j1)', 'cos(j2)', 'sin(j2)', 'cos(j3)', 'sin(j3)', 'cos(j4)', 'sin(j4)'])\n",
    "display(X_5R.head(5))"
   ]
  },
  {
   "cell_type": "markdown",
   "metadata": {},
   "source": [
    "#### 3.b) Fingertip position"
   ]
  },
  {
   "cell_type": "code",
   "execution_count": 14,
   "metadata": {},
   "outputs": [],
   "source": [
    "y_5R_pos = df_5R[[' ee_x', ' ee_y', ' ee_z']].values"
   ]
  },
  {
   "cell_type": "markdown",
   "metadata": {},
   "source": [
    "#### 3.c) Fingertip orientation"
   ]
  },
  {
   "cell_type": "code",
   "execution_count": 15,
   "metadata": {},
   "outputs": [],
   "source": [
    "y_5R_ori = df_5R[[' ee_qw', ' ee_qx', ' ee_qy', ' ee_qz']].values"
   ]
  },
  {
   "cell_type": "code",
   "execution_count": 16,
   "metadata": {},
   "outputs": [
    {
     "data": {
      "text/html": [
       "<div>\n",
       "<style scoped>\n",
       "    .dataframe tbody tr th:only-of-type {\n",
       "        vertical-align: middle;\n",
       "    }\n",
       "\n",
       "    .dataframe tbody tr th {\n",
       "        vertical-align: top;\n",
       "    }\n",
       "\n",
       "    .dataframe thead th {\n",
       "        text-align: right;\n",
       "    }\n",
       "</style>\n",
       "<table border=\"1\" class=\"dataframe\">\n",
       "  <thead>\n",
       "    <tr style=\"text-align: right;\">\n",
       "      <th></th>\n",
       "      <th>ee_x</th>\n",
       "      <th>ee_y</th>\n",
       "      <th>ee_z</th>\n",
       "      <th>ee_qw</th>\n",
       "      <th>ee_qx</th>\n",
       "      <th>ee_qy</th>\n",
       "      <th>ee_qz</th>\n",
       "    </tr>\n",
       "  </thead>\n",
       "  <tbody>\n",
       "    <tr>\n",
       "      <th>0</th>\n",
       "      <td>0.000</td>\n",
       "      <td>0.000</td>\n",
       "      <td>0.590</td>\n",
       "      <td>1.000</td>\n",
       "      <td>0.000</td>\n",
       "      <td>0.000</td>\n",
       "      <td>0.000</td>\n",
       "    </tr>\n",
       "    <tr>\n",
       "      <th>1</th>\n",
       "      <td>0.007</td>\n",
       "      <td>0.001</td>\n",
       "      <td>0.590</td>\n",
       "      <td>1.000</td>\n",
       "      <td>-0.003</td>\n",
       "      <td>0.016</td>\n",
       "      <td>0.007</td>\n",
       "    </tr>\n",
       "    <tr>\n",
       "      <th>2</th>\n",
       "      <td>0.035</td>\n",
       "      <td>0.003</td>\n",
       "      <td>0.588</td>\n",
       "      <td>0.998</td>\n",
       "      <td>-0.007</td>\n",
       "      <td>0.061</td>\n",
       "      <td>0.019</td>\n",
       "    </tr>\n",
       "    <tr>\n",
       "      <th>3</th>\n",
       "      <td>0.048</td>\n",
       "      <td>-0.000</td>\n",
       "      <td>0.587</td>\n",
       "      <td>0.996</td>\n",
       "      <td>0.006</td>\n",
       "      <td>0.082</td>\n",
       "      <td>0.016</td>\n",
       "    </tr>\n",
       "    <tr>\n",
       "      <th>4</th>\n",
       "      <td>0.017</td>\n",
       "      <td>-0.003</td>\n",
       "      <td>0.589</td>\n",
       "      <td>0.999</td>\n",
       "      <td>0.014</td>\n",
       "      <td>0.039</td>\n",
       "      <td>0.017</td>\n",
       "    </tr>\n",
       "  </tbody>\n",
       "</table>\n",
       "</div>"
      ],
      "text/plain": [
       "    ee_x   ee_y   ee_z  ee_qw  ee_qx  ee_qy  ee_qz\n",
       "0  0.000  0.000  0.590  1.000  0.000  0.000  0.000\n",
       "1  0.007  0.001  0.590  1.000 -0.003  0.016  0.007\n",
       "2  0.035  0.003  0.588  0.998 -0.007  0.061  0.019\n",
       "3  0.048 -0.000  0.587  0.996  0.006  0.082  0.016\n",
       "4  0.017 -0.003  0.589  0.999  0.014  0.039  0.017"
      ]
     },
     "metadata": {},
     "output_type": "display_data"
    }
   ],
   "source": [
    "y_5R = pd.concat([pd.DataFrame(y_5R_pos, columns=['ee_x', 'ee_y', \"ee_z\"]), \n",
    "                         pd.DataFrame(y_5R_ori, columns=['ee_qw', 'ee_qx', 'ee_qy', 'ee_qz'])], axis=1)\n",
    "\n",
    "display(y_5R.head(5))"
   ]
  },
  {
   "cell_type": "markdown",
   "metadata": {},
   "source": [
    "## III - Learning Forward Kinematics"
   ]
  },
  {
   "cell_type": "markdown",
   "metadata": {},
   "source": [
    "### 1) 2D with 2 joints"
   ]
  },
  {
   "cell_type": "markdown",
   "metadata": {},
   "source": [
    "We are dividing the dataset to randomly take 80% of the data for training the model, and 20% for testing. Let's try first by giving only the position:"
   ]
  },
  {
   "cell_type": "code",
   "execution_count": 17,
   "metadata": {},
   "outputs": [
    {
     "name": "stdout",
     "output_type": "stream",
     "text": [
      "(80000, 4) (80000, 2)\n",
      "(20000, 2) (20000, 2)\n"
     ]
    }
   ],
   "source": [
    "X_2R_train, X_2R_test, y_2R_train, y_2R_test = train_test_split(X_2R, y_2R_pos, test_size=0.2, random_state=2184503)\n",
    "print(X_2R_train.shape, y_2R_train.shape)\n",
    "print(y_2R_test.shape, y_2R_test.shape)"
   ]
  },
  {
   "cell_type": "markdown",
   "metadata": {},
   "source": [
    "For a more challenging task, we can train our model by taking a subset of the main dataset e.g. e are only taking a certain percentage of samples from the whole dataset:"
   ]
  },
  {
   "cell_type": "code",
   "execution_count": 18,
   "metadata": {},
   "outputs": [
    {
     "name": "stdout",
     "output_type": "stream",
     "text": [
      "(8000, 4) (8000, 2)\n",
      "(2000, 2) (2000, 2)\n"
     ]
    }
   ],
   "source": [
    "percentage_2R = 0.1 # Relative percentage \n",
    "\n",
    "subset_size_train = int(len(X_2R_train)*percentage_2R)\n",
    "subset_size_test = int(len(X_2R_test)*percentage_2R)\n",
    "\n",
    "X_2R_train = X_2R_train[:subset_size_train]\n",
    "y_2R_train = y_2R_train[:subset_size_train]\n",
    "X_2R_test = X_2R_test[:subset_size_test]\n",
    "y_2R_test = y_2R_test[:subset_size_test]\n",
    "\n",
    "print(X_2R_train.shape, y_2R_train.shape)\n",
    "print(y_2R_test.shape, y_2R_test.shape)"
   ]
  },
  {
   "cell_type": "markdown",
   "metadata": {},
   "source": [
    "##### Model definition "
   ]
  },
  {
   "cell_type": "markdown",
   "metadata": {},
   "source": [
    "To define our model, we start by creating a simple neural network with a few hidden layers and ReLU as the activation function. The output layer contains a linear activation function. We will then adjust the hyperparameters after some tests."
   ]
  },
  {
   "cell_type": "code",
   "execution_count": 19,
   "metadata": {},
   "outputs": [
    {
     "name": "stderr",
     "output_type": "stream",
     "text": [
      "2024-12-06 18:04:56.485057: E external/local_xla/xla/stream_executor/cuda/cuda_driver.cc:152] failed call to cuInit: INTERNAL: CUDA error: Failed call to cuInit: UNKNOWN ERROR (303)\n"
     ]
    },
    {
     "data": {
      "text/html": [
       "<pre style=\"white-space:pre;overflow-x:auto;line-height:normal;font-family:Menlo,'DejaVu Sans Mono',consolas,'Courier New',monospace\"><span style=\"font-weight: bold\">Model: \"sequential\"</span>\n",
       "</pre>\n"
      ],
      "text/plain": [
       "\u001b[1mModel: \"sequential\"\u001b[0m\n"
      ]
     },
     "metadata": {},
     "output_type": "display_data"
    },
    {
     "data": {
      "text/html": [
       "<pre style=\"white-space:pre;overflow-x:auto;line-height:normal;font-family:Menlo,'DejaVu Sans Mono',consolas,'Courier New',monospace\">┏━━━━━━━━━━━━━━━━━━━━━━━━━━━━━━━━━┳━━━━━━━━━━━━━━━━━━━━━━━━┳━━━━━━━━━━━━━━━┓\n",
       "┃<span style=\"font-weight: bold\"> Layer (type)                    </span>┃<span style=\"font-weight: bold\"> Output Shape           </span>┃<span style=\"font-weight: bold\">       Param # </span>┃\n",
       "┡━━━━━━━━━━━━━━━━━━━━━━━━━━━━━━━━━╇━━━━━━━━━━━━━━━━━━━━━━━━╇━━━━━━━━━━━━━━━┩\n",
       "│ dense (<span style=\"color: #0087ff; text-decoration-color: #0087ff\">Dense</span>)                   │ (<span style=\"color: #00d7ff; text-decoration-color: #00d7ff\">None</span>, <span style=\"color: #00af00; text-decoration-color: #00af00\">16</span>)             │            <span style=\"color: #00af00; text-decoration-color: #00af00\">80</span> │\n",
       "├─────────────────────────────────┼────────────────────────┼───────────────┤\n",
       "│ dense_1 (<span style=\"color: #0087ff; text-decoration-color: #0087ff\">Dense</span>)                 │ (<span style=\"color: #00d7ff; text-decoration-color: #00d7ff\">None</span>, <span style=\"color: #00af00; text-decoration-color: #00af00\">16</span>)             │           <span style=\"color: #00af00; text-decoration-color: #00af00\">272</span> │\n",
       "├─────────────────────────────────┼────────────────────────┼───────────────┤\n",
       "│ dense_2 (<span style=\"color: #0087ff; text-decoration-color: #0087ff\">Dense</span>)                 │ (<span style=\"color: #00d7ff; text-decoration-color: #00d7ff\">None</span>, <span style=\"color: #00af00; text-decoration-color: #00af00\">2</span>)              │            <span style=\"color: #00af00; text-decoration-color: #00af00\">34</span> │\n",
       "└─────────────────────────────────┴────────────────────────┴───────────────┘\n",
       "</pre>\n"
      ],
      "text/plain": [
       "┏━━━━━━━━━━━━━━━━━━━━━━━━━━━━━━━━━┳━━━━━━━━━━━━━━━━━━━━━━━━┳━━━━━━━━━━━━━━━┓\n",
       "┃\u001b[1m \u001b[0m\u001b[1mLayer (type)                   \u001b[0m\u001b[1m \u001b[0m┃\u001b[1m \u001b[0m\u001b[1mOutput Shape          \u001b[0m\u001b[1m \u001b[0m┃\u001b[1m \u001b[0m\u001b[1m      Param #\u001b[0m\u001b[1m \u001b[0m┃\n",
       "┡━━━━━━━━━━━━━━━━━━━━━━━━━━━━━━━━━╇━━━━━━━━━━━━━━━━━━━━━━━━╇━━━━━━━━━━━━━━━┩\n",
       "│ dense (\u001b[38;5;33mDense\u001b[0m)                   │ (\u001b[38;5;45mNone\u001b[0m, \u001b[38;5;34m16\u001b[0m)             │            \u001b[38;5;34m80\u001b[0m │\n",
       "├─────────────────────────────────┼────────────────────────┼───────────────┤\n",
       "│ dense_1 (\u001b[38;5;33mDense\u001b[0m)                 │ (\u001b[38;5;45mNone\u001b[0m, \u001b[38;5;34m16\u001b[0m)             │           \u001b[38;5;34m272\u001b[0m │\n",
       "├─────────────────────────────────┼────────────────────────┼───────────────┤\n",
       "│ dense_2 (\u001b[38;5;33mDense\u001b[0m)                 │ (\u001b[38;5;45mNone\u001b[0m, \u001b[38;5;34m2\u001b[0m)              │            \u001b[38;5;34m34\u001b[0m │\n",
       "└─────────────────────────────────┴────────────────────────┴───────────────┘\n"
      ]
     },
     "metadata": {},
     "output_type": "display_data"
    },
    {
     "data": {
      "text/html": [
       "<pre style=\"white-space:pre;overflow-x:auto;line-height:normal;font-family:Menlo,'DejaVu Sans Mono',consolas,'Courier New',monospace\"><span style=\"font-weight: bold\"> Total params: </span><span style=\"color: #00af00; text-decoration-color: #00af00\">386</span> (1.51 KB)\n",
       "</pre>\n"
      ],
      "text/plain": [
       "\u001b[1m Total params: \u001b[0m\u001b[38;5;34m386\u001b[0m (1.51 KB)\n"
      ]
     },
     "metadata": {},
     "output_type": "display_data"
    },
    {
     "data": {
      "text/html": [
       "<pre style=\"white-space:pre;overflow-x:auto;line-height:normal;font-family:Menlo,'DejaVu Sans Mono',consolas,'Courier New',monospace\"><span style=\"font-weight: bold\"> Trainable params: </span><span style=\"color: #00af00; text-decoration-color: #00af00\">386</span> (1.51 KB)\n",
       "</pre>\n"
      ],
      "text/plain": [
       "\u001b[1m Trainable params: \u001b[0m\u001b[38;5;34m386\u001b[0m (1.51 KB)\n"
      ]
     },
     "metadata": {},
     "output_type": "display_data"
    },
    {
     "data": {
      "text/html": [
       "<pre style=\"white-space:pre;overflow-x:auto;line-height:normal;font-family:Menlo,'DejaVu Sans Mono',consolas,'Courier New',monospace\"><span style=\"font-weight: bold\"> Non-trainable params: </span><span style=\"color: #00af00; text-decoration-color: #00af00\">0</span> (0.00 B)\n",
       "</pre>\n"
      ],
      "text/plain": [
       "\u001b[1m Non-trainable params: \u001b[0m\u001b[38;5;34m0\u001b[0m (0.00 B)\n"
      ]
     },
     "metadata": {},
     "output_type": "display_data"
    }
   ],
   "source": [
    "model_2R = Sequential()\n",
    "model_2R.add(Input((X_2R_train.shape[1],)))\n",
    "model_2R.add(Dense(16, activation=\"relu\"))\n",
    "model_2R.add(Dense(16, activation=\"relu\"))\n",
    "model_2R.add(Dense(y_2R_train.shape[1], activation=\"linear\"))\n",
    "\n",
    "model_2R.summary()"
   ]
  },
  {
   "cell_type": "markdown",
   "metadata": {},
   "source": [
    "##### Loss function & optimizer"
   ]
  },
  {
   "cell_type": "markdown",
   "metadata": {},
   "source": [
    "The MSE is commonly used as a loss function in a regression problem, especially in our case where we have no outliers that would impair model performance. \n",
    "\n",
    "That's why I've chosen to input only the cosines and sines of the joints, because by directly use the angle values of the joints, the problem is that values can be close but still have a large square error. \n",
    "\n",
    "For example, $0$ and $2\\pi$ are values which are very close together on the trigonometric circle, but this will result on a large error in terms of squared diffrence."
   ]
  },
  {
   "cell_type": "code",
   "execution_count": 20,
   "metadata": {},
   "outputs": [],
   "source": [
    "model_2R.compile(loss=MSE, optimizer=Adam(learning_rate=0.001))"
   ]
  },
  {
   "cell_type": "markdown",
   "metadata": {},
   "source": [
    "##### Solver - Training phase"
   ]
  },
  {
   "cell_type": "markdown",
   "metadata": {},
   "source": [
    "We then train our model over a predefined number of epochs. At each iteration, the model's prediction is compared with the actual value and a gradient descent is applied with the aim of minimizing the MSE. The model weights are readjusted accordingly."
   ]
  },
  {
   "cell_type": "code",
   "execution_count": 21,
   "metadata": {},
   "outputs": [
    {
     "name": "stdout",
     "output_type": "stream",
     "text": [
      "Epoch 1/20\n",
      "\u001b[1m250/250\u001b[0m \u001b[32m━━━━━━━━━━━━━━━━━━━━\u001b[0m\u001b[37m\u001b[0m \u001b[1m1s\u001b[0m 1ms/step - loss: 0.0126 - val_loss: 7.3504e-04\n",
      "Epoch 2/20\n",
      "\u001b[1m250/250\u001b[0m \u001b[32m━━━━━━━━━━━━━━━━━━━━\u001b[0m\u001b[37m\u001b[0m \u001b[1m0s\u001b[0m 943us/step - loss: 4.9725e-04 - val_loss: 2.9498e-04\n",
      "Epoch 3/20\n",
      "\u001b[1m250/250\u001b[0m \u001b[32m━━━━━━━━━━━━━━━━━━━━\u001b[0m\u001b[37m\u001b[0m \u001b[1m0s\u001b[0m 924us/step - loss: 2.5515e-04 - val_loss: 2.0556e-04\n",
      "Epoch 4/20\n",
      "\u001b[1m250/250\u001b[0m \u001b[32m━━━━━━━━━━━━━━━━━━━━\u001b[0m\u001b[37m\u001b[0m \u001b[1m0s\u001b[0m 920us/step - loss: 1.8023e-04 - val_loss: 1.5601e-04\n",
      "Epoch 5/20\n",
      "\u001b[1m250/250\u001b[0m \u001b[32m━━━━━━━━━━━━━━━━━━━━\u001b[0m\u001b[37m\u001b[0m \u001b[1m0s\u001b[0m 931us/step - loss: 1.4189e-04 - val_loss: 1.2242e-04\n",
      "Epoch 6/20\n",
      "\u001b[1m250/250\u001b[0m \u001b[32m━━━━━━━━━━━━━━━━━━━━\u001b[0m\u001b[37m\u001b[0m \u001b[1m0s\u001b[0m 943us/step - loss: 1.1062e-04 - val_loss: 1.0135e-04\n",
      "Epoch 7/20\n",
      "\u001b[1m250/250\u001b[0m \u001b[32m━━━━━━━━━━━━━━━━━━━━\u001b[0m\u001b[37m\u001b[0m \u001b[1m0s\u001b[0m 1ms/step - loss: 9.1901e-05 - val_loss: 8.3281e-05\n",
      "Epoch 8/20\n",
      "\u001b[1m250/250\u001b[0m \u001b[32m━━━━━━━━━━━━━━━━━━━━\u001b[0m\u001b[37m\u001b[0m \u001b[1m0s\u001b[0m 923us/step - loss: 7.8402e-05 - val_loss: 7.2477e-05\n",
      "Epoch 9/20\n",
      "\u001b[1m250/250\u001b[0m \u001b[32m━━━━━━━━━━━━━━━━━━━━\u001b[0m\u001b[37m\u001b[0m \u001b[1m0s\u001b[0m 927us/step - loss: 7.0579e-05 - val_loss: 6.6280e-05\n",
      "Epoch 10/20\n",
      "\u001b[1m250/250\u001b[0m \u001b[32m━━━━━━━━━━━━━━━━━━━━\u001b[0m\u001b[37m\u001b[0m \u001b[1m0s\u001b[0m 940us/step - loss: 5.7386e-05 - val_loss: 5.9485e-05\n",
      "Epoch 11/20\n",
      "\u001b[1m250/250\u001b[0m \u001b[32m━━━━━━━━━━━━━━━━━━━━\u001b[0m\u001b[37m\u001b[0m \u001b[1m0s\u001b[0m 903us/step - loss: 5.2929e-05 - val_loss: 5.2454e-05\n",
      "Epoch 12/20\n",
      "\u001b[1m250/250\u001b[0m \u001b[32m━━━━━━━━━━━━━━━━━━━━\u001b[0m\u001b[37m\u001b[0m \u001b[1m0s\u001b[0m 922us/step - loss: 4.9340e-05 - val_loss: 5.1076e-05\n",
      "Epoch 13/20\n",
      "\u001b[1m250/250\u001b[0m \u001b[32m━━━━━━━━━━━━━━━━━━━━\u001b[0m\u001b[37m\u001b[0m \u001b[1m0s\u001b[0m 1ms/step - loss: 4.3342e-05 - val_loss: 4.3363e-05\n",
      "Epoch 14/20\n",
      "\u001b[1m250/250\u001b[0m \u001b[32m━━━━━━━━━━━━━━━━━━━━\u001b[0m\u001b[37m\u001b[0m \u001b[1m0s\u001b[0m 930us/step - loss: 4.0904e-05 - val_loss: 4.7101e-05\n",
      "Epoch 15/20\n",
      "\u001b[1m250/250\u001b[0m \u001b[32m━━━━━━━━━━━━━━━━━━━━\u001b[0m\u001b[37m\u001b[0m \u001b[1m0s\u001b[0m 921us/step - loss: 3.8405e-05 - val_loss: 3.9533e-05\n",
      "Epoch 16/20\n",
      "\u001b[1m250/250\u001b[0m \u001b[32m━━━━━━━━━━━━━━━━━━━━\u001b[0m\u001b[37m\u001b[0m \u001b[1m0s\u001b[0m 922us/step - loss: 3.6512e-05 - val_loss: 3.7199e-05\n",
      "Epoch 17/20\n",
      "\u001b[1m250/250\u001b[0m \u001b[32m━━━━━━━━━━━━━━━━━━━━\u001b[0m\u001b[37m\u001b[0m \u001b[1m0s\u001b[0m 919us/step - loss: 3.3606e-05 - val_loss: 3.5833e-05\n",
      "Epoch 18/20\n",
      "\u001b[1m250/250\u001b[0m \u001b[32m━━━━━━━━━━━━━━━━━━━━\u001b[0m\u001b[37m\u001b[0m \u001b[1m0s\u001b[0m 930us/step - loss: 3.1369e-05 - val_loss: 3.0647e-05\n",
      "Epoch 19/20\n",
      "\u001b[1m250/250\u001b[0m \u001b[32m━━━━━━━━━━━━━━━━━━━━\u001b[0m\u001b[37m\u001b[0m \u001b[1m0s\u001b[0m 940us/step - loss: 2.9403e-05 - val_loss: 2.9944e-05\n",
      "Epoch 20/20\n",
      "\u001b[1m250/250\u001b[0m \u001b[32m━━━━━━━━━━━━━━━━━━━━\u001b[0m\u001b[37m\u001b[0m \u001b[1m0s\u001b[0m 992us/step - loss: 2.8280e-05 - val_loss: 2.7992e-05\n",
      "\u001b[1m250/250\u001b[0m \u001b[32m━━━━━━━━━━━━━━━━━━━━\u001b[0m\u001b[37m\u001b[0m \u001b[1m0s\u001b[0m 556us/step\n",
      "\u001b[1m63/63\u001b[0m \u001b[32m━━━━━━━━━━━━━━━━━━━━\u001b[0m\u001b[37m\u001b[0m \u001b[1m0s\u001b[0m 919us/step\n"
     ]
    }
   ],
   "source": [
    "epochs_2R = 20\n",
    "\n",
    "start = time.time()\n",
    "history_2R = model_2R.fit(X_2R_train, y_2R_train,\n",
    "                    epochs=epochs_2R,\n",
    "                    validation_data=(X_2R_test, y_2R_test),\n",
    "                    verbose=1)\n",
    "training_time = time.time() - start\n",
    "\n",
    "\n",
    "y_2R_train_pred = model_2R.predict(X_2R_train)\n",
    "y_2R_test_pred = model_2R.predict(X_2R_test)\n",
    "\n",
    "mae_2R_train = mean_absolute_error(y_2R_train, y_2R_train_pred)\n",
    "mae_2R_test = mean_absolute_error(y_2R_test, y_2R_test_pred)\n",
    "\n",
    "r2_2R_test = r2_score(y_2R_test, y_2R_test_pred)\n",
    "r2_2R_train = r2_score(y_2R_train, y_2R_train_pred)"
   ]
  },
  {
   "cell_type": "markdown",
   "metadata": {},
   "source": [
    "##### Loss display on training and validation"
   ]
  },
  {
   "cell_type": "markdown",
   "metadata": {},
   "source": [
    "I wrote a set of functions on the 'utils.py' that I'm going to use for models and computations utilities (see the file for more details). Here, the 'displayLearningCurve' function allows me to display the loss for trainind and validation.\n",
    "\n",
    "I also compute some metrics to evaluate the performance of my models (Training time, Final Loss, Mean Absolute Error, R² score):"
   ]
  },
  {
   "cell_type": "code",
   "execution_count": 22,
   "metadata": {},
   "outputs": [
    {
     "data": {
      "image/png": "[encoded data removed]",
      "text/plain": [
       "<Figure size 640x480 with 1 Axes>"
      ]
     },
     "metadata": {},
     "output_type": "display_data"
    },
    {
     "name": "stdout",
     "output_type": "stream",
     "text": [
      "== Training Time ==\n",
      "5.97 seconds\n",
      "\n",
      "== Final loss ==\n",
      "Train: 2.7997697543469258e-05\n",
      "Test: 2.7991674869554117e-05\n",
      "\n",
      "== Mean absolute error ==\n",
      "Train: 0.003928239599896597\n",
      "Test: 0.004065548448812218\n",
      "\n",
      "== R2 Score ==\n",
      "Train: 0.9969750596555467\n",
      "Test: 0.996781536562406\n"
     ]
    }
   ],
   "source": [
    "displayLearningCurve(history=history_2R, \n",
    "                    epochs=epochs_2R)\n",
    "\n",
    "print(f\"== Training Time ==\\n{training_time:.2f} seconds\\n\")\n",
    "print(f\"== Final loss ==\\nTrain: {history_2R.history['loss'][-1]}\\nTest: {history_2R.history['val_loss'][-1]}\\n\")\n",
    "print(f\"== Mean absolute error ==\\nTrain: {mae_2R_train}\\nTest: {mae_2R_test}\\n\")\n",
    "print(f\"== R2 Score ==\\nTrain: {r2_2R_train}\\nTest: {r2_2R_test}\")"
   ]
  },
  {
   "cell_type": "markdown",
   "metadata": {},
   "source": [
    "### 2) 2D with 3 joints"
   ]
  },
  {
   "cell_type": "code",
   "execution_count": 23,
   "metadata": {},
   "outputs": [
    {
     "name": "stdout",
     "output_type": "stream",
     "text": [
      "(80000, 6) (80000, 2)\n",
      "(20000, 2) (20000, 2)\n"
     ]
    }
   ],
   "source": [
    "X_3R_train, X_3R_test, y_3R_train, y_3R_test = train_test_split(X_3R, y_3R_pos, test_size=0.2, random_state=2184503)\n",
    "print(X_3R_train.shape, y_3R_train.shape)\n",
    "print(y_3R_test.shape, y_3R_test.shape)"
   ]
  },
  {
   "cell_type": "code",
   "execution_count": 24,
   "metadata": {},
   "outputs": [
    {
     "name": "stdout",
     "output_type": "stream",
     "text": [
      "(8000, 6) (8000, 2)\n",
      "(2000, 2) (2000, 2)\n"
     ]
    }
   ],
   "source": [
    "percentage_3R = 0.1\n",
    "\n",
    "subset_size_train = int(len(X_3R_train)*percentage_3R)\n",
    "subset_size_test = int(len(X_3R_test)*percentage_3R)\n",
    "\n",
    "X_3R_train = X_3R_train[:subset_size_train]\n",
    "y_3R_train = y_3R_train[:subset_size_train]\n",
    "X_3R_test = X_3R_test[:subset_size_test]\n",
    "y_3R_test = y_3R_test[:subset_size_test]\n",
    "\n",
    "print(X_3R_train.shape, y_3R_train.shape)\n",
    "print(y_3R_test.shape, y_3R_test.shape)"
   ]
  },
  {
   "cell_type": "code",
   "execution_count": 25,
   "metadata": {},
   "outputs": [
    {
     "data": {
      "text/html": [
       "<pre style=\"white-space:pre;overflow-x:auto;line-height:normal;font-family:Menlo,'DejaVu Sans Mono',consolas,'Courier New',monospace\"><span style=\"font-weight: bold\">Model: \"sequential_1\"</span>\n",
       "</pre>\n"
      ],
      "text/plain": [
       "\u001b[1mModel: \"sequential_1\"\u001b[0m\n"
      ]
     },
     "metadata": {},
     "output_type": "display_data"
    },
    {
     "data": {
      "text/html": [
       "<pre style=\"white-space:pre;overflow-x:auto;line-height:normal;font-family:Menlo,'DejaVu Sans Mono',consolas,'Courier New',monospace\">┏━━━━━━━━━━━━━━━━━━━━━━━━━━━━━━━━━┳━━━━━━━━━━━━━━━━━━━━━━━━┳━━━━━━━━━━━━━━━┓\n",
       "┃<span style=\"font-weight: bold\"> Layer (type)                    </span>┃<span style=\"font-weight: bold\"> Output Shape           </span>┃<span style=\"font-weight: bold\">       Param # </span>┃\n",
       "┡━━━━━━━━━━━━━━━━━━━━━━━━━━━━━━━━━╇━━━━━━━━━━━━━━━━━━━━━━━━╇━━━━━━━━━━━━━━━┩\n",
       "│ dense_3 (<span style=\"color: #0087ff; text-decoration-color: #0087ff\">Dense</span>)                 │ (<span style=\"color: #00d7ff; text-decoration-color: #00d7ff\">None</span>, <span style=\"color: #00af00; text-decoration-color: #00af00\">16</span>)             │           <span style=\"color: #00af00; text-decoration-color: #00af00\">112</span> │\n",
       "├─────────────────────────────────┼────────────────────────┼───────────────┤\n",
       "│ dense_4 (<span style=\"color: #0087ff; text-decoration-color: #0087ff\">Dense</span>)                 │ (<span style=\"color: #00d7ff; text-decoration-color: #00d7ff\">None</span>, <span style=\"color: #00af00; text-decoration-color: #00af00\">16</span>)             │           <span style=\"color: #00af00; text-decoration-color: #00af00\">272</span> │\n",
       "├─────────────────────────────────┼────────────────────────┼───────────────┤\n",
       "│ dense_5 (<span style=\"color: #0087ff; text-decoration-color: #0087ff\">Dense</span>)                 │ (<span style=\"color: #00d7ff; text-decoration-color: #00d7ff\">None</span>, <span style=\"color: #00af00; text-decoration-color: #00af00\">2</span>)              │            <span style=\"color: #00af00; text-decoration-color: #00af00\">34</span> │\n",
       "└─────────────────────────────────┴────────────────────────┴───────────────┘\n",
       "</pre>\n"
      ],
      "text/plain": [
       "┏━━━━━━━━━━━━━━━━━━━━━━━━━━━━━━━━━┳━━━━━━━━━━━━━━━━━━━━━━━━┳━━━━━━━━━━━━━━━┓\n",
       "┃\u001b[1m \u001b[0m\u001b[1mLayer (type)                   \u001b[0m\u001b[1m \u001b[0m┃\u001b[1m \u001b[0m\u001b[1mOutput Shape          \u001b[0m\u001b[1m \u001b[0m┃\u001b[1m \u001b[0m\u001b[1m      Param #\u001b[0m\u001b[1m \u001b[0m┃\n",
       "┡━━━━━━━━━━━━━━━━━━━━━━━━━━━━━━━━━╇━━━━━━━━━━━━━━━━━━━━━━━━╇━━━━━━━━━━━━━━━┩\n",
       "│ dense_3 (\u001b[38;5;33mDense\u001b[0m)                 │ (\u001b[38;5;45mNone\u001b[0m, \u001b[38;5;34m16\u001b[0m)             │           \u001b[38;5;34m112\u001b[0m │\n",
       "├─────────────────────────────────┼────────────────────────┼───────────────┤\n",
       "│ dense_4 (\u001b[38;5;33mDense\u001b[0m)                 │ (\u001b[38;5;45mNone\u001b[0m, \u001b[38;5;34m16\u001b[0m)             │           \u001b[38;5;34m272\u001b[0m │\n",
       "├─────────────────────────────────┼────────────────────────┼───────────────┤\n",
       "│ dense_5 (\u001b[38;5;33mDense\u001b[0m)                 │ (\u001b[38;5;45mNone\u001b[0m, \u001b[38;5;34m2\u001b[0m)              │            \u001b[38;5;34m34\u001b[0m │\n",
       "└─────────────────────────────────┴────────────────────────┴───────────────┘\n"
      ]
     },
     "metadata": {},
     "output_type": "display_data"
    },
    {
     "data": {
      "text/html": [
       "<pre style=\"white-space:pre;overflow-x:auto;line-height:normal;font-family:Menlo,'DejaVu Sans Mono',consolas,'Courier New',monospace\"><span style=\"font-weight: bold\"> Total params: </span><span style=\"color: #00af00; text-decoration-color: #00af00\">418</span> (1.63 KB)\n",
       "</pre>\n"
      ],
      "text/plain": [
       "\u001b[1m Total params: \u001b[0m\u001b[38;5;34m418\u001b[0m (1.63 KB)\n"
      ]
     },
     "metadata": {},
     "output_type": "display_data"
    },
    {
     "data": {
      "text/html": [
       "<pre style=\"white-space:pre;overflow-x:auto;line-height:normal;font-family:Menlo,'DejaVu Sans Mono',consolas,'Courier New',monospace\"><span style=\"font-weight: bold\"> Trainable params: </span><span style=\"color: #00af00; text-decoration-color: #00af00\">418</span> (1.63 KB)\n",
       "</pre>\n"
      ],
      "text/plain": [
       "\u001b[1m Trainable params: \u001b[0m\u001b[38;5;34m418\u001b[0m (1.63 KB)\n"
      ]
     },
     "metadata": {},
     "output_type": "display_data"
    },
    {
     "data": {
      "text/html": [
       "<pre style=\"white-space:pre;overflow-x:auto;line-height:normal;font-family:Menlo,'DejaVu Sans Mono',consolas,'Courier New',monospace\"><span style=\"font-weight: bold\"> Non-trainable params: </span><span style=\"color: #00af00; text-decoration-color: #00af00\">0</span> (0.00 B)\n",
       "</pre>\n"
      ],
      "text/plain": [
       "\u001b[1m Non-trainable params: \u001b[0m\u001b[38;5;34m0\u001b[0m (0.00 B)\n"
      ]
     },
     "metadata": {},
     "output_type": "display_data"
    }
   ],
   "source": [
    "model_3R = Sequential()\n",
    "model_3R.add(Input((X_3R_train.shape[1],)))\n",
    "model_3R.add(Dense(16, activation=\"relu\"))\n",
    "model_3R.add(Dense(16, activation=\"relu\"))\n",
    "model_3R.add(Dense(y_3R_train.shape[1], activation=\"linear\"))\n",
    "model_3R.summary()"
   ]
  },
  {
   "cell_type": "code",
   "execution_count": 26,
   "metadata": {},
   "outputs": [
    {
     "name": "stdout",
     "output_type": "stream",
     "text": [
      "Epoch 1/20\n",
      "\u001b[1m250/250\u001b[0m \u001b[32m━━━━━━━━━━━━━━━━━━━━\u001b[0m\u001b[37m\u001b[0m \u001b[1m1s\u001b[0m 1ms/step - loss: 0.0792 - val_loss: 0.0103\n",
      "Epoch 2/20\n",
      "\u001b[1m250/250\u001b[0m \u001b[32m━━━━━━━━━━━━━━━━━━━━\u001b[0m\u001b[37m\u001b[0m \u001b[1m0s\u001b[0m 925us/step - loss: 0.0077 - val_loss: 0.0042\n",
      "Epoch 3/20\n",
      "\u001b[1m250/250\u001b[0m \u001b[32m━━━━━━━━━━━━━━━━━━━━\u001b[0m\u001b[37m\u001b[0m \u001b[1m0s\u001b[0m 900us/step - loss: 0.0036 - val_loss: 0.0025\n",
      "Epoch 4/20\n",
      "\u001b[1m250/250\u001b[0m \u001b[32m━━━━━━━━━━━━━━━━━━━━\u001b[0m\u001b[37m\u001b[0m \u001b[1m0s\u001b[0m 903us/step - loss: 0.0022 - val_loss: 0.0016\n",
      "Epoch 5/20\n",
      "\u001b[1m250/250\u001b[0m \u001b[32m━━━━━━━━━━━━━━━━━━━━\u001b[0m\u001b[37m\u001b[0m \u001b[1m0s\u001b[0m 901us/step - loss: 0.0014 - val_loss: 0.0012\n",
      "Epoch 6/20\n",
      "\u001b[1m250/250\u001b[0m \u001b[32m━━━━━━━━━━━━━━━━━━━━\u001b[0m\u001b[37m\u001b[0m \u001b[1m0s\u001b[0m 906us/step - loss: 0.0011 - val_loss: 9.8104e-04\n",
      "Epoch 7/20\n",
      "\u001b[1m250/250\u001b[0m \u001b[32m━━━━━━━━━━━━━━━━━━━━\u001b[0m\u001b[37m\u001b[0m \u001b[1m0s\u001b[0m 989us/step - loss: 8.9354e-04 - val_loss: 8.4243e-04\n",
      "Epoch 8/20\n",
      "\u001b[1m250/250\u001b[0m \u001b[32m━━━━━━━━━━━━━━━━━━━━\u001b[0m\u001b[37m\u001b[0m \u001b[1m0s\u001b[0m 1ms/step - loss: 7.7717e-04 - val_loss: 7.4489e-04\n",
      "Epoch 9/20\n",
      "\u001b[1m250/250\u001b[0m \u001b[32m━━━━━━━━━━━━━━━━━━━━\u001b[0m\u001b[37m\u001b[0m \u001b[1m0s\u001b[0m 906us/step - loss: 6.7338e-04 - val_loss: 6.6866e-04\n",
      "Epoch 10/20\n",
      "\u001b[1m250/250\u001b[0m \u001b[32m━━━━━━━━━━━━━━━━━━━━\u001b[0m\u001b[37m\u001b[0m \u001b[1m0s\u001b[0m 886us/step - loss: 6.3539e-04 - val_loss: 6.2060e-04\n",
      "Epoch 11/20\n",
      "\u001b[1m250/250\u001b[0m \u001b[32m━━━━━━━━━━━━━━━━━━━━\u001b[0m\u001b[37m\u001b[0m \u001b[1m0s\u001b[0m 913us/step - loss: 5.8790e-04 - val_loss: 5.6696e-04\n",
      "Epoch 12/20\n",
      "\u001b[1m250/250\u001b[0m \u001b[32m━━━━━━━━━━━━━━━━━━━━\u001b[0m\u001b[37m\u001b[0m \u001b[1m0s\u001b[0m 883us/step - loss: 5.4835e-04 - val_loss: 5.3428e-04\n",
      "Epoch 13/20\n",
      "\u001b[1m250/250\u001b[0m \u001b[32m━━━━━━━━━━━━━━━━━━━━\u001b[0m\u001b[37m\u001b[0m \u001b[1m0s\u001b[0m 892us/step - loss: 5.1148e-04 - val_loss: 4.9152e-04\n",
      "Epoch 14/20\n",
      "\u001b[1m250/250\u001b[0m \u001b[32m━━━━━━━━━━━━━━━━━━━━\u001b[0m\u001b[37m\u001b[0m \u001b[1m0s\u001b[0m 991us/step - loss: 4.8681e-04 - val_loss: 4.7620e-04\n",
      "Epoch 15/20\n",
      "\u001b[1m250/250\u001b[0m \u001b[32m━━━━━━━━━━━━━━━━━━━━\u001b[0m\u001b[37m\u001b[0m \u001b[1m0s\u001b[0m 886us/step - loss: 4.5865e-04 - val_loss: 4.4700e-04\n",
      "Epoch 16/20\n",
      "\u001b[1m250/250\u001b[0m \u001b[32m━━━━━━━━━━━━━━━━━━━━\u001b[0m\u001b[37m\u001b[0m \u001b[1m0s\u001b[0m 897us/step - loss: 4.2043e-04 - val_loss: 4.1756e-04\n",
      "Epoch 17/20\n",
      "\u001b[1m250/250\u001b[0m \u001b[32m━━━━━━━━━━━━━━━━━━━━\u001b[0m\u001b[37m\u001b[0m \u001b[1m0s\u001b[0m 950us/step - loss: 3.8103e-04 - val_loss: 4.0649e-04\n",
      "Epoch 18/20\n",
      "\u001b[1m250/250\u001b[0m \u001b[32m━━━━━━━━━━━━━━━━━━━━\u001b[0m\u001b[37m\u001b[0m \u001b[1m0s\u001b[0m 896us/step - loss: 3.6758e-04 - val_loss: 3.8257e-04\n",
      "Epoch 19/20\n",
      "\u001b[1m250/250\u001b[0m \u001b[32m━━━━━━━━━━━━━━━━━━━━\u001b[0m\u001b[37m\u001b[0m \u001b[1m0s\u001b[0m 957us/step - loss: 3.5225e-04 - val_loss: 3.9962e-04\n",
      "Epoch 20/20\n",
      "\u001b[1m250/250\u001b[0m \u001b[32m━━━━━━━━━━━━━━━━━━━━\u001b[0m\u001b[37m\u001b[0m \u001b[1m0s\u001b[0m 964us/step - loss: 3.3082e-04 - val_loss: 3.3614e-04\n",
      "\u001b[1m250/250\u001b[0m \u001b[32m━━━━━━━━━━━━━━━━━━━━\u001b[0m\u001b[37m\u001b[0m \u001b[1m0s\u001b[0m 676us/step\n",
      "\u001b[1m63/63\u001b[0m \u001b[32m━━━━━━━━━━━━━━━━━━━━\u001b[0m\u001b[37m\u001b[0m \u001b[1m0s\u001b[0m 851us/step\n"
     ]
    }
   ],
   "source": [
    "model_3R.compile(loss=MSE, optimizer=Adam(learning_rate=0.001))\n",
    "\n",
    "epochs_3R = 20\n",
    "start = time.time()\n",
    "history_3R = model_3R.fit(X_3R_train, y_3R_train,\n",
    "                    epochs=epochs_3R,\n",
    "                    validation_data=(X_3R_test, y_3R_test),\n",
    "                    verbose=1)\n",
    "training_time = time.time() - start\n",
    "\n",
    "\n",
    "y_3R_train_pred = model_3R.predict(X_3R_train)\n",
    "y_3R_test_pred = model_3R.predict(X_3R_test)\n",
    "\n",
    "mae_3R_train = mean_absolute_error(y_3R_train, y_3R_train_pred)\n",
    "mae_3R_test = mean_absolute_error(y_3R_test, y_3R_test_pred)\n",
    "\n",
    "r2_3R_test = r2_score(y_3R_test, y_3R_test_pred)\n",
    "r2_3R_train = r2_score(y_3R_train, y_3R_train_pred)"
   ]
  },
  {
   "cell_type": "code",
   "execution_count": 27,
   "metadata": {},
   "outputs": [
    {
     "name": "stdout",
     "output_type": "stream",
     "text": [
      "== Training Time ==\n",
      "5.64 seconds\n",
      "\n",
      "== Final loss ==\n",
      "Train: 0.0003226810949854553\n",
      "Test: 0.00033613768755458295\n",
      "\n",
      "== Mean absolute error ==\n",
      "Train: 0.01349802219485309\n",
      "Test: 0.014252226559638983\n",
      "\n",
      "== R2 Score ==\n",
      "Train: 0.9873368190125702\n",
      "Test: 0.9861009643276291\n"
     ]
    }
   ],
   "source": [
    "print(f\"== Training Time ==\\n{training_time:.2f} seconds\\n\")\n",
    "print(f\"== Final loss ==\\nTrain: {history_3R.history['loss'][-1]}\\nTest: {history_3R.history['val_loss'][-1]}\\n\")\n",
    "print(f\"== Mean absolute error ==\\nTrain: {mae_3R_train}\\nTest: {mae_3R_test}\\n\")\n",
    "print(f\"== R2 Score ==\\nTrain: {r2_3R_train}\\nTest: {r2_3R_test}\")"
   ]
  },
  {
   "cell_type": "markdown",
   "metadata": {},
   "source": [
    "### 3) 3D with 5 joints"
   ]
  },
  {
   "cell_type": "code",
   "execution_count": 28,
   "metadata": {},
   "outputs": [
    {
     "name": "stdout",
     "output_type": "stream",
     "text": [
      "(80000, 10) (80000, 3)\n",
      "(20000, 3) (20000, 3)\n"
     ]
    }
   ],
   "source": [
    "X_5R_train, X_5R_test, y_5R_train, y_5R_test = train_test_split(X_5R, y_5R_pos, test_size=0.2, random_state=2184503)\n",
    "print(X_5R_train.shape, y_5R_train.shape)\n",
    "print(y_5R_test.shape, y_5R_test.shape)"
   ]
  },
  {
   "cell_type": "markdown",
   "metadata": {},
   "source": [
    "Since the model's complexity is greater for the 5R robot arm (more parameters to take into account and an additional dimension), a larger percentage of the main dataset is used. "
   ]
  },
  {
   "cell_type": "code",
   "execution_count": 29,
   "metadata": {},
   "outputs": [
    {
     "name": "stdout",
     "output_type": "stream",
     "text": [
      "(64000, 10) (64000, 3)\n",
      "(16000, 3) (16000, 3)\n"
     ]
    }
   ],
   "source": [
    "percentage_5R = 0.8\n",
    "\n",
    "subset_size_train = int(len(X_5R_train)*percentage_5R)\n",
    "subset_size_test = int(len(X_5R_test)*percentage_5R)\n",
    "\n",
    "X_5R_train = X_5R_train[:subset_size_train]\n",
    "y_5R_train = y_5R_train[:subset_size_train]\n",
    "X_5R_test = X_5R_test[:subset_size_test]\n",
    "y_5R_test = y_5R_test[:subset_size_test]\n",
    "\n",
    "print(X_5R_train.shape, y_5R_train.shape)\n",
    "print(y_5R_test.shape, y_5R_test.shape)"
   ]
  },
  {
   "cell_type": "code",
   "execution_count": 30,
   "metadata": {},
   "outputs": [
    {
     "data": {
      "text/html": [
       "<pre style=\"white-space:pre;overflow-x:auto;line-height:normal;font-family:Menlo,'DejaVu Sans Mono',consolas,'Courier New',monospace\"><span style=\"font-weight: bold\">Model: \"sequential_2\"</span>\n",
       "</pre>\n"
      ],
      "text/plain": [
       "\u001b[1mModel: \"sequential_2\"\u001b[0m\n"
      ]
     },
     "metadata": {},
     "output_type": "display_data"
    },
    {
     "data": {
      "text/html": [
       "<pre style=\"white-space:pre;overflow-x:auto;line-height:normal;font-family:Menlo,'DejaVu Sans Mono',consolas,'Courier New',monospace\">┏━━━━━━━━━━━━━━━━━━━━━━━━━━━━━━━━━┳━━━━━━━━━━━━━━━━━━━━━━━━┳━━━━━━━━━━━━━━━┓\n",
       "┃<span style=\"font-weight: bold\"> Layer (type)                    </span>┃<span style=\"font-weight: bold\"> Output Shape           </span>┃<span style=\"font-weight: bold\">       Param # </span>┃\n",
       "┡━━━━━━━━━━━━━━━━━━━━━━━━━━━━━━━━━╇━━━━━━━━━━━━━━━━━━━━━━━━╇━━━━━━━━━━━━━━━┩\n",
       "│ dense_6 (<span style=\"color: #0087ff; text-decoration-color: #0087ff\">Dense</span>)                 │ (<span style=\"color: #00d7ff; text-decoration-color: #00d7ff\">None</span>, <span style=\"color: #00af00; text-decoration-color: #00af00\">16</span>)             │           <span style=\"color: #00af00; text-decoration-color: #00af00\">176</span> │\n",
       "├─────────────────────────────────┼────────────────────────┼───────────────┤\n",
       "│ dense_7 (<span style=\"color: #0087ff; text-decoration-color: #0087ff\">Dense</span>)                 │ (<span style=\"color: #00d7ff; text-decoration-color: #00d7ff\">None</span>, <span style=\"color: #00af00; text-decoration-color: #00af00\">16</span>)             │           <span style=\"color: #00af00; text-decoration-color: #00af00\">272</span> │\n",
       "├─────────────────────────────────┼────────────────────────┼───────────────┤\n",
       "│ dense_8 (<span style=\"color: #0087ff; text-decoration-color: #0087ff\">Dense</span>)                 │ (<span style=\"color: #00d7ff; text-decoration-color: #00d7ff\">None</span>, <span style=\"color: #00af00; text-decoration-color: #00af00\">3</span>)              │            <span style=\"color: #00af00; text-decoration-color: #00af00\">51</span> │\n",
       "└─────────────────────────────────┴────────────────────────┴───────────────┘\n",
       "</pre>\n"
      ],
      "text/plain": [
       "┏━━━━━━━━━━━━━━━━━━━━━━━━━━━━━━━━━┳━━━━━━━━━━━━━━━━━━━━━━━━┳━━━━━━━━━━━━━━━┓\n",
       "┃\u001b[1m \u001b[0m\u001b[1mLayer (type)                   \u001b[0m\u001b[1m \u001b[0m┃\u001b[1m \u001b[0m\u001b[1mOutput Shape          \u001b[0m\u001b[1m \u001b[0m┃\u001b[1m \u001b[0m\u001b[1m      Param #\u001b[0m\u001b[1m \u001b[0m┃\n",
       "┡━━━━━━━━━━━━━━━━━━━━━━━━━━━━━━━━━╇━━━━━━━━━━━━━━━━━━━━━━━━╇━━━━━━━━━━━━━━━┩\n",
       "│ dense_6 (\u001b[38;5;33mDense\u001b[0m)                 │ (\u001b[38;5;45mNone\u001b[0m, \u001b[38;5;34m16\u001b[0m)             │           \u001b[38;5;34m176\u001b[0m │\n",
       "├─────────────────────────────────┼────────────────────────┼───────────────┤\n",
       "│ dense_7 (\u001b[38;5;33mDense\u001b[0m)                 │ (\u001b[38;5;45mNone\u001b[0m, \u001b[38;5;34m16\u001b[0m)             │           \u001b[38;5;34m272\u001b[0m │\n",
       "├─────────────────────────────────┼────────────────────────┼───────────────┤\n",
       "│ dense_8 (\u001b[38;5;33mDense\u001b[0m)                 │ (\u001b[38;5;45mNone\u001b[0m, \u001b[38;5;34m3\u001b[0m)              │            \u001b[38;5;34m51\u001b[0m │\n",
       "└─────────────────────────────────┴────────────────────────┴───────────────┘\n"
      ]
     },
     "metadata": {},
     "output_type": "display_data"
    },
    {
     "data": {
      "text/html": [
       "<pre style=\"white-space:pre;overflow-x:auto;line-height:normal;font-family:Menlo,'DejaVu Sans Mono',consolas,'Courier New',monospace\"><span style=\"font-weight: bold\"> Total params: </span><span style=\"color: #00af00; text-decoration-color: #00af00\">499</span> (1.95 KB)\n",
       "</pre>\n"
      ],
      "text/plain": [
       "\u001b[1m Total params: \u001b[0m\u001b[38;5;34m499\u001b[0m (1.95 KB)\n"
      ]
     },
     "metadata": {},
     "output_type": "display_data"
    },
    {
     "data": {
      "text/html": [
       "<pre style=\"white-space:pre;overflow-x:auto;line-height:normal;font-family:Menlo,'DejaVu Sans Mono',consolas,'Courier New',monospace\"><span style=\"font-weight: bold\"> Trainable params: </span><span style=\"color: #00af00; text-decoration-color: #00af00\">499</span> (1.95 KB)\n",
       "</pre>\n"
      ],
      "text/plain": [
       "\u001b[1m Trainable params: \u001b[0m\u001b[38;5;34m499\u001b[0m (1.95 KB)\n"
      ]
     },
     "metadata": {},
     "output_type": "display_data"
    },
    {
     "data": {
      "text/html": [
       "<pre style=\"white-space:pre;overflow-x:auto;line-height:normal;font-family:Menlo,'DejaVu Sans Mono',consolas,'Courier New',monospace\"><span style=\"font-weight: bold\"> Non-trainable params: </span><span style=\"color: #00af00; text-decoration-color: #00af00\">0</span> (0.00 B)\n",
       "</pre>\n"
      ],
      "text/plain": [
       "\u001b[1m Non-trainable params: \u001b[0m\u001b[38;5;34m0\u001b[0m (0.00 B)\n"
      ]
     },
     "metadata": {},
     "output_type": "display_data"
    }
   ],
   "source": [
    "model_5R = Sequential()\n",
    "model_5R.add(Input((X_5R_train.shape[1],)))\n",
    "model_5R.add(Dense(16, activation=\"relu\"))\n",
    "model_5R.add(Dense(16, activation=\"relu\"))\n",
    "model_5R.add(Dense(y_5R_train.shape[1], activation=\"linear\"))\n",
    "model_5R.summary()"
   ]
  },
  {
   "cell_type": "code",
   "execution_count": 31,
   "metadata": {},
   "outputs": [
    {
     "name": "stdout",
     "output_type": "stream",
     "text": [
      "Epoch 1/20\n",
      "\u001b[1m2000/2000\u001b[0m \u001b[32m━━━━━━━━━━━━━━━━━━━━\u001b[0m\u001b[37m\u001b[0m \u001b[1m2s\u001b[0m 862us/step - loss: 0.0236 - val_loss: 0.0030\n",
      "Epoch 2/20\n",
      "\u001b[1m2000/2000\u001b[0m \u001b[32m━━━━━━━━━━━━━━━━━━━━\u001b[0m\u001b[37m\u001b[0m \u001b[1m2s\u001b[0m 825us/step - loss: 0.0026 - val_loss: 0.0019\n",
      "Epoch 3/20\n",
      "\u001b[1m2000/2000\u001b[0m \u001b[32m━━━━━━━━━━━━━━━━━━━━\u001b[0m\u001b[37m\u001b[0m \u001b[1m2s\u001b[0m 821us/step - loss: 0.0018 - val_loss: 0.0015\n",
      "Epoch 4/20\n",
      "\u001b[1m2000/2000\u001b[0m \u001b[32m━━━━━━━━━━━━━━━━━━━━\u001b[0m\u001b[37m\u001b[0m \u001b[1m2s\u001b[0m 821us/step - loss: 0.0014 - val_loss: 0.0013\n",
      "Epoch 5/20\n",
      "\u001b[1m2000/2000\u001b[0m \u001b[32m━━━━━━━━━━━━━━━━━━━━\u001b[0m\u001b[37m\u001b[0m \u001b[1m2s\u001b[0m 815us/step - loss: 0.0013 - val_loss: 0.0012\n",
      "Epoch 6/20\n",
      "\u001b[1m2000/2000\u001b[0m \u001b[32m━━━━━━━━━━━━━━━━━━━━\u001b[0m\u001b[37m\u001b[0m \u001b[1m2s\u001b[0m 834us/step - loss: 0.0011 - val_loss: 0.0011\n",
      "Epoch 7/20\n",
      "\u001b[1m2000/2000\u001b[0m \u001b[32m━━━━━━━━━━━━━━━━━━━━\u001b[0m\u001b[37m\u001b[0m \u001b[1m2s\u001b[0m 829us/step - loss: 0.0010 - val_loss: 9.1942e-04\n",
      "Epoch 8/20\n",
      "\u001b[1m2000/2000\u001b[0m \u001b[32m━━━━━━━━━━━━━━━━━━━━\u001b[0m\u001b[37m\u001b[0m \u001b[1m2s\u001b[0m 823us/step - loss: 9.1189e-04 - val_loss: 8.5034e-04\n",
      "Epoch 9/20\n",
      "\u001b[1m2000/2000\u001b[0m \u001b[32m━━━━━━━━━━━━━━━━━━━━\u001b[0m\u001b[37m\u001b[0m \u001b[1m2s\u001b[0m 841us/step - loss: 8.2697e-04 - val_loss: 7.6936e-04\n",
      "Epoch 10/20\n",
      "\u001b[1m2000/2000\u001b[0m \u001b[32m━━━━━━━━━━━━━━━━━━━━\u001b[0m\u001b[37m\u001b[0m \u001b[1m2s\u001b[0m 831us/step - loss: 7.7207e-04 - val_loss: 7.2137e-04\n",
      "Epoch 11/20\n",
      "\u001b[1m2000/2000\u001b[0m \u001b[32m━━━━━━━━━━━━━━━━━━━━\u001b[0m\u001b[37m\u001b[0m \u001b[1m2s\u001b[0m 833us/step - loss: 7.3892e-04 - val_loss: 6.8965e-04\n",
      "Epoch 12/20\n",
      "\u001b[1m2000/2000\u001b[0m \u001b[32m━━━━━━━━━━━━━━━━━━━━\u001b[0m\u001b[37m\u001b[0m \u001b[1m2s\u001b[0m 848us/step - loss: 7.0998e-04 - val_loss: 6.7723e-04\n",
      "Epoch 13/20\n",
      "\u001b[1m2000/2000\u001b[0m \u001b[32m━━━━━━━━━━━━━━━━━━━━\u001b[0m\u001b[37m\u001b[0m \u001b[1m2s\u001b[0m 840us/step - loss: 6.8307e-04 - val_loss: 6.7584e-04\n",
      "Epoch 14/20\n",
      "\u001b[1m2000/2000\u001b[0m \u001b[32m━━━━━━━━━━━━━━━━━━━━\u001b[0m\u001b[37m\u001b[0m \u001b[1m2s\u001b[0m 812us/step - loss: 6.6308e-04 - val_loss: 6.7056e-04\n",
      "Epoch 15/20\n",
      "\u001b[1m2000/2000\u001b[0m \u001b[32m━━━━━━━━━━━━━━━━━━━━\u001b[0m\u001b[37m\u001b[0m \u001b[1m2s\u001b[0m 804us/step - loss: 6.3871e-04 - val_loss: 6.3373e-04\n",
      "Epoch 16/20\n",
      "\u001b[1m2000/2000\u001b[0m \u001b[32m━━━━━━━━━━━━━━━━━━━━\u001b[0m\u001b[37m\u001b[0m \u001b[1m2s\u001b[0m 815us/step - loss: 6.2989e-04 - val_loss: 6.0353e-04\n",
      "Epoch 17/20\n",
      "\u001b[1m2000/2000\u001b[0m \u001b[32m━━━━━━━━━━━━━━━━━━━━\u001b[0m\u001b[37m\u001b[0m \u001b[1m2s\u001b[0m 801us/step - loss: 6.1024e-04 - val_loss: 5.8746e-04\n",
      "Epoch 18/20\n",
      "\u001b[1m2000/2000\u001b[0m \u001b[32m━━━━━━━━━━━━━━━━━━━━\u001b[0m\u001b[37m\u001b[0m \u001b[1m2s\u001b[0m 809us/step - loss: 5.9491e-04 - val_loss: 5.8228e-04\n",
      "Epoch 19/20\n",
      "\u001b[1m2000/2000\u001b[0m \u001b[32m━━━━━━━━━━━━━━━━━━━━\u001b[0m\u001b[37m\u001b[0m \u001b[1m2s\u001b[0m 810us/step - loss: 5.8499e-04 - val_loss: 5.5830e-04\n",
      "Epoch 20/20\n",
      "\u001b[1m2000/2000\u001b[0m \u001b[32m━━━━━━━━━━━━━━━━━━━━\u001b[0m\u001b[37m\u001b[0m \u001b[1m2s\u001b[0m 828us/step - loss: 5.7624e-04 - val_loss: 5.6476e-04\n",
      "\u001b[1m2000/2000\u001b[0m \u001b[32m━━━━━━━━━━━━━━━━━━━━\u001b[0m\u001b[37m\u001b[0m \u001b[1m1s\u001b[0m 600us/step\n",
      "\u001b[1m500/500\u001b[0m \u001b[32m━━━━━━━━━━━━━━━━━━━━\u001b[0m\u001b[37m\u001b[0m \u001b[1m0s\u001b[0m 577us/step\n"
     ]
    }
   ],
   "source": [
    "model_5R.compile(loss=MSE, optimizer=Adam(learning_rate=0.001))\n",
    "\n",
    "epochs_5R = 20\n",
    "start = time.time()\n",
    "history_5R = model_5R.fit(X_5R_train, y_5R_train,\n",
    "                    epochs=epochs_5R,\n",
    "                    validation_data=(X_5R_test, y_5R_test),\n",
    "                    verbose=1)\n",
    "training_time = time.time() - start\n",
    "\n",
    "\n",
    "y_5R_train_pred = model_5R.predict(X_5R_train)\n",
    "y_5R_test_pred = model_5R.predict(X_5R_test)\n",
    "\n",
    "mae_5R_train = mean_absolute_error(y_5R_train, y_5R_train_pred)\n",
    "mae_5R_test = mean_absolute_error(y_5R_test, y_5R_test_pred)\n",
    "\n",
    "r2_5R_test = r2_score(y_5R_test, y_5R_test_pred)\n",
    "r2_5R_train = r2_score(y_5R_train, y_5R_train_pred)"
   ]
  },
  {
   "cell_type": "code",
   "execution_count": 32,
   "metadata": {},
   "outputs": [
    {
     "data": {
      "image/png": "[encoded data removed]",
      "text/plain": [
       "<Figure size 640x480 with 1 Axes>"
      ]
     },
     "metadata": {},
     "output_type": "display_data"
    },
    {
     "name": "stdout",
     "output_type": "stream",
     "text": [
      "== Training Time ==\n",
      "33.95 seconds\n",
      "\n",
      "== Final loss ==\n",
      "Train: 0.0005734770675189793\n",
      "Test: 0.0005647566867992282\n",
      "\n",
      "== Mean absolute error ==\n",
      "Train: 0.01861557836206912\n",
      "Test: 0.018570882755847645\n",
      "\n",
      "== R2 Score ==\n",
      "Train: 0.981607707962032\n",
      "Test: 0.9813774998929928\n"
     ]
    }
   ],
   "source": [
    "displayLearningCurve(history=history_3R, \n",
    "                    epochs=epochs_3R)\n",
    "\n",
    "print(f\"== Training Time ==\\n{training_time:.2f} seconds\\n\")\n",
    "print(f\"== Final loss ==\\nTrain: {history_5R.history['loss'][-1]}\\nTest: {history_5R.history['val_loss'][-1]}\\n\")\n",
    "print(f\"== Mean absolute error ==\\nTrain: {mae_5R_train}\\nTest: {mae_5R_test}\\n\")\n",
    "print(f\"== R2 Score ==\\nTrain: {r2_5R_train}\\nTest: {r2_5R_test}\")"
   ]
  },
  {
   "cell_type": "markdown",
   "metadata": {},
   "source": [
    "Once we are satisfied with our models, we can save them for future use:"
   ]
  },
  {
   "cell_type": "code",
   "execution_count": 33,
   "metadata": {},
   "outputs": [],
   "source": [
    "model_2R.save(filepath=f'models/NN1_2R_p{int(percentage_2R*100)}_e{epochs_2R}.keras')\n",
    "model_3R.save(filepath=f'models/NN1_3R_p{int(percentage_3R*100)}_e{epochs_3R}.keras')\n",
    "model_5R.save(filepath=f'models/NN1_5R_p{int(percentage_5R*100)}_e{epochs_5R}.keras')"
   ]
  }
 ],
 "metadata": {
  "kernelspec": {
   "display_name": "usr",
   "language": "python",
   "name": "python3"
  },
  "language_info": {
   "codemirror_mode": {
    "name": "ipython",
    "version": 3
   },
   "file_extension": ".py",
   "mimetype": "text/x-python",
   "name": "python",
   "nbconvert_exporter": "python",
   "pygments_lexer": "ipython3",
   "version": "3.12.3"
  }
 },
 "nbformat": 4,
 "nbformat_minor": 2
}
