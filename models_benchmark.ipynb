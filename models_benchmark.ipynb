{
 "cells": [
  {
   "cell_type": "markdown",
   "metadata": {},
   "source": [
    "# Models benchmark"
   ]
  },
  {
   "cell_type": "markdown",
   "metadata": {},
   "source": [
    "## Imports"
   ]
  },
  {
   "cell_type": "code",
   "execution_count": null,
   "metadata": {},
   "outputs": [],
   "source": [
    "import os\n",
    "from utils import *\n",
    "import numpy as np\n",
    "import tensorflow as tf\n",
    "import matplotlib.pyplot as plt\n",
    "from tensorflow.keras.models import load_model\n",
    "from sklearn.metrics import mean_absolute_error"
   ]
  },
  {
   "cell_type": "code",
   "execution_count": null,
   "metadata": {},
   "outputs": [],
   "source": [
    "models_dir = 'models'\n",
    "MODELS_2R = []\n",
    "MODELS_3R = []\n",
    "MODELS_5R = []\n",
    "\n",
    "if os.path.exists(models_dir) and os.path.isdir(models_dir):\n",
    "    for filename in os.listdir(models_dir):\n",
    "        filepath = os.path.join(models_dir, filename)\n",
    "        if os.path.isfile(filepath) and filename.endswith('.keras'):\n",
    "            if '2R' in filename:\n",
    "                model = load_model(filepath)\n",
    "                model = Model(model=model, \n",
    "                              name=filename)\n",
    "                print(f\"2R Model found : {filename}\")\n",
    "                MODELS_2R.append(model)\n",
    "            elif '3R' in filename:\n",
    "                model = load_model(filepath)\n",
    "                model = Model(model=model, \n",
    "                              name=filename)\n",
    "                print(f\"3R Model found : {filename}\")\n",
    "                MODELS_3R.append(model)\n",
    "            elif '5R' in filename:\n",
    "                model = load_model(filepath)\n",
    "                model = Model(model=model, \n",
    "                              name=filename)\n",
    "                print(f\"5R Model found : {filename}\")\n",
    "                MODELS_3R.append(model)\n",
    "else:\n",
    "    print(f\"The folder '{models_dir}' does not exists!\")\n",
    "\n",
    "\n",
    "print(f\"Number of 2R models : {len(MODELS_2R)}\")\n",
    "print(f\"Number of 3R models : {len(MODELS_3R)}\")\n",
    "print(f\"Number of 3R models : {len(MODELS_5R)}\")"
   ]
  },
  {
   "cell_type": "code",
   "execution_count": null,
   "metadata": {},
   "outputs": [],
   "source": [
    "THETA_LST = [(0, 0), (np.pi/2, np.pi/2), (np.pi/2, np.pi/4)]\n",
    "\n",
    "for theta in THETA_LST:\n",
    "    ee_x_pred, ee_y_pred = FK(model_2R, theta)\n",
    "    print(f\"Example with (j0, j1) = {theta}\")\n",
    "    print(f\"End-effector predicted X-position: {ee_x_pred}\")\n",
    "    print(f\"End-effector predicted Y-position: {ee_y_pred}\")\n",
    "    print(\"\\n\")"
   ]
  },
  {
   "cell_type": "code",
   "execution_count": null,
   "metadata": {},
   "outputs": [],
   "source": [
    "for theta in THETA_LST:\n",
    "    result_model = FK(model_2R, theta)  \n",
    "    dispFK_2R(result_model, theta)"
   ]
  },
  {
   "cell_type": "code",
   "execution_count": null,
   "metadata": {},
   "outputs": [],
   "source": [
    "y_pred_test = model_2R.predict(X_2R_test)\n",
    "print(f\"Mean absolute error: {mean_absolute_error(y_2R_test, y_pred_test)}\")"
   ]
  },
  {
   "cell_type": "code",
   "execution_count": null,
   "metadata": {},
   "outputs": [],
   "source": [
    "theta = [np.pi/4, np.pi/2]  \n",
    "\n",
    "learned_J = FK_Jacobian_pred(model_2R, theta)\n",
    "print(f\"Jacobian Matrix predicted:\\n{learned_J}\")\n",
    "\n",
    "analytical_J = FK_Jacobian_analytic_2R(theta)\n",
    "print(f\"Jacobian Matrix analytical:\\n{learned_J}\")"
   ]
  },
  {
   "cell_type": "code",
   "execution_count": null,
   "metadata": {},
   "outputs": [],
   "source": [
    "THETA_LST = [(0, 0, 0), (np.pi/4, np.pi/4, np.pi/4), (0, np.pi/2, np.pi/2)]\n",
    "\n",
    "for theta in THETA_LST:\n",
    "    ee_x_pred, ee_y_pred = FK(model_3R, theta)\n",
    "    print(f\"Example with (j0, j1, j2) = {theta}\")\n",
    "    print(f\"End-effector predicted X-position: {ee_x_pred}\")\n",
    "    print(f\"End-effector predicted Y-position: {ee_y_pred}\")\n",
    "    print(\"\\n\")"
   ]
  },
  {
   "cell_type": "code",
   "execution_count": null,
   "metadata": {},
   "outputs": [],
   "source": [
    "for theta in THETA_LST:\n",
    "    result_model = FK(model_3R, theta)  \n",
    "    dispFK_3R(result_model, theta)"
   ]
  },
  {
   "cell_type": "code",
   "execution_count": null,
   "metadata": {},
   "outputs": [],
   "source": [
    "theta = [np.pi/4, np.pi/2, np.pi/4]  \n",
    "\n",
    "learned_J = FK_Jacobian_pred(model_3R, theta)\n",
    "print(f\"Jacobian Matrix predicted:\\n{learned_J}\")\n",
    "\n",
    "analytical_J = FK_Jacobian_pred(model_3R, theta)\n",
    "print(f\"Jacobian Matrix predicted:\\n{analytical_J}\")"
   ]
  },
  {
   "cell_type": "code",
   "execution_count": null,
   "metadata": {},
   "outputs": [],
   "source": [
    "THETA_LST = [(0, 0, 0, 0, 0), (np.pi/4, np.pi/4, np.pi/4, np.pi/4, -np.pi/2)]\n",
    "\n",
    "for theta in THETA_LST:\n",
    "    ee_x_pred, ee_y_pred, ee_z_pred = FK(model_5R, theta)\n",
    "    print(f\"Example with (j0, j1, j2, j3, j4) = {theta}\")\n",
    "    print(f\"End-effector predicted X-position: {ee_x_pred}\")\n",
    "    print(f\"End-effector predicted Y-position: {ee_y_pred}\")\n",
    "    print(f\"End-effector predicted Z-position: {ee_z_pred}\")\n",
    "    print(\"\\n\")"
   ]
  },
  {
   "cell_type": "code",
   "execution_count": null,
   "metadata": {},
   "outputs": [],
   "source": [
    "theta = [np.pi/4, np.pi/2, np.pi/4, np.pi/4, np.pi/4]  \n",
    "\n",
    "learned_J = FK_Jacobian_pred(model_5R, theta)\n",
    "print(f\"Jacobian Matrix predicted:\\n{learned_J}\")"
   ]
  }
 ],
 "metadata": {
  "kernelspec": {
   "display_name": "usr",
   "language": "python",
   "name": "python3"
  },
  "language_info": {
   "codemirror_mode": {
    "name": "ipython",
    "version": 3
   },
   "file_extension": ".py",
   "mimetype": "text/x-python",
   "name": "python",
   "nbconvert_exporter": "python",
   "pygments_lexer": "ipython3",
   "version": "3.12.3"
  }
 },
 "nbformat": 4,
 "nbformat_minor": 2
}
