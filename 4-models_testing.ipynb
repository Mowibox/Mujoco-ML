{
 "cells": [
  {
   "cell_type": "markdown",
   "metadata": {},
   "source": [
    "# Machine Learning applied to MuJoCo environment – Models Testing\n",
    "* ### Author: Mowibox (Ousmane THIONGANE)\n",
    "* ### Date: November 4th, 2024"
   ]
  },
  {
   "cell_type": "markdown",
   "metadata": {},
   "source": [
    "## Imports"
   ]
  },
  {
   "cell_type": "code",
   "execution_count": 19,
   "metadata": {},
   "outputs": [],
   "source": [
    "import os\n",
    "import numpy as np\n",
    "import pandas as pd\n",
    "from chardet import detect\n",
    "from utils import Model, angular_loss\n",
    "from tensorflow.keras.models import load_model\n",
    "from sklearn.metrics import mean_absolute_error, r2_score"
   ]
  },
  {
   "cell_type": "markdown",
   "metadata": {},
   "source": [
    "The script allows us to load all our data files from the data folder, as well as our models, so that we can test the MAE and R² scores metrics on the different datasets."
   ]
  },
  {
   "cell_type": "markdown",
   "metadata": {},
   "source": [
    "## I - Loading the models and the data"
   ]
  },
  {
   "cell_type": "markdown",
   "metadata": {},
   "source": [
    "### 1.1) Loading the models"
   ]
  },
  {
   "cell_type": "code",
   "execution_count": 20,
   "metadata": {},
   "outputs": [
    {
     "name": "stdout",
     "output_type": "stream",
     "text": [
      "5R Model found : NN4_5R_p75_e20_raw.keras\n",
      "3R Model found : NN2_3R_p10_e20.keras\n",
      "3R Model found : NN4_3R_p10_e20_raw.keras\n",
      "2R Model found : NN2_2R_p10_e20.keras\n",
      "5R Model found : NN2_5R_p80_e20.keras\n",
      "2R Model found : NN3_2R_p10_e20_raw.keras\n",
      "5R Model found : NN3_5R_p75_e20_raw.keras\n",
      "3R Model found : NN3_3R_p10_e20_raw.keras\n",
      "2R Model found : NN4_2R_p10_e20_raw.keras\n",
      "3R Model found : NN1_3R_p10_e20.keras\n",
      "2R Model found : NN1_2R_p10_e20.keras\n",
      "Number of 2R models : 4\n",
      "Number of 3R models : 4\n",
      "Number of 5R models : 3\n"
     ]
    }
   ],
   "source": [
    "models_dir = 'models'\n",
    "MODELS_2R = []\n",
    "MODELS_3R = []\n",
    "MODELS_5R = []\n",
    "\n",
    "if os.path.exists(models_dir) and os.path.isdir(models_dir):\n",
    "    for filename in os.listdir(models_dir):\n",
    "        filepath = os.path.join(models_dir, filename)\n",
    "        if os.path.isfile(filepath) and filename.endswith('.keras'):\n",
    "            if '2R' in filename:\n",
    "                print(f\"2R Model found : {filename}\")\n",
    "                model = load_model(filepath, \n",
    "                                   custom_objects={'angular_loss': angular_loss})\n",
    "                model = Model(model=model, \n",
    "                              name=filename)\n",
    "                MODELS_2R.append(model)\n",
    "            elif '3R' in filename:\n",
    "                print(f\"3R Model found : {filename}\")\n",
    "                model = load_model(filepath, \n",
    "                                   custom_objects={'angular_loss': angular_loss})\n",
    "                model = Model(model=model, \n",
    "                              name=filename)\n",
    "                MODELS_3R.append(model)\n",
    "            elif '5R' in filename:\n",
    "                print(f\"5R Model found : {filename}\")\n",
    "                model = load_model(filepath, \n",
    "                                custom_objects={'angular_loss': angular_loss})\n",
    "                model = Model(model=model, \n",
    "                            name=filename)\n",
    "                MODELS_5R.append(model)\n",
    "else:\n",
    "    print(f\"The folder '{models_dir}' does not exists!\")\n",
    "\n",
    "\n",
    "print(f\"Number of 2R models : {len(MODELS_2R)}\")\n",
    "print(f\"Number of 3R models : {len(MODELS_3R)}\")\n",
    "print(f\"Number of 5R models : {len(MODELS_5R)}\")"
   ]
  },
  {
   "cell_type": "markdown",
   "metadata": {},
   "source": [
    "### 1.2) Loading the data"
   ]
  },
  {
   "cell_type": "code",
   "execution_count": 21,
   "metadata": {},
   "outputs": [
    {
     "name": "stdout",
     "output_type": "stream",
     "text": [
      "2R data files: ['2R_1000_100.csv', '2R_2184503_100.csv', '2R_12345_100.csv']\n",
      "3R data files: ['3R_12345_100.csv', '3R_1000_100.csv', '3R_2184503_100.csv']\n",
      "5R data files: ['5R_2184503_100.csv', '5R_12345_100.csv', '5R_1000_100.csv']\n"
     ]
    }
   ],
   "source": [
    "data_dir = \"data\"  \n",
    "FILENAME_2R = [] \n",
    "FILENAME_3R = [] \n",
    "FILENAME_5R = []\n",
    "\n",
    "if os.path.exists(data_dir) and os.path.isdir(data_dir):\n",
    "    \n",
    "    for file_name in os.listdir(data_dir):\n",
    "       \n",
    "            if \"2R\" in file_name:\n",
    "                FILENAME_2R.append(file_name)\n",
    "            elif \"3R\" in file_name:\n",
    "                FILENAME_3R.append(file_name)\n",
    "            elif \"5R\" in file_name:\n",
    "                FILENAME_5R.append(file_name)\n",
    "else:\n",
    "    print(f\"The folder '{data_dir}' does not exist!\")\n",
    "\n",
    "print(\"2R data files:\", FILENAME_2R)\n",
    "print(\"3R data files:\", FILENAME_3R)\n",
    "print(\"5R data files:\", FILENAME_5R)"
   ]
  },
  {
   "cell_type": "markdown",
   "metadata": {},
   "source": [
    "## II - Computing the metrics performance"
   ]
  },
  {
   "cell_type": "markdown",
   "metadata": {},
   "source": [
    "### 2.1) 2R robot"
   ]
  },
  {
   "cell_type": "code",
   "execution_count": 22,
   "metadata": {},
   "outputs": [
    {
     "name": "stdout",
     "output_type": "stream",
     "text": [
      "\u001b[1m3125/3125\u001b[0m \u001b[32m━━━━━━━━━━━━━━━━━━━━\u001b[0m\u001b[37m\u001b[0m \u001b[1m2s\u001b[0m 624us/step\n",
      "== Metrics for model NN2_2R_p10_e20.keras on file 2R_1000_100.csv\n",
      "== MAE: 0.0029924277795683038\n",
      "== R2: 0.9983439493939505\n",
      "\n",
      "\u001b[1m3125/3125\u001b[0m \u001b[32m━━━━━━━━━━━━━━━━━━━━\u001b[0m\u001b[37m\u001b[0m \u001b[1m2s\u001b[0m 687us/step\n",
      "== Metrics for model NN2_2R_p10_e20.keras on file 2R_2184503_100.csv\n",
      "== MAE: 0.002953136384340733\n",
      "== R2: 0.9983979681968668\n",
      "\n",
      "\u001b[1m3125/3125\u001b[0m \u001b[32m━━━━━━━━━━━━━━━━━━━━\u001b[0m\u001b[37m\u001b[0m \u001b[1m2s\u001b[0m 617us/step\n",
      "== Metrics for model NN2_2R_p10_e20.keras on file 2R_12345_100.csv\n",
      "== MAE: 0.002911944969158036\n",
      "== R2: 0.9983750263677955\n",
      "\n",
      "\u001b[1m3125/3125\u001b[0m \u001b[32m━━━━━━━━━━━━━━━━━━━━\u001b[0m\u001b[37m\u001b[0m \u001b[1m2s\u001b[0m 614us/step\n",
      "== Metrics for model NN3_2R_p10_e20_raw.keras on file 2R_1000_100.csv\n",
      "== MAE: 0.005019118853493233\n",
      "== R2: 0.9948220046136331\n",
      "\n",
      "\u001b[1m3125/3125\u001b[0m \u001b[32m━━━━━━━━━━━━━━━━━━━━\u001b[0m\u001b[37m\u001b[0m \u001b[1m2s\u001b[0m 637us/step\n",
      "== Metrics for model NN3_2R_p10_e20_raw.keras on file 2R_2184503_100.csv\n",
      "== MAE: 0.004992057343594744\n",
      "== R2: 0.9949360684797843\n",
      "\n",
      "\u001b[1m3125/3125\u001b[0m \u001b[32m━━━━━━━━━━━━━━━━━━━━\u001b[0m\u001b[37m\u001b[0m \u001b[1m2s\u001b[0m 664us/step\n",
      "== Metrics for model NN3_2R_p10_e20_raw.keras on file 2R_12345_100.csv\n",
      "== MAE: 0.005064557748222086\n",
      "== R2: 0.9945689558181231\n",
      "\n",
      "\u001b[1m3125/3125\u001b[0m \u001b[32m━━━━━━━━━━━━━━━━━━━━\u001b[0m\u001b[37m\u001b[0m \u001b[1m2s\u001b[0m 665us/step\n",
      "== Metrics for model NN4_2R_p10_e20_raw.keras on file 2R_1000_100.csv\n",
      "== MAE: 0.003232063113469516\n",
      "== R2: 0.998095037703119\n",
      "\n",
      "\u001b[1m3125/3125\u001b[0m \u001b[32m━━━━━━━━━━━━━━━━━━━━\u001b[0m\u001b[37m\u001b[0m \u001b[1m2s\u001b[0m 734us/step\n",
      "== Metrics for model NN4_2R_p10_e20_raw.keras on file 2R_2184503_100.csv\n",
      "== MAE: 0.0032315647615657\n",
      "== R2: 0.9981152483038622\n",
      "\n",
      "\u001b[1m3125/3125\u001b[0m \u001b[32m━━━━━━━━━━━━━━━━━━━━\u001b[0m\u001b[37m\u001b[0m \u001b[1m3s\u001b[0m 796us/step\n",
      "== Metrics for model NN4_2R_p10_e20_raw.keras on file 2R_12345_100.csv\n",
      "== MAE: 0.003273622582658927\n",
      "== R2: 0.9979988554830637\n",
      "\n",
      "\u001b[1m3125/3125\u001b[0m \u001b[32m━━━━━━━━━━━━━━━━━━━━\u001b[0m\u001b[37m\u001b[0m \u001b[1m2s\u001b[0m 658us/step\n",
      "== Metrics for model NN1_2R_p10_e20.keras on file 2R_1000_100.csv\n",
      "== MAE: 0.004719301726196055\n",
      "== R2: 0.9955670789247156\n",
      "\n",
      "\u001b[1m3125/3125\u001b[0m \u001b[32m━━━━━━━━━━━━━━━━━━━━\u001b[0m\u001b[37m\u001b[0m \u001b[1m2s\u001b[0m 641us/step\n",
      "== Metrics for model NN1_2R_p10_e20.keras on file 2R_2184503_100.csv\n",
      "== MAE: 0.004633922774123952\n",
      "== R2: 0.9957276858796498\n",
      "\n",
      "\u001b[1m3125/3125\u001b[0m \u001b[32m━━━━━━━━━━━━━━━━━━━━\u001b[0m\u001b[37m\u001b[0m \u001b[1m2s\u001b[0m 643us/step\n",
      "== Metrics for model NN1_2R_p10_e20.keras on file 2R_12345_100.csv\n",
      "== MAE: 0.0046297150804908175\n",
      "== R2: 0.9955813463127061\n",
      "\n"
     ]
    }
   ],
   "source": [
    "for model in MODELS_2R:\n",
    "    for filename in FILENAME_2R:\n",
    "        model_2R = model.model\n",
    "        name_2R =  model.get_name()\n",
    "        path = f'data/{filename}'\n",
    "\n",
    "        with open(path, 'rb') as f:\n",
    "            result = detect(f.read(10000))\n",
    "            encoding = result['encoding']\n",
    "        df_2R = pd.read_csv(path, sep=\";\", header=0, encoding=encoding).copy()\n",
    "\n",
    "        if 'raw' in name_2R:\n",
    "            X_2R = df_2R[['j0', ' j1']].values\n",
    "        else: \n",
    "            X_2R = df_2R[[' cos(j0)', ' sin(j0)', ' cos(j1)', ' sin(j1)']].values\n",
    "        \n",
    "        y_2R = df_2R[[' ee_x', ' ee_y']].values\n",
    "    \n",
    "        y_2R_pred = model_2R.predict(X_2R)\n",
    "        mae_2R = mean_absolute_error(y_2R, y_2R_pred)\n",
    "        r2_2R = r2_score(y_2R, y_2R_pred)\n",
    "\n",
    "        print(f\"== Metrics for model {name_2R} on file {filename}\")\n",
    "        print(f\"== MAE: {mae_2R}\")\n",
    "        print(f\"== R2: {r2_2R}\\n\")"
   ]
  },
  {
   "cell_type": "markdown",
   "metadata": {},
   "source": [
    "### 2.2) 3R robot"
   ]
  },
  {
   "cell_type": "code",
   "execution_count": 23,
   "metadata": {},
   "outputs": [
    {
     "name": "stdout",
     "output_type": "stream",
     "text": [
      "\u001b[1m3125/3125\u001b[0m \u001b[32m━━━━━━━━━━━━━━━━━━━━\u001b[0m\u001b[37m\u001b[0m \u001b[1m2s\u001b[0m 627us/step\n",
      "== Metrics for model NN2_3R_p10_e20.keras on file 3R_12345_100.csv\n",
      "== MAE: 0.0046523127294882186\n",
      "== R2: 0.9985171691255339\n",
      "\n",
      "\u001b[1m3125/3125\u001b[0m \u001b[32m━━━━━━━━━━━━━━━━━━━━\u001b[0m\u001b[37m\u001b[0m \u001b[1m2s\u001b[0m 626us/step\n",
      "== Metrics for model NN2_3R_p10_e20.keras on file 3R_1000_100.csv\n",
      "== MAE: 0.004671905331936109\n",
      "== R2: 0.9985125604492\n",
      "\n",
      "\u001b[1m3125/3125\u001b[0m \u001b[32m━━━━━━━━━━━━━━━━━━━━\u001b[0m\u001b[37m\u001b[0m \u001b[1m2s\u001b[0m 613us/step\n",
      "== Metrics for model NN2_3R_p10_e20.keras on file 3R_2184503_100.csv\n",
      "== MAE: 0.004617201499473006\n",
      "== R2: 0.9985614205446045\n",
      "\n",
      "\u001b[1m3125/3125\u001b[0m \u001b[32m━━━━━━━━━━━━━━━━━━━━\u001b[0m\u001b[37m\u001b[0m \u001b[1m2s\u001b[0m 708us/step\n",
      "== Metrics for model NN4_3R_p10_e20_raw.keras on file 3R_12345_100.csv\n",
      "== MAE: 0.005081614886686964\n",
      "== R2: 0.9981984742042227\n",
      "\n",
      "\u001b[1m3125/3125\u001b[0m \u001b[32m━━━━━━━━━━━━━━━━━━━━\u001b[0m\u001b[37m\u001b[0m \u001b[1m2s\u001b[0m 697us/step\n",
      "== Metrics for model NN4_3R_p10_e20_raw.keras on file 3R_1000_100.csv\n",
      "== MAE: 0.005117475083633148\n",
      "== R2: 0.9981861605534366\n",
      "\n",
      "\u001b[1m3125/3125\u001b[0m \u001b[32m━━━━━━━━━━━━━━━━━━━━\u001b[0m\u001b[37m\u001b[0m \u001b[1m2s\u001b[0m 712us/step\n",
      "== Metrics for model NN4_3R_p10_e20_raw.keras on file 3R_2184503_100.csv\n",
      "== MAE: 0.0051031488739834725\n",
      "== R2: 0.9982128750051065\n",
      "\n",
      "\u001b[1m3125/3125\u001b[0m \u001b[32m━━━━━━━━━━━━━━━━━━━━\u001b[0m\u001b[37m\u001b[0m \u001b[1m2s\u001b[0m 642us/step\n",
      "== Metrics for model NN3_3R_p10_e20_raw.keras on file 3R_12345_100.csv\n",
      "== MAE: 0.005967118799825128\n",
      "== R2: 0.9975271724645862\n",
      "\n",
      "\u001b[1m3125/3125\u001b[0m \u001b[32m━━━━━━━━━━━━━━━━━━━━\u001b[0m\u001b[37m\u001b[0m \u001b[1m2s\u001b[0m 652us/step\n",
      "== Metrics for model NN3_3R_p10_e20_raw.keras on file 3R_1000_100.csv\n",
      "== MAE: 0.005918185350941308\n",
      "== R2: 0.997569466700931\n",
      "\n",
      "\u001b[1m3125/3125\u001b[0m \u001b[32m━━━━━━━━━━━━━━━━━━━━\u001b[0m\u001b[37m\u001b[0m \u001b[1m2s\u001b[0m 684us/step\n",
      "== Metrics for model NN3_3R_p10_e20_raw.keras on file 3R_2184503_100.csv\n",
      "== MAE: 0.005889141934983631\n",
      "== R2: 0.9976439541694291\n",
      "\n",
      "\u001b[1m3125/3125\u001b[0m \u001b[32m━━━━━━━━━━━━━━━━━━━━\u001b[0m\u001b[37m\u001b[0m \u001b[1m2s\u001b[0m 601us/step\n",
      "== Metrics for model NN1_3R_p10_e20.keras on file 3R_12345_100.csv\n",
      "== MAE: 0.012853872463723142\n",
      "== R2: 0.9884692335231673\n",
      "\n",
      "\u001b[1m3125/3125\u001b[0m \u001b[32m━━━━━━━━━━━━━━━━━━━━\u001b[0m\u001b[37m\u001b[0m \u001b[1m2s\u001b[0m 660us/step\n",
      "== Metrics for model NN1_3R_p10_e20.keras on file 3R_1000_100.csv\n",
      "== MAE: 0.0129054625968856\n",
      "== R2: 0.9884158516033912\n",
      "\n",
      "\u001b[1m3125/3125\u001b[0m \u001b[32m━━━━━━━━━━━━━━━━━━━━\u001b[0m\u001b[37m\u001b[0m \u001b[1m2s\u001b[0m 655us/step\n",
      "== Metrics for model NN1_3R_p10_e20.keras on file 3R_2184503_100.csv\n",
      "== MAE: 0.012696622723036828\n",
      "== R2: 0.9889187674380663\n",
      "\n"
     ]
    }
   ],
   "source": [
    "for model in MODELS_3R:\n",
    "    for filename in FILENAME_3R:\n",
    "        model_3R = model.model\n",
    "        name_3R =  model.get_name()\n",
    "        path = f'data/{filename}'\n",
    "\n",
    "        with open(path, 'rb') as f:\n",
    "            result = detect(f.read(10000))\n",
    "            encoding = result['encoding']\n",
    "        df_3R = pd.read_csv(path, sep=\";\", header=0, encoding=encoding).copy()\n",
    "\n",
    "        if 'raw' in name_3R:\n",
    "            X_3R = df_3R[['j0', ' j1', ' j2']].values\n",
    "        else: \n",
    "            X_3R = df_3R[[' cos(j0)', ' sin(j0)', ' cos(j1)', ' sin(j1)', ' cos(j2)', ' sin(j2)']].values\n",
    "        \n",
    "        y_3R = df_3R[[' ee_x', ' ee_y']].values\n",
    "    \n",
    "        y_3R_pred = model_3R.predict(X_3R)\n",
    "        mae_3R = mean_absolute_error(y_3R, y_3R_pred)\n",
    "        r2_3R = r2_score(y_3R, y_3R_pred)\n",
    "\n",
    "        print(f\"== Metrics for model {name_3R} on file {filename}\")\n",
    "        print(f\"== MAE: {mae_3R}\")\n",
    "        print(f\"== R2: {r2_3R}\\n\")"
   ]
  },
  {
   "cell_type": "markdown",
   "metadata": {},
   "source": [
    "### 2.3) 5R robot"
   ]
  },
  {
   "cell_type": "code",
   "execution_count": 24,
   "metadata": {},
   "outputs": [
    {
     "name": "stdout",
     "output_type": "stream",
     "text": [
      "\u001b[1m3125/3125\u001b[0m \u001b[32m━━━━━━━━━━━━━━━━━━━━\u001b[0m\u001b[37m\u001b[0m \u001b[1m2s\u001b[0m 749us/step\n",
      "== Metrics for model NN4_5R_p75_e20_raw.keras on file 5R_2184503_100.csv\n",
      "== MAE: 0.00820825085875925\n",
      "== R2: 0.9964214998775293\n",
      "\n",
      "\u001b[1m3125/3125\u001b[0m \u001b[32m━━━━━━━━━━━━━━━━━━━━\u001b[0m\u001b[37m\u001b[0m \u001b[1m2s\u001b[0m 774us/step\n",
      "== Metrics for model NN4_5R_p75_e20_raw.keras on file 5R_12345_100.csv\n",
      "== MAE: 0.008371550017793538\n",
      "== R2: 0.9962692111937236\n",
      "\n",
      "\u001b[1m3125/3125\u001b[0m \u001b[32m━━━━━━━━━━━━━━━━━━━━\u001b[0m\u001b[37m\u001b[0m \u001b[1m2s\u001b[0m 772us/step\n",
      "== Metrics for model NN4_5R_p75_e20_raw.keras on file 5R_1000_100.csv\n",
      "== MAE: 0.008469788042597544\n",
      "== R2: 0.9961821359548849\n",
      "\n",
      "\u001b[1m3125/3125\u001b[0m \u001b[32m━━━━━━━━━━━━━━━━━━━━\u001b[0m\u001b[37m\u001b[0m \u001b[1m2s\u001b[0m 697us/step\n",
      "== Metrics for model NN2_5R_p80_e20.keras on file 5R_2184503_100.csv\n",
      "== MAE: 0.0046744646903137095\n",
      "== R2: 0.9988577195182833\n",
      "\n",
      "\u001b[1m3125/3125\u001b[0m \u001b[32m━━━━━━━━━━━━━━━━━━━━\u001b[0m\u001b[37m\u001b[0m \u001b[1m2s\u001b[0m 715us/step\n",
      "== Metrics for model NN2_5R_p80_e20.keras on file 5R_12345_100.csv\n",
      "== MAE: 0.004794280347851889\n",
      "== R2: 0.9987977688663751\n",
      "\n",
      "\u001b[1m3125/3125\u001b[0m \u001b[32m━━━━━━━━━━━━━━━━━━━━\u001b[0m\u001b[37m\u001b[0m \u001b[1m2s\u001b[0m 698us/step\n",
      "== Metrics for model NN2_5R_p80_e20.keras on file 5R_1000_100.csv\n",
      "== MAE: 0.004794525141227044\n",
      "== R2: 0.9987998055514109\n",
      "\n",
      "\u001b[1m3125/3125\u001b[0m \u001b[32m━━━━━━━━━━━━━━━━━━━━\u001b[0m\u001b[37m\u001b[0m \u001b[1m2s\u001b[0m 674us/step\n",
      "== Metrics for model NN3_5R_p75_e20_raw.keras on file 5R_2184503_100.csv\n",
      "== MAE: 0.004795725758520292\n",
      "== R2: 0.9987722471181133\n",
      "\n",
      "\u001b[1m3125/3125\u001b[0m \u001b[32m━━━━━━━━━━━━━━━━━━━━\u001b[0m\u001b[37m\u001b[0m \u001b[1m2s\u001b[0m 670us/step\n",
      "== Metrics for model NN3_5R_p75_e20_raw.keras on file 5R_12345_100.csv\n",
      "== MAE: 0.004876834459813314\n",
      "== R2: 0.9987230175174745\n",
      "\n",
      "\u001b[1m3125/3125\u001b[0m \u001b[32m━━━━━━━━━━━━━━━━━━━━\u001b[0m\u001b[37m\u001b[0m \u001b[1m2s\u001b[0m 680us/step\n",
      "== Metrics for model NN3_5R_p75_e20_raw.keras on file 5R_1000_100.csv\n",
      "== MAE: 0.004921360787205199\n",
      "== R2: 0.9987125073907478\n",
      "\n"
     ]
    }
   ],
   "source": [
    "for model in MODELS_5R:\n",
    "    for filename in FILENAME_5R:\n",
    "        model_5R = model.model\n",
    "        name_5R =  model.get_name()\n",
    "        path = f'data/{filename}'\n",
    "\n",
    "        with open(path, 'rb') as f:\n",
    "            result = detect(f.read(10000))\n",
    "            encoding = result['encoding']\n",
    "        df_5R = pd.read_csv(path, sep=\";\", header=0, encoding=encoding).copy()\n",
    "\n",
    "        if 'raw' in name_5R:\n",
    "            X_5R = df_5R[['j0', ' j1', ' j2', ' j3', ' j4']].values\n",
    "        else: \n",
    "            X_5R = df_5R[[' cos(j0)', ' sin(j0)',\n",
    "                           ' cos(j1)', ' sin(j1)',\n",
    "                           ' cos(j2)', ' sin(j2)',\n",
    "                            ' cos(j3)', ' sin(j3)',\n",
    "                            ' cos(j4)', ' sin(j4)']].values\n",
    "        \n",
    "        y_5R = df_5R[[' ee_x', ' ee_y', ' ee_z']].values\n",
    "    \n",
    "        y_5R_pred = model_5R.predict(X_5R)\n",
    "        mae_5R = mean_absolute_error(y_5R, y_5R_pred)\n",
    "        r2_5R = r2_score(y_5R, y_5R_pred)\n",
    "\n",
    "        print(f\"== Metrics for model {name_5R} on file {filename}\")\n",
    "        print(f\"== MAE: {mae_5R}\")\n",
    "        print(f\"== R2: {r2_5R}\\n\")"
   ]
  }
 ],
 "metadata": {
  "kernelspec": {
   "display_name": "usr",
   "language": "python",
   "name": "python3"
  },
  "language_info": {
   "codemirror_mode": {
    "name": "ipython",
    "version": 3
   },
   "file_extension": ".py",
   "mimetype": "text/x-python",
   "name": "python",
   "nbconvert_exporter": "python",
   "pygments_lexer": "ipython3",
   "version": "3.12.3"
  }
 },
 "nbformat": 4,
 "nbformat_minor": 2
}
